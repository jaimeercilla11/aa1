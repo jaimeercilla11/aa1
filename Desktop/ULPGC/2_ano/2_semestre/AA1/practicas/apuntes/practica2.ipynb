{
 "cells": [
  {
   "cell_type": "markdown",
   "metadata": {},
   "source": [
    "# Práctica 2: Preprocesado básico de datos\n",
    "\n",
    "## Aprendizaje Automático I"
   ]
  },
  {
   "cell_type": "markdown",
   "metadata": {},
   "source": [
    "En muchos problemas de Aprendizaje Automático es necesario realizar un procesado de los datos antes de aplicar los métodos de aprendizaje. Esta fase se denomina como Ingeniería de Datos y es en si misma una disciplina. Aunque será cubierta con profundidad en la asignatura Análisis Exploratorio de Datos y Visualización, hay procesos muy sencillos como dividir los datos en un conjunto de entrenamiento y otro para prueba, convertir un dato simbólico en uno numérico, o escalar los valores numéricos de un conjunto de datos a un determinado rango. Estas serán las tareas que se realizarán en esta práctica."
   ]
  },
  {
   "cell_type": "markdown",
   "metadata": {},
   "source": [
    "## Valores perdidos\n",
    "\n",
    "En determinados problems puede ocurrir que no se disponga de todos los datos porque algunos no se hayan podido obtener, dando lugar a lo que se conoce como valores perdidos. Existen diferentes técnicas para tratarlos pero si el número no es muy alto comparado, una solución muy sencilla es eliminarlos. Hay otras técnicas denominadas de imputación cuyo objetivo es intentar estimar el valor perdido pero esta fuera del ámbito de esta asignatura.\n",
    "\n",
    "Pandas permite la detección de los valores perdidos de forma muy sencilla ya que se detectan con la función isna(). Devuelve un dataframe con las posiciones perdidas a True y el resto a False. En el caso de pasarle una columna, devuelve una serie."
   ]
  },
  {
   "cell_type": "code",
   "execution_count": 1,
   "metadata": {},
   "outputs": [],
   "source": [
    "import pandas as pd\n",
    "import numpy as np"
   ]
  },
  {
   "cell_type": "code",
   "execution_count": 2,
   "metadata": {},
   "outputs": [],
   "source": [
    "df = pd.read_csv('data/iris-small-perdidos.csv')"
   ]
  },
  {
   "cell_type": "code",
   "execution_count": 3,
   "metadata": {},
   "outputs": [
    {
     "data": {
      "text/html": [
       "<div>\n",
       "<style scoped>\n",
       "    .dataframe tbody tr th:only-of-type {\n",
       "        vertical-align: middle;\n",
       "    }\n",
       "\n",
       "    .dataframe tbody tr th {\n",
       "        vertical-align: top;\n",
       "    }\n",
       "\n",
       "    .dataframe thead th {\n",
       "        text-align: right;\n",
       "    }\n",
       "</style>\n",
       "<table border=\"1\" class=\"dataframe\">\n",
       "  <thead>\n",
       "    <tr style=\"text-align: right;\">\n",
       "      <th></th>\n",
       "      <th>sepal length</th>\n",
       "      <th>sepal width</th>\n",
       "      <th>petal length</th>\n",
       "      <th>petal width</th>\n",
       "      <th>class</th>\n",
       "    </tr>\n",
       "  </thead>\n",
       "  <tbody>\n",
       "    <tr>\n",
       "      <th>0</th>\n",
       "      <td>5.1</td>\n",
       "      <td>3.5</td>\n",
       "      <td>1.4</td>\n",
       "      <td>0.2</td>\n",
       "      <td>Iris-setosa</td>\n",
       "    </tr>\n",
       "    <tr>\n",
       "      <th>1</th>\n",
       "      <td>4.9</td>\n",
       "      <td>3.0</td>\n",
       "      <td>1.4</td>\n",
       "      <td>NaN</td>\n",
       "      <td>Iris-setosa</td>\n",
       "    </tr>\n",
       "    <tr>\n",
       "      <th>2</th>\n",
       "      <td>4.7</td>\n",
       "      <td>3.2</td>\n",
       "      <td>NaN</td>\n",
       "      <td>0.2</td>\n",
       "      <td>Iris-setosa</td>\n",
       "    </tr>\n",
       "    <tr>\n",
       "      <th>3</th>\n",
       "      <td>4.6</td>\n",
       "      <td>3.1</td>\n",
       "      <td>1.5</td>\n",
       "      <td>0.2</td>\n",
       "      <td>Iris-setosa</td>\n",
       "    </tr>\n",
       "    <tr>\n",
       "      <th>4</th>\n",
       "      <td>5.0</td>\n",
       "      <td>3.6</td>\n",
       "      <td>1.4</td>\n",
       "      <td>0.2</td>\n",
       "      <td>Iris-setosa</td>\n",
       "    </tr>\n",
       "    <tr>\n",
       "      <th>5</th>\n",
       "      <td>NaN</td>\n",
       "      <td>3.9</td>\n",
       "      <td>1.7</td>\n",
       "      <td>0.4</td>\n",
       "      <td>Iris-setosa</td>\n",
       "    </tr>\n",
       "    <tr>\n",
       "      <th>6</th>\n",
       "      <td>4.6</td>\n",
       "      <td>3.4</td>\n",
       "      <td>NaN</td>\n",
       "      <td>0.3</td>\n",
       "      <td>Iris-setosa</td>\n",
       "    </tr>\n",
       "    <tr>\n",
       "      <th>7</th>\n",
       "      <td>5.0</td>\n",
       "      <td>3.4</td>\n",
       "      <td>1.5</td>\n",
       "      <td>0.2</td>\n",
       "      <td>Iris-setosa</td>\n",
       "    </tr>\n",
       "    <tr>\n",
       "      <th>8</th>\n",
       "      <td>4.4</td>\n",
       "      <td>2.9</td>\n",
       "      <td>1.4</td>\n",
       "      <td>0.2</td>\n",
       "      <td>Iris-setosa</td>\n",
       "    </tr>\n",
       "    <tr>\n",
       "      <th>9</th>\n",
       "      <td>4.9</td>\n",
       "      <td>NaN</td>\n",
       "      <td>1.5</td>\n",
       "      <td>0.1</td>\n",
       "      <td>Iris-setosa</td>\n",
       "    </tr>\n",
       "  </tbody>\n",
       "</table>\n",
       "</div>"
      ],
      "text/plain": [
       "   sepal length  sepal width  petal length  petal width        class\n",
       "0           5.1          3.5           1.4          0.2  Iris-setosa\n",
       "1           4.9          3.0           1.4          NaN  Iris-setosa\n",
       "2           4.7          3.2           NaN          0.2  Iris-setosa\n",
       "3           4.6          3.1           1.5          0.2  Iris-setosa\n",
       "4           5.0          3.6           1.4          0.2  Iris-setosa\n",
       "5           NaN          3.9           1.7          0.4  Iris-setosa\n",
       "6           4.6          3.4           NaN          0.3  Iris-setosa\n",
       "7           5.0          3.4           1.5          0.2  Iris-setosa\n",
       "8           4.4          2.9           1.4          0.2  Iris-setosa\n",
       "9           4.9          NaN           1.5          0.1  Iris-setosa"
      ]
     },
     "execution_count": 3,
     "metadata": {},
     "output_type": "execute_result"
    }
   ],
   "source": [
    "df.head(10)"
   ]
  },
  {
   "cell_type": "code",
   "execution_count": 4,
   "metadata": {},
   "outputs": [
    {
     "name": "stdout",
     "output_type": "stream",
     "text": [
      "['Iris-setosa' 'Iris-versicolor' 'Iris-virginica']\n"
     ]
    }
   ],
   "source": [
    "print(df[\"class\"].unique())"
   ]
  },
  {
   "cell_type": "markdown",
   "metadata": {},
   "source": [
    "Devuelve un dataframe"
   ]
  },
  {
   "cell_type": "code",
   "execution_count": 5,
   "metadata": {},
   "outputs": [
    {
     "name": "stdout",
     "output_type": "stream",
     "text": [
      "    sepal length  sepal width  petal length  petal width  class\n",
      "0          False        False         False        False  False\n",
      "1          False        False         False         True  False\n",
      "2          False        False          True        False  False\n",
      "3          False        False         False        False  False\n",
      "4          False        False         False        False  False\n",
      "5           True        False         False        False  False\n",
      "6          False        False          True        False  False\n",
      "7          False        False         False        False  False\n",
      "8          False        False         False        False  False\n",
      "9          False         True         False        False  False\n",
      "10         False        False         False        False  False\n",
      "11         False        False         False        False  False\n",
      "12          True        False         False        False  False\n",
      "13         False         True          True        False  False\n",
      "14         False        False         False        False  False\n",
      "15         False         True         False        False  False\n",
      "16         False        False         False        False  False\n",
      "17         False        False         False        False  False\n",
      "18         False        False         False        False  False\n",
      "19         False        False         False         True  False\n",
      "20         False        False         False        False  False\n",
      "21         False        False          True        False  False\n",
      "22         False        False         False        False  False\n",
      "23         False        False         False        False  False\n",
      "24         False         True          True        False  False\n",
      "25         False        False         False         True  False\n",
      "26         False        False         False        False  False\n",
      "27         False        False         False        False  False\n",
      "28         False        False         False        False  False\n",
      "29         False        False         False        False  False\n",
      "30         False        False         False        False  False\n",
      "31         False        False         False        False  False\n",
      "32         False        False         False        False  False\n",
      "33         False        False         False        False  False\n",
      "34         False         True         False        False  False\n",
      "35         False        False         False         True  False\n",
      "36         False        False         False        False  False\n",
      "37         False        False         False        False  False\n",
      "38         False        False         False        False  False\n",
      "39         False        False         False        False  False\n",
      "40          True        False         False        False  False\n",
      "41         False        False         False        False  False\n",
      "42         False        False         False        False  False\n",
      "43         False        False         False        False  False\n",
      "44         False        False         False        False  False\n",
      "45         False        False         False        False  False\n",
      "46         False        False         False         True  False\n",
      "47         False        False         False        False  False\n",
      "48         False        False         False        False  False\n",
      "49         False        False         False        False  False\n",
      "50         False        False         False        False  False\n",
      "51         False        False          True        False  False\n",
      "52         False        False         False        False  False\n",
      "53         False        False         False        False  False\n",
      "54         False        False         False        False  False\n",
      "55         False        False         False        False  False\n",
      "56         False        False         False        False  False\n",
      "57         False        False         False        False  False\n",
      "58         False        False         False        False  False\n",
      "59         False        False         False        False  False\n"
     ]
    }
   ],
   "source": [
    "perdidos = df.isna() # retorna um DataFrame con True para valores NaN\n",
    "print(perdidos)"
   ]
  },
  {
   "cell_type": "markdown",
   "metadata": {},
   "source": [
    "Devuelve una serie"
   ]
  },
  {
   "cell_type": "code",
   "execution_count": 6,
   "metadata": {},
   "outputs": [
    {
     "name": "stdout",
     "output_type": "stream",
     "text": [
      "0     False\n",
      "1     False\n",
      "2     False\n",
      "3     False\n",
      "4     False\n",
      "5      True\n",
      "6     False\n",
      "7     False\n",
      "8     False\n",
      "9     False\n",
      "10    False\n",
      "11    False\n",
      "12     True\n",
      "13    False\n",
      "14    False\n",
      "15    False\n",
      "16    False\n",
      "17    False\n",
      "18    False\n",
      "19    False\n",
      "20    False\n",
      "21    False\n",
      "22    False\n",
      "23    False\n",
      "24    False\n",
      "25    False\n",
      "26    False\n",
      "27    False\n",
      "28    False\n",
      "29    False\n",
      "30    False\n",
      "31    False\n",
      "32    False\n",
      "33    False\n",
      "34    False\n",
      "35    False\n",
      "36    False\n",
      "37    False\n",
      "38    False\n",
      "39    False\n",
      "40     True\n",
      "41    False\n",
      "42    False\n",
      "43    False\n",
      "44    False\n",
      "45    False\n",
      "46    False\n",
      "47    False\n",
      "48    False\n",
      "49    False\n",
      "50    False\n",
      "51    False\n",
      "52    False\n",
      "53    False\n",
      "54    False\n",
      "55    False\n",
      "56    False\n",
      "57    False\n",
      "58    False\n",
      "59    False\n",
      "Name: sepal length, dtype: bool\n"
     ]
    }
   ],
   "source": [
    "perdidos = df['sepal length'].isna()\n",
    "print(perdidos)"
   ]
  },
  {
   "cell_type": "markdown",
   "metadata": {},
   "source": [
    "#### Ejercicio propuesto para hacer en clase\n",
    "\n",
    "Contar el número de valores perdidos para cada una de las variables\n",
    "\n",
    "Posible solución:"
   ]
  },
  {
   "cell_type": "code",
   "execution_count": 7,
   "metadata": {},
   "outputs": [
    {
     "name": "stdout",
     "output_type": "stream",
     "text": [
      "Valores perdidos en variable sepal length: 3\n",
      "Porcentaje de valores perdidos en variable sepal length: 5.00%\n",
      "Valores perdidos en variable sepal width: 5\n",
      "Porcentaje de valores perdidos en variable sepal width: 8.33%\n",
      "Valores perdidos en variable petal length: 6\n",
      "Porcentaje de valores perdidos en variable petal length: 10.00%\n",
      "Valores perdidos en variable petal width: 5\n",
      "Porcentaje de valores perdidos en variable petal width: 8.33%\n",
      "Valores perdidos en variable class: 0\n",
      "Porcentaje de valores perdidos en variable class: 0.00%\n"
     ]
    }
   ],
   "source": [
    "variables = df.columns\n",
    "for variable in variables:\n",
    "    perdidos = df[variable].isna()\n",
    "    longitud = len(df[variable])\n",
    "    # Las series se pueden tratar como arrays de numpy (que en el fondo lo son)\n",
    "    print(f'Valores perdidos en variable {variable}: {np.sum(perdidos)}')\n",
    "    print(f'Porcentaje de valores perdidos en variable {variable}: {np.mean(perdidos)*100:.2f}%')"
   ]
  },
  {
   "cell_type": "markdown",
   "metadata": {},
   "source": [
    "No esta mal, no es un desastre, cuando tenemos pocos valores perdidos lo normal es quitarlos"
   ]
  },
  {
   "cell_type": "code",
   "execution_count": 8,
   "metadata": {},
   "outputs": [
    {
     "data": {
      "text/html": [
       "<div>\n",
       "<style scoped>\n",
       "    .dataframe tbody tr th:only-of-type {\n",
       "        vertical-align: middle;\n",
       "    }\n",
       "\n",
       "    .dataframe tbody tr th {\n",
       "        vertical-align: top;\n",
       "    }\n",
       "\n",
       "    .dataframe thead th {\n",
       "        text-align: right;\n",
       "    }\n",
       "</style>\n",
       "<table border=\"1\" class=\"dataframe\">\n",
       "  <thead>\n",
       "    <tr style=\"text-align: right;\">\n",
       "      <th></th>\n",
       "      <th>sepal length</th>\n",
       "      <th>sepal width</th>\n",
       "      <th>petal length</th>\n",
       "      <th>petal width</th>\n",
       "      <th>class</th>\n",
       "    </tr>\n",
       "  </thead>\n",
       "  <tbody>\n",
       "    <tr>\n",
       "      <th>0</th>\n",
       "      <td>5.1</td>\n",
       "      <td>3.5</td>\n",
       "      <td>1.4</td>\n",
       "      <td>0.2</td>\n",
       "      <td>Iris-setosa</td>\n",
       "    </tr>\n",
       "    <tr>\n",
       "      <th>3</th>\n",
       "      <td>4.6</td>\n",
       "      <td>3.1</td>\n",
       "      <td>1.5</td>\n",
       "      <td>0.2</td>\n",
       "      <td>Iris-setosa</td>\n",
       "    </tr>\n",
       "    <tr>\n",
       "      <th>4</th>\n",
       "      <td>5.0</td>\n",
       "      <td>3.6</td>\n",
       "      <td>1.4</td>\n",
       "      <td>0.2</td>\n",
       "      <td>Iris-setosa</td>\n",
       "    </tr>\n",
       "    <tr>\n",
       "      <th>7</th>\n",
       "      <td>5.0</td>\n",
       "      <td>3.4</td>\n",
       "      <td>1.5</td>\n",
       "      <td>0.2</td>\n",
       "      <td>Iris-setosa</td>\n",
       "    </tr>\n",
       "    <tr>\n",
       "      <th>8</th>\n",
       "      <td>4.4</td>\n",
       "      <td>2.9</td>\n",
       "      <td>1.4</td>\n",
       "      <td>0.2</td>\n",
       "      <td>Iris-setosa</td>\n",
       "    </tr>\n",
       "    <tr>\n",
       "      <th>10</th>\n",
       "      <td>5.4</td>\n",
       "      <td>3.7</td>\n",
       "      <td>1.5</td>\n",
       "      <td>0.2</td>\n",
       "      <td>Iris-setosa</td>\n",
       "    </tr>\n",
       "    <tr>\n",
       "      <th>11</th>\n",
       "      <td>4.8</td>\n",
       "      <td>3.4</td>\n",
       "      <td>1.6</td>\n",
       "      <td>0.2</td>\n",
       "      <td>Iris-setosa</td>\n",
       "    </tr>\n",
       "    <tr>\n",
       "      <th>14</th>\n",
       "      <td>5.8</td>\n",
       "      <td>4.0</td>\n",
       "      <td>1.2</td>\n",
       "      <td>0.2</td>\n",
       "      <td>Iris-setosa</td>\n",
       "    </tr>\n",
       "    <tr>\n",
       "      <th>16</th>\n",
       "      <td>5.4</td>\n",
       "      <td>3.9</td>\n",
       "      <td>1.3</td>\n",
       "      <td>0.4</td>\n",
       "      <td>Iris-setosa</td>\n",
       "    </tr>\n",
       "    <tr>\n",
       "      <th>17</th>\n",
       "      <td>5.1</td>\n",
       "      <td>3.5</td>\n",
       "      <td>1.4</td>\n",
       "      <td>0.3</td>\n",
       "      <td>Iris-setosa</td>\n",
       "    </tr>\n",
       "  </tbody>\n",
       "</table>\n",
       "</div>"
      ],
      "text/plain": [
       "    sepal length  sepal width  petal length  petal width        class\n",
       "0            5.1          3.5           1.4          0.2  Iris-setosa\n",
       "3            4.6          3.1           1.5          0.2  Iris-setosa\n",
       "4            5.0          3.6           1.4          0.2  Iris-setosa\n",
       "7            5.0          3.4           1.5          0.2  Iris-setosa\n",
       "8            4.4          2.9           1.4          0.2  Iris-setosa\n",
       "10           5.4          3.7           1.5          0.2  Iris-setosa\n",
       "11           4.8          3.4           1.6          0.2  Iris-setosa\n",
       "14           5.8          4.0           1.2          0.2  Iris-setosa\n",
       "16           5.4          3.9           1.3          0.4  Iris-setosa\n",
       "17           5.1          3.5           1.4          0.3  Iris-setosa"
      ]
     },
     "execution_count": 8,
     "metadata": {},
     "output_type": "execute_result"
    }
   ],
   "source": [
    "# quitar filas con valores perdidos\n",
    "df = df.dropna()\n",
    "df.head(10)"
   ]
  },
  {
   "cell_type": "code",
   "execution_count": null,
   "metadata": {},
   "outputs": [
    {
     "name": "stdout",
     "output_type": "stream",
     "text": [
      "   sepal length  sepal width  petal length  petal width        class\n",
      "0           5.1          3.5           1.4          0.2  Iris-setosa\n",
      "1           4.9          3.0           1.4          NaN  Iris-setosa\n",
      "2           4.7          3.2           NaN          0.2  Iris-setosa\n",
      "3           4.6          3.1           1.5          0.2  Iris-setosa\n",
      "4           5.0          3.6           1.4          0.2  Iris-setosa\n",
      "5           NaN          3.9           1.7          0.4  Iris-setosa\n",
      "6           4.6          3.4           NaN          0.3  Iris-setosa\n",
      "7           5.0          3.4           1.5          0.2  Iris-setosa\n",
      "8           4.4          2.9           1.4          0.2  Iris-setosa\n",
      "9           4.9          NaN           1.5          0.1  Iris-setosa\n",
      "   sepal length  sepal width  petal length  petal width        class\n",
      "0      5.100000     3.500000      1.400000     0.200000  Iris-setosa\n",
      "1      4.900000     3.000000      1.400000     1.221818  Iris-setosa\n",
      "2      4.700000     3.200000      3.864815     0.200000  Iris-setosa\n",
      "3      4.600000     3.100000      1.500000     0.200000  Iris-setosa\n",
      "4      5.000000     3.600000      1.400000     0.200000  Iris-setosa\n",
      "5      5.875439     3.900000      1.700000     0.400000  Iris-setosa\n",
      "6      4.600000     3.400000      3.864815     0.300000  Iris-setosa\n",
      "7      5.000000     3.400000      1.500000     0.200000  Iris-setosa\n",
      "8      4.400000     2.900000      1.400000     0.200000  Iris-setosa\n",
      "9      4.900000     3.036364      1.500000     0.100000  Iris-setosa\n"
     ]
    }
   ],
   "source": [
    "#Utilizando los datos del archivo iris-perdidos.csv, sustituir para cada variable los\n",
    "# valores perdidos por el promedio de los valores de dicha variable\n",
    "\n",
    "df = pd.read_csv('data/iris-small-perdidos.csv')\n",
    "\n",
    "print(df.head(10))\n",
    "\n",
    "variables = df.columns\n",
    "\n",
    "for variable in variables[:-1]:\n",
    "\n",
    "    media = np.mean(df[variable])\n",
    "    df[variable] = df[variable].fillna(media)\n",
    "\n",
    "print(df.head(10))"
   ]
  },
  {
   "cell_type": "markdown",
   "metadata": {},
   "source": [
    "## Normalización de rangos\n",
    "\n",
    "En algunos casos los datos poseen rangos muy diferentes para las diferentes variables que se consideran y para determinados modelos esto puede dar lugar a un rendimiento muy bajo de los mismos. Por ejemplo los modelos basados en distancias como el vecino más próximo o el centroide más próximo se ven muy afectados si todas las variables no tienen un rango similar. Otro caso son la redes neuronales o las máquinas de vectores soporte.\n",
    "\n",
    "La librería sklearn dispone de un modulo de preprocesado que incluye la normalización de los rangos.\n",
    "\n",
    "Explicar que la función describe muestra algunos estadísticos básicos de las variables numéricas."
   ]
  },
  {
   "cell_type": "code",
   "execution_count": 10,
   "metadata": {},
   "outputs": [
    {
     "data": {
      "text/html": [
       "<div>\n",
       "<style scoped>\n",
       "    .dataframe tbody tr th:only-of-type {\n",
       "        vertical-align: middle;\n",
       "    }\n",
       "\n",
       "    .dataframe tbody tr th {\n",
       "        vertical-align: top;\n",
       "    }\n",
       "\n",
       "    .dataframe thead th {\n",
       "        text-align: right;\n",
       "    }\n",
       "</style>\n",
       "<table border=\"1\" class=\"dataframe\">\n",
       "  <thead>\n",
       "    <tr style=\"text-align: right;\">\n",
       "      <th></th>\n",
       "      <th>sepal length</th>\n",
       "      <th>sepal width</th>\n",
       "      <th>petal length</th>\n",
       "      <th>petal width</th>\n",
       "    </tr>\n",
       "  </thead>\n",
       "  <tbody>\n",
       "    <tr>\n",
       "      <th>count</th>\n",
       "      <td>60.000000</td>\n",
       "      <td>60.000000</td>\n",
       "      <td>60.000000</td>\n",
       "      <td>60.000000</td>\n",
       "    </tr>\n",
       "    <tr>\n",
       "      <th>mean</th>\n",
       "      <td>5.856667</td>\n",
       "      <td>3.053333</td>\n",
       "      <td>3.781667</td>\n",
       "      <td>1.201667</td>\n",
       "    </tr>\n",
       "    <tr>\n",
       "      <th>std</th>\n",
       "      <td>0.865804</td>\n",
       "      <td>0.494192</td>\n",
       "      <td>1.826499</td>\n",
       "      <td>0.776453</td>\n",
       "    </tr>\n",
       "    <tr>\n",
       "      <th>min</th>\n",
       "      <td>4.300000</td>\n",
       "      <td>2.000000</td>\n",
       "      <td>1.100000</td>\n",
       "      <td>0.100000</td>\n",
       "    </tr>\n",
       "    <tr>\n",
       "      <th>25%</th>\n",
       "      <td>5.100000</td>\n",
       "      <td>2.775000</td>\n",
       "      <td>1.500000</td>\n",
       "      <td>0.300000</td>\n",
       "    </tr>\n",
       "    <tr>\n",
       "      <th>50%</th>\n",
       "      <td>5.800000</td>\n",
       "      <td>3.000000</td>\n",
       "      <td>4.450000</td>\n",
       "      <td>1.400000</td>\n",
       "    </tr>\n",
       "    <tr>\n",
       "      <th>75%</th>\n",
       "      <td>6.500000</td>\n",
       "      <td>3.325000</td>\n",
       "      <td>5.100000</td>\n",
       "      <td>1.800000</td>\n",
       "    </tr>\n",
       "    <tr>\n",
       "      <th>max</th>\n",
       "      <td>7.700000</td>\n",
       "      <td>4.400000</td>\n",
       "      <td>6.900000</td>\n",
       "      <td>2.500000</td>\n",
       "    </tr>\n",
       "  </tbody>\n",
       "</table>\n",
       "</div>"
      ],
      "text/plain": [
       "       sepal length  sepal width  petal length  petal width\n",
       "count     60.000000    60.000000     60.000000    60.000000\n",
       "mean       5.856667     3.053333      3.781667     1.201667\n",
       "std        0.865804     0.494192      1.826499     0.776453\n",
       "min        4.300000     2.000000      1.100000     0.100000\n",
       "25%        5.100000     2.775000      1.500000     0.300000\n",
       "50%        5.800000     3.000000      4.450000     1.400000\n",
       "75%        6.500000     3.325000      5.100000     1.800000\n",
       "max        7.700000     4.400000      6.900000     2.500000"
      ]
     },
     "execution_count": 10,
     "metadata": {},
     "output_type": "execute_result"
    }
   ],
   "source": [
    "df = pd.read_csv('data/iris-small.csv')\n",
    "df.describe()"
   ]
  },
  {
   "cell_type": "markdown",
   "metadata": {},
   "source": [
    "Numpy posee método para obtener el máximo y mínimo de un array de forma global si no se indica el eje, por columnas si el eje es el 0 o po r filas si el eje es el 1"
   ]
  },
  {
   "cell_type": "markdown",
   "metadata": {},
   "source": [
    "#### Ejercicio propuesto para hacer en clase\n",
    "\n",
    "Implementar una función que acepte un array unidimensional (vector) numpy y escale los valores entre 0 y 1. Utilizar las funciones max y min de numpy.\n",
    "\n",
    "Posible solución:"
   ]
  },
  {
   "cell_type": "code",
   "execution_count": 11,
   "metadata": {},
   "outputs": [],
   "source": [
    "def normaliza(vector):\n",
    "    maximo = np.max(vector)\n",
    "    minimo = np.min(vector)\n",
    "\n",
    "    resultado = (vector - minimo) / (maximo - minimo)\n",
    "\n",
    "    return resultado"
   ]
  },
  {
   "cell_type": "code",
   "execution_count": 12,
   "metadata": {},
   "outputs": [
    {
     "name": "stdout",
     "output_type": "stream",
     "text": [
      "[16 15  1 12  3  1  6  3 11  4]\n",
      "[1.         0.93333333 0.         0.73333333 0.13333333 0.\n",
      " 0.33333333 0.13333333 0.66666667 0.2       ]\n"
     ]
    }
   ],
   "source": [
    "v = np.random.randint(20, size=10)\n",
    "print(v)\n",
    "res = normaliza(v)\n",
    "print(res)"
   ]
  },
  {
   "cell_type": "markdown",
   "metadata": {},
   "source": [
    "Sklearn incluye en el módulo preprocessing la clase MinMaxScaler que realiza un escalado lineal de las variables entre un valor mínimo y máximo. Por defecto esos valores están entre 0 y 1. La clase devuelve un array numpy aunque puede aceptar dataframes de pandas.\n",
    "\n",
    "La API de sklearn para obtener los parámetros de la mayoría de los modelos y métodos que incluye se basa en llamar al método fit con el que se ajustan los parámetros del modelo. Luego mediante el método transform se aplica el modelo. Si se desea realizar los dos pasos a la vez se puede utilizar el método fit_transform."
   ]
  },
  {
   "cell_type": "code",
   "execution_count": null,
   "metadata": {},
   "outputs": [],
   "source": [
    "!pip install scikit-learn"
   ]
  },
  {
   "cell_type": "code",
   "execution_count": 13,
   "metadata": {},
   "outputs": [],
   "source": [
    "from sklearn.preprocessing import MinMaxScaler"
   ]
  },
  {
   "cell_type": "code",
   "execution_count": 14,
   "metadata": {},
   "outputs": [
    {
     "data": {
      "text/plain": [
       "array([[5.1, 3.5, 1.4, 0.2],\n",
       "       [4.9, 3.0, 1.4, 0.2],\n",
       "       [4.7, 3.2, 1.3, 0.2],\n",
       "       [4.6, 3.1, 1.5, 0.2],\n",
       "       [5.0, 3.6, 1.4, 0.2],\n",
       "       [5.4, 3.9, 1.7, 0.4],\n",
       "       [4.6, 3.4, 1.4, 0.3],\n",
       "       [5.0, 3.4, 1.5, 0.2],\n",
       "       [4.4, 2.9, 1.4, 0.2],\n",
       "       [4.9, 3.1, 1.5, 0.1],\n",
       "       [5.4, 3.7, 1.5, 0.2],\n",
       "       [4.8, 3.4, 1.6, 0.2],\n",
       "       [4.8, 3.0, 1.4, 0.1],\n",
       "       [4.3, 3.0, 1.1, 0.1],\n",
       "       [5.8, 4.0, 1.2, 0.2],\n",
       "       [5.7, 4.4, 1.5, 0.4],\n",
       "       [5.4, 3.9, 1.3, 0.4],\n",
       "       [5.1, 3.5, 1.4, 0.3],\n",
       "       [5.7, 3.8, 1.7, 0.3],\n",
       "       [5.1, 3.8, 1.5, 0.3],\n",
       "       [7.0, 3.2, 4.7, 1.4],\n",
       "       [6.4, 3.2, 4.5, 1.5],\n",
       "       [6.9, 3.1, 4.9, 1.5],\n",
       "       [5.5, 2.3, 4.0, 1.3],\n",
       "       [6.5, 2.8, 4.6, 1.5],\n",
       "       [5.7, 2.8, 4.5, 1.3],\n",
       "       [6.3, 3.3, 4.7, 1.6],\n",
       "       [4.9, 2.4, 3.3, 1.0],\n",
       "       [6.6, 2.9, 4.6, 1.3],\n",
       "       [5.2, 2.7, 3.9, 1.4],\n",
       "       [5.0, 2.0, 3.5, 1.0],\n",
       "       [5.9, 3.0, 4.2, 1.5],\n",
       "       [6.0, 2.2, 4.0, 1.0],\n",
       "       [6.1, 2.9, 4.7, 1.4],\n",
       "       [5.6, 2.9, 3.6, 1.3],\n",
       "       [6.7, 3.1, 4.4, 1.4],\n",
       "       [5.6, 3.0, 4.5, 1.5],\n",
       "       [5.8, 2.7, 4.1, 1.0],\n",
       "       [6.2, 2.2, 4.5, 1.5],\n",
       "       [5.6, 2.5, 3.9, 1.1],\n",
       "       [6.3, 3.3, 6.0, 2.5],\n",
       "       [5.8, 2.7, 5.1, 1.9],\n",
       "       [7.1, 3.0, 5.9, 2.1],\n",
       "       [6.3, 2.9, 5.6, 1.8],\n",
       "       [6.5, 3.0, 5.8, 2.2],\n",
       "       [7.6, 3.0, 6.6, 2.1],\n",
       "       [4.9, 2.5, 4.5, 1.7],\n",
       "       [7.3, 2.9, 6.3, 1.8],\n",
       "       [6.7, 2.5, 5.8, 1.8],\n",
       "       [7.2, 3.6, 6.1, 2.5],\n",
       "       [6.5, 3.2, 5.1, 2.0],\n",
       "       [6.4, 2.7, 5.3, 1.9],\n",
       "       [6.8, 3.0, 5.5, 2.1],\n",
       "       [5.7, 2.5, 5.0, 2.0],\n",
       "       [5.8, 2.8, 5.1, 2.4],\n",
       "       [6.4, 3.2, 5.3, 2.3],\n",
       "       [6.5, 3.0, 5.5, 1.8],\n",
       "       [7.7, 3.8, 6.7, 2.2],\n",
       "       [7.7, 2.6, 6.9, 2.3],\n",
       "       [6.0, 2.2, 5.0, 1.5]], dtype=object)"
      ]
     },
     "execution_count": 14,
     "metadata": {},
     "output_type": "execute_result"
    }
   ],
   "source": [
    "datos = df.values\n",
    "variables = datos[:,:-1]\n",
    "variables"
   ]
  },
  {
   "cell_type": "code",
   "execution_count": 15,
   "metadata": {},
   "outputs": [
    {
     "data": {
      "text/plain": [
       "array([[0.23529412, 0.625     , 0.05172414, 0.04166667],\n",
       "       [0.17647059, 0.41666667, 0.05172414, 0.04166667],\n",
       "       [0.11764706, 0.5       , 0.03448276, 0.04166667],\n",
       "       [0.08823529, 0.45833333, 0.06896552, 0.04166667],\n",
       "       [0.20588235, 0.66666667, 0.05172414, 0.04166667],\n",
       "       [0.32352941, 0.79166667, 0.10344828, 0.125     ],\n",
       "       [0.08823529, 0.58333333, 0.05172414, 0.08333333],\n",
       "       [0.20588235, 0.58333333, 0.06896552, 0.04166667],\n",
       "       [0.02941176, 0.375     , 0.05172414, 0.04166667],\n",
       "       [0.17647059, 0.45833333, 0.06896552, 0.        ],\n",
       "       [0.32352941, 0.70833333, 0.06896552, 0.04166667],\n",
       "       [0.14705882, 0.58333333, 0.0862069 , 0.04166667],\n",
       "       [0.14705882, 0.41666667, 0.05172414, 0.        ],\n",
       "       [0.        , 0.41666667, 0.        , 0.        ],\n",
       "       [0.44117647, 0.83333333, 0.01724138, 0.04166667],\n",
       "       [0.41176471, 1.        , 0.06896552, 0.125     ],\n",
       "       [0.32352941, 0.79166667, 0.03448276, 0.125     ],\n",
       "       [0.23529412, 0.625     , 0.05172414, 0.08333333],\n",
       "       [0.41176471, 0.75      , 0.10344828, 0.08333333],\n",
       "       [0.23529412, 0.75      , 0.06896552, 0.08333333],\n",
       "       [0.79411765, 0.5       , 0.62068966, 0.54166667],\n",
       "       [0.61764706, 0.5       , 0.5862069 , 0.58333333],\n",
       "       [0.76470588, 0.45833333, 0.65517241, 0.58333333],\n",
       "       [0.35294118, 0.125     , 0.5       , 0.5       ],\n",
       "       [0.64705882, 0.33333333, 0.60344828, 0.58333333],\n",
       "       [0.41176471, 0.33333333, 0.5862069 , 0.5       ],\n",
       "       [0.58823529, 0.54166667, 0.62068966, 0.625     ],\n",
       "       [0.17647059, 0.16666667, 0.37931034, 0.375     ],\n",
       "       [0.67647059, 0.375     , 0.60344828, 0.5       ],\n",
       "       [0.26470588, 0.29166667, 0.48275862, 0.54166667],\n",
       "       [0.20588235, 0.        , 0.4137931 , 0.375     ],\n",
       "       [0.47058824, 0.41666667, 0.53448276, 0.58333333],\n",
       "       [0.5       , 0.08333333, 0.5       , 0.375     ],\n",
       "       [0.52941176, 0.375     , 0.62068966, 0.54166667],\n",
       "       [0.38235294, 0.375     , 0.43103448, 0.5       ],\n",
       "       [0.70588235, 0.45833333, 0.56896552, 0.54166667],\n",
       "       [0.38235294, 0.41666667, 0.5862069 , 0.58333333],\n",
       "       [0.44117647, 0.29166667, 0.51724138, 0.375     ],\n",
       "       [0.55882353, 0.08333333, 0.5862069 , 0.58333333],\n",
       "       [0.38235294, 0.20833333, 0.48275862, 0.41666667],\n",
       "       [0.58823529, 0.54166667, 0.84482759, 1.        ],\n",
       "       [0.44117647, 0.29166667, 0.68965517, 0.75      ],\n",
       "       [0.82352941, 0.41666667, 0.82758621, 0.83333333],\n",
       "       [0.58823529, 0.375     , 0.77586207, 0.70833333],\n",
       "       [0.64705882, 0.41666667, 0.81034483, 0.875     ],\n",
       "       [0.97058824, 0.41666667, 0.94827586, 0.83333333],\n",
       "       [0.17647059, 0.20833333, 0.5862069 , 0.66666667],\n",
       "       [0.88235294, 0.375     , 0.89655172, 0.70833333],\n",
       "       [0.70588235, 0.20833333, 0.81034483, 0.70833333],\n",
       "       [0.85294118, 0.66666667, 0.86206897, 1.        ],\n",
       "       [0.64705882, 0.5       , 0.68965517, 0.79166667],\n",
       "       [0.61764706, 0.29166667, 0.72413793, 0.75      ],\n",
       "       [0.73529412, 0.41666667, 0.75862069, 0.83333333],\n",
       "       [0.41176471, 0.20833333, 0.67241379, 0.79166667],\n",
       "       [0.44117647, 0.33333333, 0.68965517, 0.95833333],\n",
       "       [0.61764706, 0.5       , 0.72413793, 0.91666667],\n",
       "       [0.64705882, 0.41666667, 0.75862069, 0.70833333],\n",
       "       [1.        , 0.75      , 0.96551724, 0.875     ],\n",
       "       [1.        , 0.25      , 1.        , 0.91666667],\n",
       "       [0.5       , 0.08333333, 0.67241379, 0.58333333]])"
      ]
     },
     "execution_count": 15,
     "metadata": {},
     "output_type": "execute_result"
    }
   ],
   "source": [
    "normalizador = MinMaxScaler()\n",
    "normalizador.fit(variables)\n",
    "res = normalizador.transform(variables)\n",
    "res"
   ]
  },
  {
   "cell_type": "code",
   "execution_count": 16,
   "metadata": {},
   "outputs": [
    {
     "name": "stdout",
     "output_type": "stream",
     "text": [
      "[1. 1. 1. 1.]\n",
      "[0. 0. 0. 0.]\n"
     ]
    }
   ],
   "source": [
    "print(np.max(res,axis=0))\n",
    "print(np.min(res,axis=0))"
   ]
  },
  {
   "cell_type": "markdown",
   "metadata": {},
   "source": [
    "Cambiar los límites para escalar y utilizar fit_transform"
   ]
  },
  {
   "cell_type": "code",
   "execution_count": 18,
   "metadata": {},
   "outputs": [
    {
     "data": {
      "text/plain": [
       "array([[ -5.29411765,   2.5       ,  -8.96551724,  -9.16666667],\n",
       "       [ -6.47058824,  -1.66666667,  -8.96551724,  -9.16666667],\n",
       "       [ -7.64705882,   0.        ,  -9.31034483,  -9.16666667],\n",
       "       [ -8.23529412,  -0.83333333,  -8.62068966,  -9.16666667],\n",
       "       [ -5.88235294,   3.33333333,  -8.96551724,  -9.16666667],\n",
       "       [ -3.52941176,   5.83333333,  -7.93103448,  -7.5       ],\n",
       "       [ -8.23529412,   1.66666667,  -8.96551724,  -8.33333333],\n",
       "       [ -5.88235294,   1.66666667,  -8.62068966,  -9.16666667],\n",
       "       [ -9.41176471,  -2.5       ,  -8.96551724,  -9.16666667],\n",
       "       [ -6.47058824,  -0.83333333,  -8.62068966, -10.        ],\n",
       "       [ -3.52941176,   4.16666667,  -8.62068966,  -9.16666667],\n",
       "       [ -7.05882353,   1.66666667,  -8.27586207,  -9.16666667],\n",
       "       [ -7.05882353,  -1.66666667,  -8.96551724, -10.        ],\n",
       "       [-10.        ,  -1.66666667, -10.        , -10.        ],\n",
       "       [ -1.17647059,   6.66666667,  -9.65517241,  -9.16666667],\n",
       "       [ -1.76470588,  10.        ,  -8.62068966,  -7.5       ],\n",
       "       [ -3.52941176,   5.83333333,  -9.31034483,  -7.5       ],\n",
       "       [ -5.29411765,   2.5       ,  -8.96551724,  -8.33333333],\n",
       "       [ -1.76470588,   5.        ,  -7.93103448,  -8.33333333],\n",
       "       [ -5.29411765,   5.        ,  -8.62068966,  -8.33333333],\n",
       "       [  5.88235294,   0.        ,   2.4137931 ,   0.83333333],\n",
       "       [  2.35294118,   0.        ,   1.72413793,   1.66666667],\n",
       "       [  5.29411765,  -0.83333333,   3.10344828,   1.66666667],\n",
       "       [ -2.94117647,  -7.5       ,   0.        ,   0.        ],\n",
       "       [  2.94117647,  -3.33333333,   2.06896552,   1.66666667],\n",
       "       [ -1.76470588,  -3.33333333,   1.72413793,   0.        ],\n",
       "       [  1.76470588,   0.83333333,   2.4137931 ,   2.5       ],\n",
       "       [ -6.47058824,  -6.66666667,  -2.4137931 ,  -2.5       ],\n",
       "       [  3.52941176,  -2.5       ,   2.06896552,   0.        ],\n",
       "       [ -4.70588235,  -4.16666667,  -0.34482759,   0.83333333],\n",
       "       [ -5.88235294, -10.        ,  -1.72413793,  -2.5       ],\n",
       "       [ -0.58823529,  -1.66666667,   0.68965517,   1.66666667],\n",
       "       [  0.        ,  -8.33333333,   0.        ,  -2.5       ],\n",
       "       [  0.58823529,  -2.5       ,   2.4137931 ,   0.83333333],\n",
       "       [ -2.35294118,  -2.5       ,  -1.37931034,   0.        ],\n",
       "       [  4.11764706,  -0.83333333,   1.37931034,   0.83333333],\n",
       "       [ -2.35294118,  -1.66666667,   1.72413793,   1.66666667],\n",
       "       [ -1.17647059,  -4.16666667,   0.34482759,  -2.5       ],\n",
       "       [  1.17647059,  -8.33333333,   1.72413793,   1.66666667],\n",
       "       [ -2.35294118,  -5.83333333,  -0.34482759,  -1.66666667],\n",
       "       [  1.76470588,   0.83333333,   6.89655172,  10.        ],\n",
       "       [ -1.17647059,  -4.16666667,   3.79310345,   5.        ],\n",
       "       [  6.47058824,  -1.66666667,   6.55172414,   6.66666667],\n",
       "       [  1.76470588,  -2.5       ,   5.51724138,   4.16666667],\n",
       "       [  2.94117647,  -1.66666667,   6.20689655,   7.5       ],\n",
       "       [  9.41176471,  -1.66666667,   8.96551724,   6.66666667],\n",
       "       [ -6.47058824,  -5.83333333,   1.72413793,   3.33333333],\n",
       "       [  7.64705882,  -2.5       ,   7.93103448,   4.16666667],\n",
       "       [  4.11764706,  -5.83333333,   6.20689655,   4.16666667],\n",
       "       [  7.05882353,   3.33333333,   7.24137931,  10.        ],\n",
       "       [  2.94117647,   0.        ,   3.79310345,   5.83333333],\n",
       "       [  2.35294118,  -4.16666667,   4.48275862,   5.        ],\n",
       "       [  4.70588235,  -1.66666667,   5.17241379,   6.66666667],\n",
       "       [ -1.76470588,  -5.83333333,   3.44827586,   5.83333333],\n",
       "       [ -1.17647059,  -3.33333333,   3.79310345,   9.16666667],\n",
       "       [  2.35294118,   0.        ,   4.48275862,   8.33333333],\n",
       "       [  2.94117647,  -1.66666667,   5.17241379,   4.16666667],\n",
       "       [ 10.        ,   5.        ,   9.31034483,   7.5       ],\n",
       "       [ 10.        ,  -5.        ,  10.        ,   8.33333333],\n",
       "       [  0.        ,  -8.33333333,   3.44827586,   1.66666667]])"
      ]
     },
     "execution_count": 18,
     "metadata": {},
     "output_type": "execute_result"
    }
   ],
   "source": [
    "normalizador = MinMaxScaler((-10,10))\n",
    "res = normalizador.fit_transform(variables)\n",
    "res"
   ]
  },
  {
   "cell_type": "code",
   "execution_count": 19,
   "metadata": {},
   "outputs": [
    {
     "name": "stdout",
     "output_type": "stream",
     "text": [
      "[10. 10. 10. 10.]\n",
      "[-10. -10. -10. -10.]\n"
     ]
    }
   ],
   "source": [
    "print(np.amax(res,axis=0)) # equivalente a np.max(res,axis=0)\n",
    "print(np.amin(res,axis=0)) # equivalente a np.min(res,axis=0)"
   ]
  },
  {
   "cell_type": "markdown",
   "metadata": {},
   "source": [
    "## Dividir entre train y test\n",
    "\n",
    "Los modelos una vez entrenados y puestos en funcionamiento van a utilizar como entrada, información que no se utilizó en el proceso de entrenamiento. Sin embargo es necesario tener una aproximación al rendimiento del método una vez entrenado y antes de ser puesto en producción. Para simular esta situación, el conjunto de datos disponible se divide en dos subconjuntos. Una parte se utiliza para entrenar el modelo y otra para estimar cómo sería el rendimiento en caso de ser puesto en producción, ya que estos últimos datos no se utilzaron en el entrenamiento."
   ]
  },
  {
   "cell_type": "markdown",
   "metadata": {},
   "source": [
    "Dividir el conjunto iris en 40 para entrenamiento y 20 para test."
   ]
  },
  {
   "cell_type": "code",
   "execution_count": null,
   "metadata": {},
   "outputs": [],
   "source": [
    "# número de muestras de iris\n",
    "print(f'Número de muestras: {len(df)}')"
   ]
  },
  {
   "cell_type": "code",
   "execution_count": null,
   "metadata": {},
   "outputs": [],
   "source": [
    "train = df.iloc[:40,:] # forma arcaica de hacerlo (No recomendado)\n",
    "test = df.iloc[40:,:]"
   ]
  },
  {
   "cell_type": "code",
   "execution_count": null,
   "metadata": {},
   "outputs": [],
   "source": [
    "print(train)"
   ]
  },
  {
   "cell_type": "code",
   "execution_count": null,
   "metadata": {},
   "outputs": [],
   "source": [
    "print(test)"
   ]
  },
  {
   "cell_type": "markdown",
   "metadata": {},
   "source": [
    "El conjunto de train no tiene iris-virginica y el de test no tiene iris-setosa ni iris-versicolor por lo tanto el modelo no es capaz de aprender todas las clases.\n",
    "\n",
    "La solución es mezclar aleatoriamente las muestras y luego tomar las 100 y las 50. \n",
    "\n",
    "Existen diferentes opciones para hacerlo. Si se tiene un dataframe de pandas, se dispone de la función sample que devuelve una muestra aleatoria del dataframe indicando que número de elementos o que fracción de los mismos se desea extraer. Si la fracción es 1, se obtiene el mismo dataframe reordenado aleatoriamente."
   ]
  },
  {
   "cell_type": "markdown",
   "metadata": {},
   "source": [
    "La librería sklearn dispone del módulo model_selection que implementa la función train_test_split que realiza permite dividir un conjunto de datos en dos (train y test) indicando la proporción o número de muestras de cada uno. Además incluye otros argumentos como la semilla del generador de números aleatorios o la opción de estratificar (mantener la proporción de muestras por cada clase) el resultado. También permite indicar si se mezclan antes de la división o no (shuffle)\n",
    "\n",
    "Esta función puede aceptar tanto un dataframe o un array de numpy. También permite pasarle varios argumentos, haciendo la misma división en todos.\n",
    "\n",
    "Explicar el uso de random_state para generar siempre la misma partición. Muy importante para comparar resultados de diferentes modelos para no se vean afectados por las muestras de las particiones y todos los modelos para comparar utilicen siempre el mismo conjunto de datos tanto para entrenar como testear."
   ]
  },
  {
   "cell_type": "code",
   "execution_count": 27,
   "metadata": {},
   "outputs": [],
   "source": [
    "from sklearn.model_selection import train_test_split"
   ]
  },
  {
   "cell_type": "code",
   "execution_count": 35,
   "metadata": {},
   "outputs": [
    {
     "name": "stdout",
     "output_type": "stream",
     "text": [
      "[16  9 19  3  0  9  3 15]\n",
      "[ 1 18]\n"
     ]
    }
   ],
   "source": [
    "x = np.random.randint(20, size=10)\n",
    "y = np.random.randint(200, 250, size=10)\n",
    "z = np.random.random(size=10)\n",
    "\n",
    "x_train, x_test, y_train, y_test = train_test_split(x, y, test_size=0.2)\n",
    "print(x_train)\n",
    "print(x_test)"
   ]
  },
  {
   "cell_type": "markdown",
   "metadata": {},
   "source": [
    "Probar a ejecutar varias veces sin fijar el valor de random_state y fijándolo."
   ]
  },
  {
   "cell_type": "code",
   "execution_count": 32,
   "metadata": {},
   "outputs": [
    {
     "data": {
      "text/html": [
       "<div>\n",
       "<style scoped>\n",
       "    .dataframe tbody tr th:only-of-type {\n",
       "        vertical-align: middle;\n",
       "    }\n",
       "\n",
       "    .dataframe tbody tr th {\n",
       "        vertical-align: top;\n",
       "    }\n",
       "\n",
       "    .dataframe thead th {\n",
       "        text-align: right;\n",
       "    }\n",
       "</style>\n",
       "<table border=\"1\" class=\"dataframe\">\n",
       "  <thead>\n",
       "    <tr style=\"text-align: right;\">\n",
       "      <th></th>\n",
       "      <th>sepal length</th>\n",
       "      <th>sepal width</th>\n",
       "      <th>petal length</th>\n",
       "      <th>petal width</th>\n",
       "      <th>class</th>\n",
       "    </tr>\n",
       "  </thead>\n",
       "  <tbody>\n",
       "    <tr>\n",
       "      <th>52</th>\n",
       "      <td>6.8</td>\n",
       "      <td>3.000000</td>\n",
       "      <td>5.500000</td>\n",
       "      <td>2.1</td>\n",
       "      <td>Iris-virginica</td>\n",
       "    </tr>\n",
       "    <tr>\n",
       "      <th>38</th>\n",
       "      <td>6.2</td>\n",
       "      <td>2.200000</td>\n",
       "      <td>4.500000</td>\n",
       "      <td>1.5</td>\n",
       "      <td>Iris-versicolor</td>\n",
       "    </tr>\n",
       "    <tr>\n",
       "      <th>2</th>\n",
       "      <td>4.7</td>\n",
       "      <td>3.200000</td>\n",
       "      <td>3.864815</td>\n",
       "      <td>0.2</td>\n",
       "      <td>Iris-setosa</td>\n",
       "    </tr>\n",
       "    <tr>\n",
       "      <th>39</th>\n",
       "      <td>5.6</td>\n",
       "      <td>2.500000</td>\n",
       "      <td>3.900000</td>\n",
       "      <td>1.1</td>\n",
       "      <td>Iris-versicolor</td>\n",
       "    </tr>\n",
       "    <tr>\n",
       "      <th>58</th>\n",
       "      <td>7.7</td>\n",
       "      <td>2.600000</td>\n",
       "      <td>6.900000</td>\n",
       "      <td>2.3</td>\n",
       "      <td>Iris-virginica</td>\n",
       "    </tr>\n",
       "    <tr>\n",
       "      <th>47</th>\n",
       "      <td>7.3</td>\n",
       "      <td>2.900000</td>\n",
       "      <td>6.300000</td>\n",
       "      <td>1.8</td>\n",
       "      <td>Iris-virginica</td>\n",
       "    </tr>\n",
       "    <tr>\n",
       "      <th>6</th>\n",
       "      <td>4.6</td>\n",
       "      <td>3.400000</td>\n",
       "      <td>3.864815</td>\n",
       "      <td>0.3</td>\n",
       "      <td>Iris-setosa</td>\n",
       "    </tr>\n",
       "    <tr>\n",
       "      <th>34</th>\n",
       "      <td>5.6</td>\n",
       "      <td>3.036364</td>\n",
       "      <td>3.600000</td>\n",
       "      <td>1.3</td>\n",
       "      <td>Iris-versicolor</td>\n",
       "    </tr>\n",
       "    <tr>\n",
       "      <th>8</th>\n",
       "      <td>4.4</td>\n",
       "      <td>2.900000</td>\n",
       "      <td>1.400000</td>\n",
       "      <td>0.2</td>\n",
       "      <td>Iris-setosa</td>\n",
       "    </tr>\n",
       "    <tr>\n",
       "      <th>48</th>\n",
       "      <td>6.7</td>\n",
       "      <td>2.500000</td>\n",
       "      <td>5.800000</td>\n",
       "      <td>1.8</td>\n",
       "      <td>Iris-virginica</td>\n",
       "    </tr>\n",
       "    <tr>\n",
       "      <th>42</th>\n",
       "      <td>7.1</td>\n",
       "      <td>3.000000</td>\n",
       "      <td>5.900000</td>\n",
       "      <td>2.1</td>\n",
       "      <td>Iris-virginica</td>\n",
       "    </tr>\n",
       "    <tr>\n",
       "      <th>7</th>\n",
       "      <td>5.0</td>\n",
       "      <td>3.400000</td>\n",
       "      <td>1.500000</td>\n",
       "      <td>0.2</td>\n",
       "      <td>Iris-setosa</td>\n",
       "    </tr>\n",
       "  </tbody>\n",
       "</table>\n",
       "</div>"
      ],
      "text/plain": [
       "    sepal length  sepal width  petal length  petal width            class\n",
       "52           6.8     3.000000      5.500000          2.1   Iris-virginica\n",
       "38           6.2     2.200000      4.500000          1.5  Iris-versicolor\n",
       "2            4.7     3.200000      3.864815          0.2      Iris-setosa\n",
       "39           5.6     2.500000      3.900000          1.1  Iris-versicolor\n",
       "58           7.7     2.600000      6.900000          2.3   Iris-virginica\n",
       "47           7.3     2.900000      6.300000          1.8   Iris-virginica\n",
       "6            4.6     3.400000      3.864815          0.3      Iris-setosa\n",
       "34           5.6     3.036364      3.600000          1.3  Iris-versicolor\n",
       "8            4.4     2.900000      1.400000          0.2      Iris-setosa\n",
       "48           6.7     2.500000      5.800000          1.8   Iris-virginica\n",
       "42           7.1     3.000000      5.900000          2.1   Iris-virginica\n",
       "7            5.0     3.400000      1.500000          0.2      Iris-setosa"
      ]
     },
     "execution_count": 32,
     "metadata": {},
     "output_type": "execute_result"
    }
   ],
   "source": [
    "df_train, df_test = train_test_split(df, test_size=0.2, shuffle=True, random_state=2025)\n",
    "df_test"
   ]
  },
  {
   "cell_type": "markdown",
   "metadata": {},
   "source": [
    "Crear conjunto de datos muy desbalanceado para explicar la estratificación."
   ]
  },
  {
   "cell_type": "code",
   "execution_count": 37,
   "metadata": {},
   "outputs": [],
   "source": [
    "x = np.random.randint(100,size=(100,4))\n",
    "y = np.concatenate([np.zeros(90), np.ones(10)])"
   ]
  },
  {
   "cell_type": "code",
   "execution_count": 38,
   "metadata": {},
   "outputs": [
    {
     "data": {
      "text/plain": [
       "array([0., 0., 0., 0., 0., 0., 0., 0., 0., 0., 0., 0., 0., 0., 0., 0., 0.,\n",
       "       0., 0., 0., 0., 0., 0., 0., 0., 0., 0., 0., 0., 0., 0., 0., 0., 0.,\n",
       "       0., 0., 0., 0., 0., 0., 0., 0., 0., 0., 0., 0., 0., 0., 0., 0., 0.,\n",
       "       0., 0., 0., 0., 0., 0., 0., 0., 0., 0., 0., 0., 0., 0., 0., 0., 0.,\n",
       "       0., 0., 0., 0., 0., 0., 0., 0., 0., 0., 0., 0., 0., 0., 0., 0., 0.,\n",
       "       0., 0., 0., 0., 0., 1., 1., 1., 1., 1., 1., 1., 1., 1., 1.])"
      ]
     },
     "execution_count": 38,
     "metadata": {},
     "output_type": "execute_result"
    }
   ],
   "source": [
    "y"
   ]
  },
  {
   "cell_type": "markdown",
   "metadata": {},
   "source": [
    "Sin estratificación la muestra minoritaria puede que no esté bien representada en train y test"
   ]
  },
  {
   "cell_type": "code",
   "execution_count": 39,
   "metadata": {},
   "outputs": [
    {
     "name": "stdout",
     "output_type": "stream",
     "text": [
      "[0. 0. 0. 0. 1. 0. 0. 0. 0. 0. 0. 0. 0. 0. 1. 0. 0. 0. 0. 0. 1. 0. 1. 0.\n",
      " 0. 0. 0. 0. 0. 0. 0. 0. 0. 0. 0. 0. 0. 0. 0. 0. 0. 0. 1. 0. 0. 0. 0. 0.\n",
      " 0. 0.]\n",
      "[0. 0. 0. 0. 0. 0. 0. 0. 0. 0. 0. 0. 0. 0. 0. 0. 0. 0. 0. 0. 0. 0. 0. 0.\n",
      " 0. 0. 0. 0. 0. 0. 0. 1. 0. 1. 0. 0. 1. 0. 0. 0. 1. 0. 1. 0. 0. 0. 0. 0.\n",
      " 0. 0.]\n"
     ]
    }
   ],
   "source": [
    "x_train, x_test, y_train, y_test = train_test_split(x, y, test_size=0.5)\n",
    "print(y_train)\n",
    "print(y_test)"
   ]
  },
  {
   "cell_type": "code",
   "execution_count": 40,
   "metadata": {},
   "outputs": [
    {
     "name": "stdout",
     "output_type": "stream",
     "text": [
      "[0. 0. 1. 1. 0. 0. 0. 0. 0. 0. 0. 0. 0. 0. 1. 0. 0. 1. 0. 0. 0. 0. 0. 0.\n",
      " 0. 0. 0. 0. 0. 0. 0. 0. 0. 0. 0. 0. 0. 0. 0. 0. 0. 0. 0. 0. 0. 0. 0. 0.\n",
      " 1. 0.]\n",
      "[0. 0. 0. 0. 0. 0. 0. 0. 0. 1. 0. 0. 0. 0. 0. 0. 0. 0. 1. 0. 0. 0. 0. 0.\n",
      " 0. 0. 0. 1. 0. 0. 0. 0. 0. 0. 0. 0. 0. 0. 0. 1. 0. 0. 0. 0. 0. 0. 1. 0.\n",
      " 0. 0.]\n"
     ]
    }
   ],
   "source": [
    "x_train, x_test, y_train, y_test = train_test_split(x, y, test_size=0.5, stratify=y)\n",
    "print(y_train)\n",
    "print(y_test)"
   ]
  },
  {
   "cell_type": "markdown",
   "metadata": {},
   "source": [
    "## Convertir de valores simbólicos a numéricos\n",
    "\n",
    "Algunos modelos no admiten valores simbólicos y por tanto se deben convertir en numéricos. Una posibilidad es asignar un entero a cada valor simbólico existente."
   ]
  },
  {
   "cell_type": "markdown",
   "metadata": {},
   "source": [
    "La aproximación más sencilla es utilizar un diccionario de Python para realizar la conversión.\n",
    "\n",
    "Posible solución"
   ]
  },
  {
   "cell_type": "code",
   "execution_count": null,
   "metadata": {},
   "outputs": [],
   "source": [
    "dic = {'Iris-setosa': 0, 'Iris-versicolor': 1, 'Iris-virginica': 2} # diccionario para mapear las clases\n",
    "for i in range(len(df)): # transformamos las clases a valores numéricos\n",
    "    df.loc[i,'class'] = dic[df.iloc[i]['class']]"
   ]
  },
  {
   "cell_type": "markdown",
   "metadata": {},
   "source": [
    "Cuando el número de valores diferentes es muy grande puede ser un poco engorroso crear el diccionario de forma manual. Por eso sklearn posee una clase que realiza la función de conversión. La clase es LabelEncoder y la interfaz es similar a la de MinMaxScaler con funciones, fit, transform y fit_transform."
   ]
  },
  {
   "cell_type": "code",
   "execution_count": 41,
   "metadata": {},
   "outputs": [],
   "source": [
    "from sklearn.preprocessing import LabelEncoder"
   ]
  },
  {
   "cell_type": "code",
   "execution_count": 42,
   "metadata": {},
   "outputs": [],
   "source": [
    "df = pd.read_csv('data/iris-small.csv')"
   ]
  },
  {
   "cell_type": "code",
   "execution_count": 43,
   "metadata": {},
   "outputs": [
    {
     "data": {
      "text/plain": [
       "array([0, 0, 0, 0, 0, 0, 0, 0, 0, 0, 0, 0, 0, 0, 0, 0, 0, 0, 0, 0, 1, 1,\n",
       "       1, 1, 1, 1, 1, 1, 1, 1, 1, 1, 1, 1, 1, 1, 1, 1, 1, 1, 2, 2, 2, 2,\n",
       "       2, 2, 2, 2, 2, 2, 2, 2, 2, 2, 2, 2, 2, 2, 2, 2])"
      ]
     },
     "execution_count": 43,
     "metadata": {},
     "output_type": "execute_result"
    }
   ],
   "source": [
    "conversor = LabelEncoder()\n",
    "conversor.fit(df['class'])\n",
    "res = conversor.transform(df['class'])\n",
    "res"
   ]
  },
  {
   "cell_type": "markdown",
   "metadata": {},
   "source": [
    "## Ejercicio"
   ]
  },
  {
   "cell_type": "code",
   "execution_count": 45,
   "metadata": {},
   "outputs": [
    {
     "name": "stdout",
     "output_type": "stream",
     "text": [
      "Datos simbólicos: ['rojo' 'verde' 'azul' 'rojo' 'azul' 'verde' 'rojo']\n",
      "Datos numéricos: [1 2 0 1 0 2 1]\n",
      "Datos simbólicos: ['rojo' 'verde' 'azul' 'rojo' 'azul' 'verde' 'rojo']\n"
     ]
    }
   ],
   "source": [
    "import numpy as np\n",
    "\n",
    "class SymbolicToNumeric:\n",
    "    def __init__(self):\n",
    "        self.mapping = {}\n",
    "        self.reverse_mapping = {}\n",
    "\n",
    "    def convertir(self, array):\n",
    "        \"\"\"Convierte valores simbólicos a numéricos.\"\"\"\n",
    "        unique_values = np.unique(array)\n",
    "        for idx, val in enumerate(unique_values):\n",
    "            if val not in self.mapping:\n",
    "                self.mapping[val] = idx\n",
    "                self.reverse_mapping[idx] = val\n",
    "        \n",
    "        return np.array([self.mapping[val] for val in array])\n",
    "\n",
    "    def convertir_inversa(self, array):\n",
    "        \"\"\"Convierte valores numéricos a simbólicos.\"\"\"\n",
    "        return np.array([self.reverse_mapping[val] for val in array])\n",
    "\n",
    "# Ejemplo de uso\n",
    "data = np.array(['rojo', 'verde', 'azul', 'rojo', 'azul', 'verde', 'rojo'])\n",
    "print(\"Datos simbólicos:\", data)\n",
    "converter = SymbolicToNumeric()\n",
    "numeric_data = converter.convertir(data)\n",
    "print(\"Datos numéricos:\", numeric_data)\n",
    "\n",
    "symbolic_data = converter.convertir_inversa(numeric_data)\n",
    "print(\"Datos simbólicos:\", symbolic_data)\n"
   ]
  }
 ],
 "metadata": {
  "kernelspec": {
   "display_name": "aa1",
   "language": "python",
   "name": "python3"
  },
  "language_info": {
   "codemirror_mode": {
    "name": "ipython",
    "version": 3
   },
   "file_extension": ".py",
   "mimetype": "text/x-python",
   "name": "python",
   "nbconvert_exporter": "python",
   "pygments_lexer": "ipython3",
   "version": "3.10.16"
  }
 },
 "nbformat": 4,
 "nbformat_minor": 2
}
