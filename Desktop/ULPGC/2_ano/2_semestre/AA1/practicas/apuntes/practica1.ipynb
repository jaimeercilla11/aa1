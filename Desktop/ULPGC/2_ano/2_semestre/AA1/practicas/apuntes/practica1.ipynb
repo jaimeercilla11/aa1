{
 "cells": [
  {
   "cell_type": "markdown",
   "metadata": {},
   "source": [
    "# Práctica 1: Introducción al entorno de desarrollo\n",
    "## Aprendizaje Automático I"
   ]
  },
  {
   "cell_type": "markdown",
   "metadata": {},
   "source": [
    "Explicar que se va a utilizar Python como lenguaje de programación y en concreto en los equipos del laboratorio tiene instalado el entorno Anaconda que incluye no solo el intérprete Python sino también aquellos paquetes que se usan más habitualmente en el problemas de Ciencia de Datos. \n",
    "\n",
    "El desarrollo en Python se puede hacer mediante scripts que son documentos en texto plano que son ejecutados por el intérprete de Python normalmente desde un terminal. Otra posibilidad es mediante los cuadernos Jupyter que se ejecutan en un navegador y puede contener tanto código como texto o gráficos utilizando el lenguaje de marcado Markdown.\n",
    "\n",
    "Además del intérprete y los paquetes también se incluye terminales desde la que ejecutar scripts de Python y un navegador Jupyter para desarrollar y ejecutar cuadernos de notas Jupyter.\n",
    "\n",
    "Además de utilizar las herramientas que proporcionan en entorno Anaconda se pueden utilizar otras aplicaciones para desarrollar tanto los scripts como cuadernos Jupyter. Una de estas opciones es Visual Studio Code que es un editor de código abierto que mediante extensiones permite editar código en Python además de editar y ejecutar cuadernos Jupyter. La ventaja que posee es que tiene resaltado de sintaxis y autocompletado así como ayuda de las funciones de los paquetes.\n",
    "\n",
    "Las librerías de las que haremos uso en esta materia son:\n",
    "- Scikit-learn: Esta librería implementa modelos de aprendizaje automático tanto supervisado como no supervisado, además de métodos para preprocesamiento de\n",
    "datos, selección y evaluación de modelos entre otros.\n",
    "- Pandas: Es una librería orientada al análisis de datos que facilita las tareas en conjuntos de datos estructurados organizado como filas y columnas, de forma similar a una hoja de cálculo o tabla de una base de datos relacional. Las dos estructuras de datos básicas de Pandas son las Series y Dataframe para el manejo de datos unidimensionales y bidimensionales, respectivamente.\n",
    "- Numpy: Es una librería que proporciona la capacidad de computación numérica a Python así como estructuras de datos multidimensionales (matrices). El tipo de datos principal en Numpy es el ndarray que a diferencia de los dataframe de Pandas, solo pueden contener datos del mismo tipo, y la librería proporciona métodos para operar de forma eficiente con los ndarray.\n",
    "- Matplotlib: Esta librería permite crear visualizaciones en python tanto estáticas como animadas en Python. Además es la base de otras librerías como es Seaborn."
   ]
  },
  {
   "cell_type": "markdown",
   "metadata": {},
   "source": [
    "## Librería Pandas"
   ]
  },
  {
   "cell_type": "markdown",
   "metadata": {},
   "source": [
    "Pandas es una librería que permite análisis de datos y herramientas para procesarlos. El uso que tendrá en la asignatura será básicamente como entrada y salida de datos, ya que soporta gran cantidad de formatos de ficheros como el csv o archivos excel.\n",
    "\n",
    "A la hora de importarla es norma usar como pd\n",
    "\n",
    "    # En la consola -> pip install pandas\n",
    "\n",
    "    # import pandas as pd\n",
    "\n"
   ]
  },
  {
   "cell_type": "markdown",
   "metadata": {},
   "source": [
    "### Ejemplo de lectura de archivos csv y excel"
   ]
  },
  {
   "cell_type": "code",
   "execution_count": 87,
   "metadata": {},
   "outputs": [
    {
     "data": {
      "text/html": [
       "<div>\n",
       "<style scoped>\n",
       "    .dataframe tbody tr th:only-of-type {\n",
       "        vertical-align: middle;\n",
       "    }\n",
       "\n",
       "    .dataframe tbody tr th {\n",
       "        vertical-align: top;\n",
       "    }\n",
       "\n",
       "    .dataframe thead th {\n",
       "        text-align: right;\n",
       "    }\n",
       "</style>\n",
       "<table border=\"1\" class=\"dataframe\">\n",
       "  <thead>\n",
       "    <tr style=\"text-align: right;\">\n",
       "      <th></th>\n",
       "      <th>matrícula</th>\n",
       "      <th>marca</th>\n",
       "      <th>modelo</th>\n",
       "      <th>año</th>\n",
       "      <th>kms</th>\n",
       "      <th>precio</th>\n",
       "    </tr>\n",
       "  </thead>\n",
       "  <tbody>\n",
       "    <tr>\n",
       "      <th>0</th>\n",
       "      <td>ABC123</td>\n",
       "      <td>Toyota</td>\n",
       "      <td>Camry</td>\n",
       "      <td>2019</td>\n",
       "      <td>25153</td>\n",
       "      <td>5300</td>\n",
       "    </tr>\n",
       "    <tr>\n",
       "      <th>1</th>\n",
       "      <td>XYZ456</td>\n",
       "      <td>Honda</td>\n",
       "      <td>Accord</td>\n",
       "      <td>2018</td>\n",
       "      <td>30278</td>\n",
       "      <td>9000</td>\n",
       "    </tr>\n",
       "    <tr>\n",
       "      <th>2</th>\n",
       "      <td>DEF789</td>\n",
       "      <td>Ford</td>\n",
       "      <td>Fusion</td>\n",
       "      <td>2020</td>\n",
       "      <td>22456</td>\n",
       "      <td>4000</td>\n",
       "    </tr>\n",
       "    <tr>\n",
       "      <th>3</th>\n",
       "      <td>GHI012</td>\n",
       "      <td>Chevrolet</td>\n",
       "      <td>Malibu</td>\n",
       "      <td>2017</td>\n",
       "      <td>34987</td>\n",
       "      <td>7500</td>\n",
       "    </tr>\n",
       "    <tr>\n",
       "      <th>4</th>\n",
       "      <td>JKL345</td>\n",
       "      <td>Nissan</td>\n",
       "      <td>Altima</td>\n",
       "      <td>2016</td>\n",
       "      <td>38163</td>\n",
       "      <td>3200</td>\n",
       "    </tr>\n",
       "  </tbody>\n",
       "</table>\n",
       "</div>"
      ],
      "text/plain": [
       "  matrícula      marca  modelo   año    kms  precio\n",
       "0    ABC123     Toyota   Camry  2019  25153    5300\n",
       "1    XYZ456      Honda  Accord  2018  30278    9000\n",
       "2    DEF789       Ford  Fusion  2020  22456    4000\n",
       "3    GHI012  Chevrolet  Malibu  2017  34987    7500\n",
       "4    JKL345     Nissan  Altima  2016  38163    3200"
      ]
     },
     "execution_count": 87,
     "metadata": {},
     "output_type": "execute_result"
    }
   ],
   "source": [
    "import pandas as pd\n",
    "import os\n",
    "# \n",
    "FOLDER = 'data/'\n",
    "CHOCES_1 = os.path.join(FOLDER, 'coches.csv')\n",
    "CHOCES_2 = os.path.join(FOLDER, 'coches_2.csv')\n",
    "\n",
    "df = pd.read_csv(CHOCES_1)\n",
    "df"
   ]
  },
  {
   "cell_type": "markdown",
   "metadata": {},
   "source": [
    "El resultado de la lectura es un Dataframe que es la principal estructura de datos en Pandas. Se corresponde con una estructura de datos bidimensional compuesta por filas y columnas. A diferencia de las matrices en otros lenguajes de programación, un Dataframe puede contener en cada columna un tipo diferente de datos, similar a una hoja de cálculo. Además el acceso a los elementos se puede hacer tanto mediante el índice de la fila y columna (similar a C) o mediante el índice y nombre de la columna.\n",
    "\n",
    "Una vez leido el archivo es conveniente comprobar el resultado y para ello se pueden mostrar las primeras líneas usando la función head. Por defecto muestra las 5 primeras pero se puede indicar el número a mostrar como argumento a la función.\n",
    "\n",
    "El acceso a las columnas se hace mediante el nombre de la misma y si son varias columnas se pasa una lista."
   ]
  },
  {
   "cell_type": "code",
   "execution_count": 88,
   "metadata": {},
   "outputs": [
    {
     "data": {
      "text/html": [
       "<div>\n",
       "<style scoped>\n",
       "    .dataframe tbody tr th:only-of-type {\n",
       "        vertical-align: middle;\n",
       "    }\n",
       "\n",
       "    .dataframe tbody tr th {\n",
       "        vertical-align: top;\n",
       "    }\n",
       "\n",
       "    .dataframe thead th {\n",
       "        text-align: right;\n",
       "    }\n",
       "</style>\n",
       "<table border=\"1\" class=\"dataframe\">\n",
       "  <thead>\n",
       "    <tr style=\"text-align: right;\">\n",
       "      <th></th>\n",
       "      <th>matrícula</th>\n",
       "      <th>marca</th>\n",
       "      <th>modelo</th>\n",
       "      <th>año</th>\n",
       "      <th>kms</th>\n",
       "      <th>precio</th>\n",
       "    </tr>\n",
       "  </thead>\n",
       "  <tbody>\n",
       "    <tr>\n",
       "      <th>0</th>\n",
       "      <td>ABC123</td>\n",
       "      <td>Toyota</td>\n",
       "      <td>Camry</td>\n",
       "      <td>2019</td>\n",
       "      <td>25153</td>\n",
       "      <td>5300</td>\n",
       "    </tr>\n",
       "    <tr>\n",
       "      <th>1</th>\n",
       "      <td>XYZ456</td>\n",
       "      <td>Honda</td>\n",
       "      <td>Accord</td>\n",
       "      <td>2018</td>\n",
       "      <td>30278</td>\n",
       "      <td>9000</td>\n",
       "    </tr>\n",
       "    <tr>\n",
       "      <th>2</th>\n",
       "      <td>DEF789</td>\n",
       "      <td>Ford</td>\n",
       "      <td>Fusion</td>\n",
       "      <td>2020</td>\n",
       "      <td>22456</td>\n",
       "      <td>4000</td>\n",
       "    </tr>\n",
       "    <tr>\n",
       "      <th>3</th>\n",
       "      <td>GHI012</td>\n",
       "      <td>Chevrolet</td>\n",
       "      <td>Malibu</td>\n",
       "      <td>2017</td>\n",
       "      <td>34987</td>\n",
       "      <td>7500</td>\n",
       "    </tr>\n",
       "    <tr>\n",
       "      <th>4</th>\n",
       "      <td>JKL345</td>\n",
       "      <td>Nissan</td>\n",
       "      <td>Altima</td>\n",
       "      <td>2016</td>\n",
       "      <td>38163</td>\n",
       "      <td>3200</td>\n",
       "    </tr>\n",
       "  </tbody>\n",
       "</table>\n",
       "</div>"
      ],
      "text/plain": [
       "  matrícula      marca  modelo   año    kms  precio\n",
       "0    ABC123     Toyota   Camry  2019  25153    5300\n",
       "1    XYZ456      Honda  Accord  2018  30278    9000\n",
       "2    DEF789       Ford  Fusion  2020  22456    4000\n",
       "3    GHI012  Chevrolet  Malibu  2017  34987    7500\n",
       "4    JKL345     Nissan  Altima  2016  38163    3200"
      ]
     },
     "execution_count": 88,
     "metadata": {},
     "output_type": "execute_result"
    }
   ],
   "source": [
    "df.head()"
   ]
  },
  {
   "cell_type": "code",
   "execution_count": 89,
   "metadata": {},
   "outputs": [
    {
     "data": {
      "text/html": [
       "<div>\n",
       "<style scoped>\n",
       "    .dataframe tbody tr th:only-of-type {\n",
       "        vertical-align: middle;\n",
       "    }\n",
       "\n",
       "    .dataframe tbody tr th {\n",
       "        vertical-align: top;\n",
       "    }\n",
       "\n",
       "    .dataframe thead th {\n",
       "        text-align: right;\n",
       "    }\n",
       "</style>\n",
       "<table border=\"1\" class=\"dataframe\">\n",
       "  <thead>\n",
       "    <tr style=\"text-align: right;\">\n",
       "      <th></th>\n",
       "      <th>matrícula</th>\n",
       "      <th>marca</th>\n",
       "      <th>modelo</th>\n",
       "      <th>año</th>\n",
       "      <th>kms</th>\n",
       "      <th>precio</th>\n",
       "    </tr>\n",
       "  </thead>\n",
       "  <tbody>\n",
       "    <tr>\n",
       "      <th>0</th>\n",
       "      <td>ABC123</td>\n",
       "      <td>Toyota</td>\n",
       "      <td>Camry</td>\n",
       "      <td>2019</td>\n",
       "      <td>25153</td>\n",
       "      <td>5300</td>\n",
       "    </tr>\n",
       "    <tr>\n",
       "      <th>1</th>\n",
       "      <td>XYZ456</td>\n",
       "      <td>Honda</td>\n",
       "      <td>Accord</td>\n",
       "      <td>2018</td>\n",
       "      <td>30278</td>\n",
       "      <td>9000</td>\n",
       "    </tr>\n",
       "    <tr>\n",
       "      <th>2</th>\n",
       "      <td>DEF789</td>\n",
       "      <td>Ford</td>\n",
       "      <td>Fusion</td>\n",
       "      <td>2020</td>\n",
       "      <td>22456</td>\n",
       "      <td>4000</td>\n",
       "    </tr>\n",
       "  </tbody>\n",
       "</table>\n",
       "</div>"
      ],
      "text/plain": [
       "  matrícula   marca  modelo   año    kms  precio\n",
       "0    ABC123  Toyota   Camry  2019  25153    5300\n",
       "1    XYZ456   Honda  Accord  2018  30278    9000\n",
       "2    DEF789    Ford  Fusion  2020  22456    4000"
      ]
     },
     "execution_count": 89,
     "metadata": {},
     "output_type": "execute_result"
    }
   ],
   "source": [
    "# para cuando tengamos un dataframe muy grande y queramos ver solo las primeras un par de filas\n",
    "df.head(3)"
   ]
  },
  {
   "cell_type": "markdown",
   "metadata": {},
   "source": [
    "### Acceso a los elementos del Dataframe"
   ]
  },
  {
   "cell_type": "code",
   "execution_count": 90,
   "metadata": {},
   "outputs": [
    {
     "data": {
      "text/plain": [
       "0       Toyota\n",
       "1        Honda\n",
       "2         Ford\n",
       "3    Chevrolet\n",
       "4       Nissan\n",
       "Name: marca, dtype: object"
      ]
     },
     "execution_count": 90,
     "metadata": {},
     "output_type": "execute_result"
    }
   ],
   "source": [
    "df['marca'] # como si fuera un diccionario"
   ]
  },
  {
   "cell_type": "code",
   "execution_count": 91,
   "metadata": {},
   "outputs": [
    {
     "data": {
      "text/html": [
       "<div>\n",
       "<style scoped>\n",
       "    .dataframe tbody tr th:only-of-type {\n",
       "        vertical-align: middle;\n",
       "    }\n",
       "\n",
       "    .dataframe tbody tr th {\n",
       "        vertical-align: top;\n",
       "    }\n",
       "\n",
       "    .dataframe thead th {\n",
       "        text-align: right;\n",
       "    }\n",
       "</style>\n",
       "<table border=\"1\" class=\"dataframe\">\n",
       "  <thead>\n",
       "    <tr style=\"text-align: right;\">\n",
       "      <th></th>\n",
       "      <th>marca</th>\n",
       "      <th>modelo</th>\n",
       "    </tr>\n",
       "  </thead>\n",
       "  <tbody>\n",
       "    <tr>\n",
       "      <th>0</th>\n",
       "      <td>Toyota</td>\n",
       "      <td>Camry</td>\n",
       "    </tr>\n",
       "    <tr>\n",
       "      <th>1</th>\n",
       "      <td>Honda</td>\n",
       "      <td>Accord</td>\n",
       "    </tr>\n",
       "    <tr>\n",
       "      <th>2</th>\n",
       "      <td>Ford</td>\n",
       "      <td>Fusion</td>\n",
       "    </tr>\n",
       "    <tr>\n",
       "      <th>3</th>\n",
       "      <td>Chevrolet</td>\n",
       "      <td>Malibu</td>\n",
       "    </tr>\n",
       "    <tr>\n",
       "      <th>4</th>\n",
       "      <td>Nissan</td>\n",
       "      <td>Altima</td>\n",
       "    </tr>\n",
       "  </tbody>\n",
       "</table>\n",
       "</div>"
      ],
      "text/plain": [
       "       marca  modelo\n",
       "0     Toyota   Camry\n",
       "1      Honda  Accord\n",
       "2       Ford  Fusion\n",
       "3  Chevrolet  Malibu\n",
       "4     Nissan  Altima"
      ]
     },
     "execution_count": 91,
     "metadata": {},
     "output_type": "execute_result"
    }
   ],
   "source": [
    "df[['marca','modelo']]"
   ]
  },
  {
   "cell_type": "markdown",
   "metadata": {},
   "source": [
    "Si se accede a una única columna el resultado es una serie mientras que si se accede a varias columnas el resultado es otro dataframe."
   ]
  },
  {
   "cell_type": "markdown",
   "metadata": {},
   "source": [
    "El acceso a las filas se puede hacer mediante el índice de la fila comenzando en 0 usando la función iloc o mediante el valor del índice de la fila, que puede ser numérico o alfanumérico, con la función loc. Por defecto cuando se lee un archivo csv se crea como índice una columna con números del 0 al número de columnas - 1, por lo que el acceso es igual con ambas funciones. El resultado es una serie si se accede a una única columna o un dataframe si se accede a varias con iloc. En este último caso se pueden utilizar rangos con los : o varias filas no consecutivas pasando una lista."
   ]
  },
  {
   "cell_type": "code",
   "execution_count": 92,
   "metadata": {},
   "outputs": [
    {
     "data": {
      "text/plain": [
       "matrícula    XYZ456\n",
       "marca         Honda\n",
       "modelo       Accord\n",
       "año            2018\n",
       "kms           30278\n",
       "precio         9000\n",
       "Name: 1, dtype: object"
      ]
     },
     "execution_count": 92,
     "metadata": {},
     "output_type": "execute_result"
    }
   ],
   "source": [
    "df.iloc[1] # para acceder a una fila con el indice numerico"
   ]
  },
  {
   "cell_type": "code",
   "execution_count": 93,
   "metadata": {},
   "outputs": [
    {
     "data": {
      "text/plain": [
       "matrícula    ABC123\n",
       "marca        Toyota\n",
       "modelo        Camry\n",
       "año            2019\n",
       "kms           25153\n",
       "precio         5300\n",
       "Name: 0, dtype: object"
      ]
     },
     "execution_count": 93,
     "metadata": {},
     "output_type": "execute_result"
    }
   ],
   "source": [
    "df.loc[0] # para acceder a una fila con el índice alfanumérico"
   ]
  },
  {
   "cell_type": "code",
   "execution_count": 94,
   "metadata": {},
   "outputs": [
    {
     "data": {
      "text/html": [
       "<div>\n",
       "<style scoped>\n",
       "    .dataframe tbody tr th:only-of-type {\n",
       "        vertical-align: middle;\n",
       "    }\n",
       "\n",
       "    .dataframe tbody tr th {\n",
       "        vertical-align: top;\n",
       "    }\n",
       "\n",
       "    .dataframe thead th {\n",
       "        text-align: right;\n",
       "    }\n",
       "</style>\n",
       "<table border=\"1\" class=\"dataframe\">\n",
       "  <thead>\n",
       "    <tr style=\"text-align: right;\">\n",
       "      <th></th>\n",
       "      <th>matrícula</th>\n",
       "      <th>marca</th>\n",
       "      <th>modelo</th>\n",
       "      <th>año</th>\n",
       "      <th>kms</th>\n",
       "      <th>precio</th>\n",
       "    </tr>\n",
       "  </thead>\n",
       "  <tbody>\n",
       "    <tr>\n",
       "      <th>1</th>\n",
       "      <td>XYZ456</td>\n",
       "      <td>Honda</td>\n",
       "      <td>Accord</td>\n",
       "      <td>2018</td>\n",
       "      <td>30278</td>\n",
       "      <td>9000</td>\n",
       "    </tr>\n",
       "    <tr>\n",
       "      <th>2</th>\n",
       "      <td>DEF789</td>\n",
       "      <td>Ford</td>\n",
       "      <td>Fusion</td>\n",
       "      <td>2020</td>\n",
       "      <td>22456</td>\n",
       "      <td>4000</td>\n",
       "    </tr>\n",
       "  </tbody>\n",
       "</table>\n",
       "</div>"
      ],
      "text/plain": [
       "  matrícula  marca  modelo   año    kms  precio\n",
       "1    XYZ456  Honda  Accord  2018  30278    9000\n",
       "2    DEF789   Ford  Fusion  2020  22456    4000"
      ]
     },
     "execution_count": 94,
     "metadata": {},
     "output_type": "execute_result"
    }
   ],
   "source": [
    "df.iloc[1:3] # todo lo que puedes hacer con una lista de python"
   ]
  },
  {
   "cell_type": "markdown",
   "metadata": {},
   "source": [
    "Para acceder a un rango de filas o columnas contiguas se puede usar el operador :, y si no son contiguas, se pasa en una lista los índices."
   ]
  },
  {
   "cell_type": "code",
   "execution_count": 95,
   "metadata": {},
   "outputs": [
    {
     "data": {
      "text/plain": [
       "0    2019\n",
       "1    2018\n",
       "2    2020\n",
       "3    2017\n",
       "4    2016\n",
       "Name: año, dtype: int64"
      ]
     },
     "execution_count": 95,
     "metadata": {},
     "output_type": "execute_result"
    }
   ],
   "source": [
    "df.iloc[:, 3]"
   ]
  },
  {
   "cell_type": "code",
   "execution_count": 96,
   "metadata": {},
   "outputs": [
    {
     "data": {
      "text/html": [
       "<div>\n",
       "<style scoped>\n",
       "    .dataframe tbody tr th:only-of-type {\n",
       "        vertical-align: middle;\n",
       "    }\n",
       "\n",
       "    .dataframe tbody tr th {\n",
       "        vertical-align: top;\n",
       "    }\n",
       "\n",
       "    .dataframe thead th {\n",
       "        text-align: right;\n",
       "    }\n",
       "</style>\n",
       "<table border=\"1\" class=\"dataframe\">\n",
       "  <thead>\n",
       "    <tr style=\"text-align: right;\">\n",
       "      <th></th>\n",
       "      <th>matrícula</th>\n",
       "      <th>marca</th>\n",
       "      <th>modelo</th>\n",
       "      <th>año</th>\n",
       "      <th>kms</th>\n",
       "      <th>precio</th>\n",
       "    </tr>\n",
       "  </thead>\n",
       "  <tbody>\n",
       "    <tr>\n",
       "      <th>0</th>\n",
       "      <td>ABC123</td>\n",
       "      <td>Toyota</td>\n",
       "      <td>Camry</td>\n",
       "      <td>2019</td>\n",
       "      <td>25153</td>\n",
       "      <td>5300</td>\n",
       "    </tr>\n",
       "    <tr>\n",
       "      <th>2</th>\n",
       "      <td>DEF789</td>\n",
       "      <td>Ford</td>\n",
       "      <td>Fusion</td>\n",
       "      <td>2020</td>\n",
       "      <td>22456</td>\n",
       "      <td>4000</td>\n",
       "    </tr>\n",
       "    <tr>\n",
       "      <th>4</th>\n",
       "      <td>JKL345</td>\n",
       "      <td>Nissan</td>\n",
       "      <td>Altima</td>\n",
       "      <td>2016</td>\n",
       "      <td>38163</td>\n",
       "      <td>3200</td>\n",
       "    </tr>\n",
       "  </tbody>\n",
       "</table>\n",
       "</div>"
      ],
      "text/plain": [
       "  matrícula   marca  modelo   año    kms  precio\n",
       "0    ABC123  Toyota   Camry  2019  25153    5300\n",
       "2    DEF789    Ford  Fusion  2020  22456    4000\n",
       "4    JKL345  Nissan  Altima  2016  38163    3200"
      ]
     },
     "execution_count": 96,
     "metadata": {},
     "output_type": "execute_result"
    }
   ],
   "source": [
    "df.iloc[[0,2,4]]"
   ]
  },
  {
   "cell_type": "markdown",
   "metadata": {},
   "source": [
    "Si se decide que una de las columnas de archivo sea utilizada como índice se puede o bien indicar al leerlo con el argumento \"index_col\" o una vez cargado, utilizar el método set_index para indicar la columna que se debe utilizar como índice"
   ]
  },
  {
   "cell_type": "code",
   "execution_count": 97,
   "metadata": {},
   "outputs": [
    {
     "data": {
      "text/html": [
       "<div>\n",
       "<style scoped>\n",
       "    .dataframe tbody tr th:only-of-type {\n",
       "        vertical-align: middle;\n",
       "    }\n",
       "\n",
       "    .dataframe tbody tr th {\n",
       "        vertical-align: top;\n",
       "    }\n",
       "\n",
       "    .dataframe thead th {\n",
       "        text-align: right;\n",
       "    }\n",
       "</style>\n",
       "<table border=\"1\" class=\"dataframe\">\n",
       "  <thead>\n",
       "    <tr style=\"text-align: right;\">\n",
       "      <th></th>\n",
       "      <th>marca</th>\n",
       "      <th>modelo</th>\n",
       "      <th>año</th>\n",
       "      <th>kms</th>\n",
       "      <th>precio</th>\n",
       "    </tr>\n",
       "    <tr>\n",
       "      <th>matrícula</th>\n",
       "      <th></th>\n",
       "      <th></th>\n",
       "      <th></th>\n",
       "      <th></th>\n",
       "      <th></th>\n",
       "    </tr>\n",
       "  </thead>\n",
       "  <tbody>\n",
       "    <tr>\n",
       "      <th>ABC123</th>\n",
       "      <td>Toyota</td>\n",
       "      <td>Camry</td>\n",
       "      <td>2019</td>\n",
       "      <td>25153</td>\n",
       "      <td>5300</td>\n",
       "    </tr>\n",
       "    <tr>\n",
       "      <th>XYZ456</th>\n",
       "      <td>Honda</td>\n",
       "      <td>Accord</td>\n",
       "      <td>2018</td>\n",
       "      <td>30278</td>\n",
       "      <td>9000</td>\n",
       "    </tr>\n",
       "    <tr>\n",
       "      <th>DEF789</th>\n",
       "      <td>Ford</td>\n",
       "      <td>Fusion</td>\n",
       "      <td>2020</td>\n",
       "      <td>22456</td>\n",
       "      <td>4000</td>\n",
       "    </tr>\n",
       "    <tr>\n",
       "      <th>GHI012</th>\n",
       "      <td>Chevrolet</td>\n",
       "      <td>Malibu</td>\n",
       "      <td>2017</td>\n",
       "      <td>34987</td>\n",
       "      <td>7500</td>\n",
       "    </tr>\n",
       "    <tr>\n",
       "      <th>JKL345</th>\n",
       "      <td>Nissan</td>\n",
       "      <td>Altima</td>\n",
       "      <td>2016</td>\n",
       "      <td>38163</td>\n",
       "      <td>3200</td>\n",
       "    </tr>\n",
       "  </tbody>\n",
       "</table>\n",
       "</div>"
      ],
      "text/plain": [
       "               marca  modelo   año    kms  precio\n",
       "matrícula                                        \n",
       "ABC123        Toyota   Camry  2019  25153    5300\n",
       "XYZ456         Honda  Accord  2018  30278    9000\n",
       "DEF789          Ford  Fusion  2020  22456    4000\n",
       "GHI012     Chevrolet  Malibu  2017  34987    7500\n",
       "JKL345        Nissan  Altima  2016  38163    3200"
      ]
     },
     "execution_count": 97,
     "metadata": {},
     "output_type": "execute_result"
    }
   ],
   "source": [
    "df = pd.read_csv(CHOCES_1, index_col='matrícula')\n",
    "df # OJO! cuidado con los indices, si no son únicos, se pueden perder datos"
   ]
  },
  {
   "cell_type": "code",
   "execution_count": 98,
   "metadata": {},
   "outputs": [
    {
     "data": {
      "text/plain": [
       "marca     Toyota\n",
       "modelo     Camry\n",
       "año         2019\n",
       "kms        25153\n",
       "precio      5300\n",
       "Name: ABC123, dtype: object"
      ]
     },
     "execution_count": 98,
     "metadata": {},
     "output_type": "execute_result"
    }
   ],
   "source": [
    "df.loc['ABC123']"
   ]
  },
  {
   "cell_type": "code",
   "execution_count": 99,
   "metadata": {},
   "outputs": [
    {
     "data": {
      "text/plain": [
       "marca       Ford\n",
       "modelo    Fusion\n",
       "año         2020\n",
       "kms        22456\n",
       "precio      4000\n",
       "Name: DEF789, dtype: object"
      ]
     },
     "execution_count": 99,
     "metadata": {},
     "output_type": "execute_result"
    }
   ],
   "source": [
    "df.loc['DEF789']"
   ]
  },
  {
   "cell_type": "code",
   "execution_count": 100,
   "metadata": {},
   "outputs": [
    {
     "data": {
      "text/html": [
       "<div>\n",
       "<style scoped>\n",
       "    .dataframe tbody tr th:only-of-type {\n",
       "        vertical-align: middle;\n",
       "    }\n",
       "\n",
       "    .dataframe tbody tr th {\n",
       "        vertical-align: top;\n",
       "    }\n",
       "\n",
       "    .dataframe thead th {\n",
       "        text-align: right;\n",
       "    }\n",
       "</style>\n",
       "<table border=\"1\" class=\"dataframe\">\n",
       "  <thead>\n",
       "    <tr style=\"text-align: right;\">\n",
       "      <th></th>\n",
       "      <th>marca</th>\n",
       "      <th>modelo</th>\n",
       "      <th>año</th>\n",
       "      <th>kms</th>\n",
       "      <th>precio</th>\n",
       "    </tr>\n",
       "    <tr>\n",
       "      <th>matrícula</th>\n",
       "      <th></th>\n",
       "      <th></th>\n",
       "      <th></th>\n",
       "      <th></th>\n",
       "      <th></th>\n",
       "    </tr>\n",
       "  </thead>\n",
       "  <tbody>\n",
       "    <tr>\n",
       "      <th>ABC123</th>\n",
       "      <td>Toyota</td>\n",
       "      <td>Camry</td>\n",
       "      <td>2019</td>\n",
       "      <td>25153</td>\n",
       "      <td>5300</td>\n",
       "    </tr>\n",
       "    <tr>\n",
       "      <th>JKL345</th>\n",
       "      <td>Nissan</td>\n",
       "      <td>Altima</td>\n",
       "      <td>2016</td>\n",
       "      <td>38163</td>\n",
       "      <td>3200</td>\n",
       "    </tr>\n",
       "  </tbody>\n",
       "</table>\n",
       "</div>"
      ],
      "text/plain": [
       "            marca  modelo   año    kms  precio\n",
       "matrícula                                     \n",
       "ABC123     Toyota   Camry  2019  25153    5300\n",
       "JKL345     Nissan  Altima  2016  38163    3200"
      ]
     },
     "execution_count": 100,
     "metadata": {},
     "output_type": "execute_result"
    }
   ],
   "source": [
    "df.loc[['ABC123', 'JKL345']]"
   ]
  },
  {
   "cell_type": "code",
   "execution_count": 101,
   "metadata": {},
   "outputs": [
    {
     "data": {
      "text/html": [
       "<div>\n",
       "<style scoped>\n",
       "    .dataframe tbody tr th:only-of-type {\n",
       "        vertical-align: middle;\n",
       "    }\n",
       "\n",
       "    .dataframe tbody tr th {\n",
       "        vertical-align: top;\n",
       "    }\n",
       "\n",
       "    .dataframe thead th {\n",
       "        text-align: right;\n",
       "    }\n",
       "</style>\n",
       "<table border=\"1\" class=\"dataframe\">\n",
       "  <thead>\n",
       "    <tr style=\"text-align: right;\">\n",
       "      <th></th>\n",
       "      <th>matrícula</th>\n",
       "      <th>marca</th>\n",
       "      <th>modelo</th>\n",
       "      <th>año</th>\n",
       "      <th>kms</th>\n",
       "      <th>precio</th>\n",
       "    </tr>\n",
       "  </thead>\n",
       "  <tbody>\n",
       "    <tr>\n",
       "      <th>0</th>\n",
       "      <td>ABC123</td>\n",
       "      <td>Toyota</td>\n",
       "      <td>Camry</td>\n",
       "      <td>2019</td>\n",
       "      <td>25153</td>\n",
       "      <td>5300</td>\n",
       "    </tr>\n",
       "    <tr>\n",
       "      <th>1</th>\n",
       "      <td>XYZ456</td>\n",
       "      <td>Honda</td>\n",
       "      <td>Accord</td>\n",
       "      <td>2018</td>\n",
       "      <td>30278</td>\n",
       "      <td>9000</td>\n",
       "    </tr>\n",
       "    <tr>\n",
       "      <th>2</th>\n",
       "      <td>DEF789</td>\n",
       "      <td>Ford</td>\n",
       "      <td>Fusion</td>\n",
       "      <td>2020</td>\n",
       "      <td>22456</td>\n",
       "      <td>4000</td>\n",
       "    </tr>\n",
       "    <tr>\n",
       "      <th>3</th>\n",
       "      <td>GHI012</td>\n",
       "      <td>Chevrolet</td>\n",
       "      <td>Malibu</td>\n",
       "      <td>2017</td>\n",
       "      <td>34987</td>\n",
       "      <td>7500</td>\n",
       "    </tr>\n",
       "    <tr>\n",
       "      <th>4</th>\n",
       "      <td>JKL345</td>\n",
       "      <td>Nissan</td>\n",
       "      <td>Altima</td>\n",
       "      <td>2016</td>\n",
       "      <td>38163</td>\n",
       "      <td>3200</td>\n",
       "    </tr>\n",
       "  </tbody>\n",
       "</table>\n",
       "</div>"
      ],
      "text/plain": [
       "  matrícula      marca  modelo   año    kms  precio\n",
       "0    ABC123     Toyota   Camry  2019  25153    5300\n",
       "1    XYZ456      Honda  Accord  2018  30278    9000\n",
       "2    DEF789       Ford  Fusion  2020  22456    4000\n",
       "3    GHI012  Chevrolet  Malibu  2017  34987    7500\n",
       "4    JKL345     Nissan  Altima  2016  38163    3200"
      ]
     },
     "execution_count": 101,
     "metadata": {},
     "output_type": "execute_result"
    }
   ],
   "source": [
    "df1 = pd.read_csv(CHOCES_1)\n",
    "df1"
   ]
  },
  {
   "cell_type": "code",
   "execution_count": 102,
   "metadata": {},
   "outputs": [
    {
     "data": {
      "text/html": [
       "<div>\n",
       "<style scoped>\n",
       "    .dataframe tbody tr th:only-of-type {\n",
       "        vertical-align: middle;\n",
       "    }\n",
       "\n",
       "    .dataframe tbody tr th {\n",
       "        vertical-align: top;\n",
       "    }\n",
       "\n",
       "    .dataframe thead th {\n",
       "        text-align: right;\n",
       "    }\n",
       "</style>\n",
       "<table border=\"1\" class=\"dataframe\">\n",
       "  <thead>\n",
       "    <tr style=\"text-align: right;\">\n",
       "      <th></th>\n",
       "      <th>marca</th>\n",
       "      <th>modelo</th>\n",
       "      <th>año</th>\n",
       "      <th>kms</th>\n",
       "      <th>precio</th>\n",
       "    </tr>\n",
       "    <tr>\n",
       "      <th>matrícula</th>\n",
       "      <th></th>\n",
       "      <th></th>\n",
       "      <th></th>\n",
       "      <th></th>\n",
       "      <th></th>\n",
       "    </tr>\n",
       "  </thead>\n",
       "  <tbody>\n",
       "    <tr>\n",
       "      <th>ABC123</th>\n",
       "      <td>Toyota</td>\n",
       "      <td>Camry</td>\n",
       "      <td>2019</td>\n",
       "      <td>25153</td>\n",
       "      <td>5300</td>\n",
       "    </tr>\n",
       "    <tr>\n",
       "      <th>XYZ456</th>\n",
       "      <td>Honda</td>\n",
       "      <td>Accord</td>\n",
       "      <td>2018</td>\n",
       "      <td>30278</td>\n",
       "      <td>9000</td>\n",
       "    </tr>\n",
       "    <tr>\n",
       "      <th>DEF789</th>\n",
       "      <td>Ford</td>\n",
       "      <td>Fusion</td>\n",
       "      <td>2020</td>\n",
       "      <td>22456</td>\n",
       "      <td>4000</td>\n",
       "    </tr>\n",
       "    <tr>\n",
       "      <th>GHI012</th>\n",
       "      <td>Chevrolet</td>\n",
       "      <td>Malibu</td>\n",
       "      <td>2017</td>\n",
       "      <td>34987</td>\n",
       "      <td>7500</td>\n",
       "    </tr>\n",
       "    <tr>\n",
       "      <th>JKL345</th>\n",
       "      <td>Nissan</td>\n",
       "      <td>Altima</td>\n",
       "      <td>2016</td>\n",
       "      <td>38163</td>\n",
       "      <td>3200</td>\n",
       "    </tr>\n",
       "  </tbody>\n",
       "</table>\n",
       "</div>"
      ],
      "text/plain": [
       "               marca  modelo   año    kms  precio\n",
       "matrícula                                        \n",
       "ABC123        Toyota   Camry  2019  25153    5300\n",
       "XYZ456         Honda  Accord  2018  30278    9000\n",
       "DEF789          Ford  Fusion  2020  22456    4000\n",
       "GHI012     Chevrolet  Malibu  2017  34987    7500\n",
       "JKL345        Nissan  Altima  2016  38163    3200"
      ]
     },
     "execution_count": 102,
     "metadata": {},
     "output_type": "execute_result"
    }
   ],
   "source": [
    "df = df1.set_index('matrícula')\n",
    "df"
   ]
  },
  {
   "cell_type": "markdown",
   "metadata": {},
   "source": [
    "Un aspecto a tener en cuenta es el carácter que se usa en el csv para separar las columnas. Cuando se exporta un archivo excel a csv, normalmente se utilizan el ;, mientras que la función read_csv espera que sea una ,. Para indicar el caracter que separa columnas se usa el argumento sep"
   ]
  },
  {
   "cell_type": "code",
   "execution_count": 103,
   "metadata": {},
   "outputs": [
    {
     "data": {
      "text/html": [
       "<div>\n",
       "<style scoped>\n",
       "    .dataframe tbody tr th:only-of-type {\n",
       "        vertical-align: middle;\n",
       "    }\n",
       "\n",
       "    .dataframe tbody tr th {\n",
       "        vertical-align: top;\n",
       "    }\n",
       "\n",
       "    .dataframe thead th {\n",
       "        text-align: right;\n",
       "    }\n",
       "</style>\n",
       "<table border=\"1\" class=\"dataframe\">\n",
       "  <thead>\n",
       "    <tr style=\"text-align: right;\">\n",
       "      <th></th>\n",
       "      <th>matrícula</th>\n",
       "      <th>marca</th>\n",
       "      <th>modelo</th>\n",
       "      <th>año</th>\n",
       "      <th>kms</th>\n",
       "      <th>precio</th>\n",
       "    </tr>\n",
       "  </thead>\n",
       "  <tbody>\n",
       "    <tr>\n",
       "      <th>0</th>\n",
       "      <td>ABC123</td>\n",
       "      <td>Toyota</td>\n",
       "      <td>Camry</td>\n",
       "      <td>2019</td>\n",
       "      <td>25153</td>\n",
       "      <td>5300</td>\n",
       "    </tr>\n",
       "    <tr>\n",
       "      <th>1</th>\n",
       "      <td>XYZ456</td>\n",
       "      <td>Honda</td>\n",
       "      <td>Accord</td>\n",
       "      <td>2018</td>\n",
       "      <td>30278</td>\n",
       "      <td>9000</td>\n",
       "    </tr>\n",
       "    <tr>\n",
       "      <th>2</th>\n",
       "      <td>DEF789</td>\n",
       "      <td>Ford</td>\n",
       "      <td>Fusion</td>\n",
       "      <td>2020</td>\n",
       "      <td>22456</td>\n",
       "      <td>4000</td>\n",
       "    </tr>\n",
       "    <tr>\n",
       "      <th>3</th>\n",
       "      <td>GHI012</td>\n",
       "      <td>Chevrolet</td>\n",
       "      <td>Malibu</td>\n",
       "      <td>2017</td>\n",
       "      <td>34987</td>\n",
       "      <td>7500</td>\n",
       "    </tr>\n",
       "    <tr>\n",
       "      <th>4</th>\n",
       "      <td>JKL345</td>\n",
       "      <td>Nissan</td>\n",
       "      <td>Altima</td>\n",
       "      <td>2016</td>\n",
       "      <td>38163</td>\n",
       "      <td>3200</td>\n",
       "    </tr>\n",
       "  </tbody>\n",
       "</table>\n",
       "</div>"
      ],
      "text/plain": [
       "  matrícula      marca  modelo   año    kms  precio\n",
       "0    ABC123     Toyota   Camry  2019  25153    5300\n",
       "1    XYZ456      Honda  Accord  2018  30278    9000\n",
       "2    DEF789       Ford  Fusion  2020  22456    4000\n",
       "3    GHI012  Chevrolet  Malibu  2017  34987    7500\n",
       "4    JKL345     Nissan  Altima  2016  38163    3200"
      ]
     },
     "execution_count": 103,
     "metadata": {},
     "output_type": "execute_result"
    }
   ],
   "source": [
    "df = pd.read_csv(CHOCES_2, sep=';')\n",
    "df"
   ]
  },
  {
   "cell_type": "code",
   "execution_count": 104,
   "metadata": {},
   "outputs": [
    {
     "data": {
      "text/html": [
       "<div>\n",
       "<style scoped>\n",
       "    .dataframe tbody tr th:only-of-type {\n",
       "        vertical-align: middle;\n",
       "    }\n",
       "\n",
       "    .dataframe tbody tr th {\n",
       "        vertical-align: top;\n",
       "    }\n",
       "\n",
       "    .dataframe thead th {\n",
       "        text-align: right;\n",
       "    }\n",
       "</style>\n",
       "<table border=\"1\" class=\"dataframe\">\n",
       "  <thead>\n",
       "    <tr style=\"text-align: right;\">\n",
       "      <th></th>\n",
       "      <th>matrícula</th>\n",
       "      <th>marca</th>\n",
       "      <th>modelo</th>\n",
       "      <th>año</th>\n",
       "      <th>kms</th>\n",
       "      <th>precio</th>\n",
       "    </tr>\n",
       "  </thead>\n",
       "  <tbody>\n",
       "    <tr>\n",
       "      <th>2</th>\n",
       "      <td>DEF789</td>\n",
       "      <td>Ford</td>\n",
       "      <td>Fusion</td>\n",
       "      <td>2020</td>\n",
       "      <td>22456</td>\n",
       "      <td>4000</td>\n",
       "    </tr>\n",
       "  </tbody>\n",
       "</table>\n",
       "</div>"
      ],
      "text/plain": [
       "  matrícula marca  modelo   año    kms  precio\n",
       "2    DEF789  Ford  Fusion  2020  22456    4000"
      ]
     },
     "execution_count": 104,
     "metadata": {},
     "output_type": "execute_result"
    }
   ],
   "source": [
    "# podemos flitrar los datos de un dataframe\n",
    "df[df['marca'] == 'Ford']"
   ]
  },
  {
   "cell_type": "code",
   "execution_count": 105,
   "metadata": {},
   "outputs": [
    {
     "data": {
      "text/html": [
       "<div>\n",
       "<style scoped>\n",
       "    .dataframe tbody tr th:only-of-type {\n",
       "        vertical-align: middle;\n",
       "    }\n",
       "\n",
       "    .dataframe tbody tr th {\n",
       "        vertical-align: top;\n",
       "    }\n",
       "\n",
       "    .dataframe thead th {\n",
       "        text-align: right;\n",
       "    }\n",
       "</style>\n",
       "<table border=\"1\" class=\"dataframe\">\n",
       "  <thead>\n",
       "    <tr style=\"text-align: right;\">\n",
       "      <th></th>\n",
       "      <th>matrícula</th>\n",
       "      <th>marca</th>\n",
       "      <th>modelo</th>\n",
       "      <th>año</th>\n",
       "      <th>kms</th>\n",
       "      <th>precio</th>\n",
       "    </tr>\n",
       "  </thead>\n",
       "  <tbody>\n",
       "    <tr>\n",
       "      <th>0</th>\n",
       "      <td>ABC123</td>\n",
       "      <td>Toyota</td>\n",
       "      <td>Camry</td>\n",
       "      <td>2019</td>\n",
       "      <td>25153</td>\n",
       "      <td>5300</td>\n",
       "    </tr>\n",
       "    <tr>\n",
       "      <th>2</th>\n",
       "      <td>DEF789</td>\n",
       "      <td>Ford</td>\n",
       "      <td>Fusion</td>\n",
       "      <td>2020</td>\n",
       "      <td>22456</td>\n",
       "      <td>4000</td>\n",
       "    </tr>\n",
       "  </tbody>\n",
       "</table>\n",
       "</div>"
      ],
      "text/plain": [
       "  matrícula   marca  modelo   año    kms  precio\n",
       "0    ABC123  Toyota   Camry  2019  25153    5300\n",
       "2    DEF789    Ford  Fusion  2020  22456    4000"
      ]
     },
     "execution_count": 105,
     "metadata": {},
     "output_type": "execute_result"
    }
   ],
   "source": [
    "# tambien por fechas\n",
    "df[df[\"año\"] > 2018]"
   ]
  },
  {
   "cell_type": "markdown",
   "metadata": {},
   "source": [
    "## Librería numpy"
   ]
  },
  {
   "cell_type": "markdown",
   "metadata": {},
   "source": [
    "Numpy es una librería que proporciona computación numérica incluyendo operaciones vectoriales y matriciales, funciones matemáticas o generación de números aleatorios.\n",
    "\n",
    "La abreviatura para este paquete es np y se importa como:\n",
    "\n",
    "\n",
    "    # pip install numpy\n",
    "\n",
    "    # import numpy as np"
   ]
  },
  {
   "cell_type": "code",
   "execution_count": 106,
   "metadata": {},
   "outputs": [],
   "source": [
    "import numpy as np"
   ]
  },
  {
   "cell_type": "markdown",
   "metadata": {},
   "source": [
    "Numpy introduce las estructuras de datos n-dimensionales (vectores 1 dimensión, matrices 2 dimensiones, ...)."
   ]
  },
  {
   "cell_type": "markdown",
   "metadata": {},
   "source": [
    "Para crear una matriz se debe indicar las dimensiones como una tupla de python y puede ser una matriz de unos, cero, vacía o con valores aleatorios."
   ]
  },
  {
   "cell_type": "code",
   "execution_count": 107,
   "metadata": {},
   "outputs": [
    {
     "data": {
      "text/plain": [
       "array([[1., 1., 1., 1., 1.],\n",
       "       [1., 1., 1., 1., 1.],\n",
       "       [1., 1., 1., 1., 1.]])"
      ]
     },
     "execution_count": 107,
     "metadata": {},
     "output_type": "execute_result"
    }
   ],
   "source": [
    "m = np.ones((3,5))\n",
    "m"
   ]
  },
  {
   "cell_type": "code",
   "execution_count": 108,
   "metadata": {},
   "outputs": [
    {
     "data": {
      "text/plain": [
       "array([[0., 0., 0., 0., 0., 0., 0.],\n",
       "       [0., 0., 0., 0., 0., 0., 0.],\n",
       "       [0., 0., 0., 0., 0., 0., 0.],\n",
       "       [0., 0., 0., 0., 0., 0., 0.],\n",
       "       [0., 0., 0., 0., 0., 0., 0.]])"
      ]
     },
     "execution_count": 108,
     "metadata": {},
     "output_type": "execute_result"
    }
   ],
   "source": [
    "m = np.zeros((5,7))\n",
    "m"
   ]
  },
  {
   "cell_type": "code",
   "execution_count": 109,
   "metadata": {},
   "outputs": [
    {
     "data": {
      "text/plain": [
       "array([[1., 1., 1.],\n",
       "       [1., 1., 1.],\n",
       "       [1., 1., 1.],\n",
       "       [1., 1., 1.],\n",
       "       [1., 1., 1.]])"
      ]
     },
     "execution_count": 109,
     "metadata": {},
     "output_type": "execute_result"
    }
   ],
   "source": [
    "m = np.empty((5,3))\n",
    "m"
   ]
  },
  {
   "cell_type": "code",
   "execution_count": 110,
   "metadata": {},
   "outputs": [
    {
     "data": {
      "text/plain": [
       "array([[0.02330967, 0.06661124, 0.53836148],\n",
       "       [0.0791743 , 0.58848942, 0.26253772],\n",
       "       [0.8461904 , 0.98320178, 0.66326809]])"
      ]
     },
     "execution_count": 110,
     "metadata": {},
     "output_type": "execute_result"
    }
   ],
   "source": [
    "m = np.random.random((3,3))\n",
    "m"
   ]
  },
  {
   "cell_type": "markdown",
   "metadata": {},
   "source": [
    "Si no se indica el tipo de datos, la matriz se crea con tipo real de 64 bits y para saber el tipo de datos se puede utilizar dtype"
   ]
  },
  {
   "cell_type": "code",
   "execution_count": 111,
   "metadata": {},
   "outputs": [
    {
     "data": {
      "text/plain": [
       "dtype('float64')"
      ]
     },
     "execution_count": 111,
     "metadata": {},
     "output_type": "execute_result"
    }
   ],
   "source": [
    "m.dtype"
   ]
  },
  {
   "cell_type": "markdown",
   "metadata": {},
   "source": [
    "Para crear la matriz con otro tipo de datos se utiliza el argumento dtype en la llamada. Mirar en la documentación de numpy los tipos de datos existentes"
   ]
  },
  {
   "cell_type": "code",
   "execution_count": 112,
   "metadata": {},
   "outputs": [
    {
     "name": "stdout",
     "output_type": "stream",
     "text": [
      "int16\n",
      "[[1 1 1 1 1 1 1]\n",
      " [1 1 1 1 1 1 1]\n",
      " [1 1 1 1 1 1 1]\n",
      " [1 1 1 1 1 1 1]\n",
      " [1 1 1 1 1 1 1]]\n"
     ]
    }
   ],
   "source": [
    "m = np.ones((5,7), dtype=np.int16)\n",
    "print(m.dtype)\n",
    "print(m)"
   ]
  },
  {
   "cell_type": "markdown",
   "metadata": {},
   "source": [
    "También se puede crear un array numpy a partir de una lista de python"
   ]
  },
  {
   "cell_type": "code",
   "execution_count": 113,
   "metadata": {},
   "outputs": [
    {
     "data": {
      "text/plain": [
       "array([2, 4, 6, 3, 4, 8, 9, 6, 1, 3])"
      ]
     },
     "execution_count": 113,
     "metadata": {},
     "output_type": "execute_result"
    }
   ],
   "source": [
    "lista = [2,4,6,3,4,8,9,6,1,3]\n",
    "v = np.array(lista)\n",
    "v"
   ]
  },
  {
   "cell_type": "markdown",
   "metadata": {},
   "source": [
    "El tamaño de un array en numpy se puede obtener mediante .shape que devuelve una tupla con tantos elementos como dimensiones tiene el array, y el valor de cada una de las dimensiones. La primera dimensión se corresponde con las filas, la segunda con las columnas y el resto. A las dimensiones se le denominan en numpy como ejes, así el eje 0 son las filas, el eje 1 las columnas y así sucesivamente."
   ]
  },
  {
   "cell_type": "code",
   "execution_count": 114,
   "metadata": {},
   "outputs": [
    {
     "data": {
      "text/plain": [
       "(5, 7)"
      ]
     },
     "execution_count": 114,
     "metadata": {},
     "output_type": "execute_result"
    }
   ],
   "source": [
    "m.shape"
   ]
  },
  {
   "cell_type": "code",
   "execution_count": 115,
   "metadata": {},
   "outputs": [
    {
     "data": {
      "text/plain": [
       "(6, 8, 2)"
      ]
     },
     "execution_count": 115,
     "metadata": {},
     "output_type": "execute_result"
    }
   ],
   "source": [
    "m = np.zeros((6,8,2))\n",
    "m.shape"
   ]
  },
  {
   "cell_type": "markdown",
   "metadata": {},
   "source": [
    "### Acceso a los elementos de un array"
   ]
  },
  {
   "cell_type": "markdown",
   "metadata": {},
   "source": [
    "Para acceder a los elementos del array se utilizan los índices comenzando en 0. Al igual que para pandas se puede indicar toda un eje completo mediante : y el segundo elemento no se incluye . Un índice específico es el -1 que indica la última fila o columna."
   ]
  },
  {
   "cell_type": "code",
   "execution_count": 116,
   "metadata": {},
   "outputs": [
    {
     "name": "stdout",
     "output_type": "stream",
     "text": [
      "[[91  2 23 51]\n",
      " [42 94 85 96]\n",
      " [38 60 89 76]\n",
      " [16 54 17 40]\n",
      " [94  4 69 24]\n",
      " [96 39 66 16]\n",
      " [12 46 76 27]]\n",
      "(7, 4)\n"
     ]
    }
   ],
   "source": [
    "m = np.random.randint(0,100, size=(7,4))\n",
    "print(m)\n",
    "print(m.shape)"
   ]
  },
  {
   "cell_type": "code",
   "execution_count": 117,
   "metadata": {},
   "outputs": [
    {
     "name": "stdout",
     "output_type": "stream",
     "text": [
      "2\n",
      "[94  4 69 24]\n",
      "[12 46 76 27]\n",
      "[51 96 76 40 24 16 27]\n",
      "[[42 94 85 96]\n",
      " [38 60 89 76]]\n"
     ]
    }
   ],
   "source": [
    "# poner varios ejemplos de acceso\n",
    "print(m[0,1])\n",
    "print(m[4,:])\n",
    "print(m[-1,:])\n",
    "print(m[:,-1])\n",
    "print(m[1:3,:]) # filas 1 y 2, 3 no se incluye"
   ]
  },
  {
   "cell_type": "markdown",
   "metadata": {},
   "source": [
    "### Operaciones con matrices"
   ]
  },
  {
   "cell_type": "code",
   "execution_count": 118,
   "metadata": {},
   "outputs": [
    {
     "name": "stdout",
     "output_type": "stream",
     "text": [
      "[[52 96  3]\n",
      " [18 18 25]\n",
      " [43 41 30]]\n"
     ]
    }
   ],
   "source": [
    "m = np.random.randint(0,100, size=(3,3))\n",
    "print(m)"
   ]
  },
  {
   "cell_type": "code",
   "execution_count": 119,
   "metadata": {},
   "outputs": [
    {
     "name": "stdout",
     "output_type": "stream",
     "text": [
      "[[ 62 106  13]\n",
      " [ 28  28  35]\n",
      " [ 53  51  40]]\n",
      "[[104 192   6]\n",
      " [ 36  36  50]\n",
      " [ 86  82  60]]\n",
      "[[26.  48.   1.5]\n",
      " [ 9.   9.  12.5]\n",
      " [21.5 20.5 15. ]]\n"
     ]
    }
   ],
   "source": [
    "print(m + 10)\n",
    "print(m * 2)\n",
    "print(m / 2)"
   ]
  },
  {
   "cell_type": "code",
   "execution_count": 120,
   "metadata": {},
   "outputs": [
    {
     "name": "stdout",
     "output_type": "stream",
     "text": [
      "[[104 192   6]\n",
      " [ 36  36  50]\n",
      " [ 86  82  60]]\n",
      "[[2704 9216    9]\n",
      " [ 324  324  625]\n",
      " [1849 1681  900]]\n",
      "[[4561 6843 2646]\n",
      " [2335 3077 1254]\n",
      " [4264 6096 2054]]\n"
     ]
    }
   ],
   "source": [
    "print(m + m)\n",
    "print(m * m)\n",
    "print(m @ m) # multiplicación de matrices\n",
    "# tambien se puede calcular la inversa, la traspuesta, el determinante, etc."
   ]
  },
  {
   "cell_type": "markdown",
   "metadata": {},
   "source": [
    "### Convertir un dataframe pandas en un array numpy"
   ]
  },
  {
   "cell_type": "code",
   "execution_count": 121,
   "metadata": {},
   "outputs": [
    {
     "name": "stdout",
     "output_type": "stream",
     "text": [
      "[['ABC123' 'Toyota' 'Camry' 2019 25153 5300]\n",
      " ['XYZ456' 'Honda' 'Accord' 2018 30278 9000]\n",
      " ['DEF789' 'Ford' 'Fusion' 2020 22456 4000]\n",
      " ['GHI012' 'Chevrolet' 'Malibu' 2017 34987 7500]\n",
      " ['JKL345' 'Nissan' 'Altima' 2016 38163 3200]]\n"
     ]
    }
   ],
   "source": [
    "m = df.values\n",
    "print(m)"
   ]
  },
  {
   "cell_type": "markdown",
   "metadata": {},
   "source": [
    "Muchas veces cuando usemos sklearn vamos a convertir nuestros datos en arrays para que los algoritmos lo interpreten"
   ]
  },
  {
   "cell_type": "markdown",
   "metadata": {},
   "source": [
    "## Librería matplotlib"
   ]
  },
  {
   "cell_type": "markdown",
   "metadata": {},
   "source": [
    "Esta librería permite generar gráficos simples en entorno python, aunque normalmente no se usa directamente sino que se hace uso de interfaces como es pyplot que proporciona una serie de funciones similares a matlab. Además sirve de base para otras librerías gráficas como puede seaborn que proporciona gráficos más elaborados. Normalmente en esta asignatura haremos uso principalmente de gráficos de líneas y de dispersión (puntos)\n",
    "\n",
    "La abreviación de esta librería es plt y se importa como:\n",
    "\n",
    "    # pip install matplotlib\n",
    "\n",
    "    # import matplotlib.pyplot as plt"
   ]
  },
  {
   "cell_type": "code",
   "execution_count": 122,
   "metadata": {},
   "outputs": [],
   "source": [
    "import matplotlib.pyplot as plt"
   ]
  },
  {
   "cell_type": "markdown",
   "metadata": {},
   "source": [
    "### Creación de gráficos de líneas simples"
   ]
  },
  {
   "cell_type": "code",
   "execution_count": 123,
   "metadata": {},
   "outputs": [
    {
     "data": {
      "text/plain": [
       "[<matplotlib.lines.Line2D at 0x7f7b0b735990>]"
      ]
     },
     "execution_count": 123,
     "metadata": {},
     "output_type": "execute_result"
    },
    {
     "data": {
      "image/png": "[encoded data removed]",
      "text/plain": [
       "<Figure size 640x480 with 1 Axes>"
      ]
     },
     "metadata": {},
     "output_type": "display_data"
    }
   ],
   "source": [
    "x = np.linspace(0, 6*np.pi, num=100) # 100 puntos entre 0 y 6*pi\n",
    "y = np.sin(x) # seno de x\n",
    "plt.plot(x,y) # dibujar x vs y"
   ]
  },
  {
   "cell_type": "code",
   "execution_count": 124,
   "metadata": {},
   "outputs": [
    {
     "data": {
      "text/plain": [
       "[<matplotlib.lines.Line2D at 0x7f7b0b79df30>]"
      ]
     },
     "execution_count": 124,
     "metadata": {},
     "output_type": "execute_result"
    },
    {
     "data": {
      "image/png": "[encoded data removed]",
      "text/plain": [
       "<Figure size 640x480 with 1 Axes>"
      ]
     },
     "metadata": {},
     "output_type": "display_data"
    }
   ],
   "source": [
    "# cambiar el estilo de la línea\n",
    "plt.plot(x,y, 'r')"
   ]
  },
  {
   "cell_type": "code",
   "execution_count": 125,
   "metadata": {},
   "outputs": [
    {
     "data": {
      "text/plain": [
       "[<matplotlib.lines.Line2D at 0x7f7b0b621b40>]"
      ]
     },
     "execution_count": 125,
     "metadata": {},
     "output_type": "execute_result"
    },
    {
     "data": {
      "image/png": "[encoded data removed]",
      "text/plain": [
       "<Figure size 640x480 with 1 Axes>"
      ]
     },
     "metadata": {},
     "output_type": "display_data"
    }
   ],
   "source": [
    "plt.plot(x,y, 'g+')\n",
    "# + = cruz\n",
    "# o = círculo\n",
    "# * = estrella\n",
    "# . = punto\n",
    "# - = línea continua\n",
    "# -- = línea discontinua\n",
    "# -. = línea con puntos"
   ]
  },
  {
   "cell_type": "markdown",
   "metadata": {},
   "source": [
    "Se pueden incluir varias gráficas separadas con comas y cada una puede tener su estilo"
   ]
  },
  {
   "cell_type": "code",
   "execution_count": 126,
   "metadata": {},
   "outputs": [
    {
     "data": {
      "text/plain": [
       "[<matplotlib.lines.Line2D at 0x7f7b0b6a9cf0>,\n",
       " <matplotlib.lines.Line2D at 0x7f7b0b6a9cc0>,\n",
       " <matplotlib.lines.Line2D at 0x7f7b0b6a9f60>]"
      ]
     },
     "execution_count": 126,
     "metadata": {},
     "output_type": "execute_result"
    },
    {
     "data": {
      "image/png": "[encoded data removed]",
      "text/plain": [
       "<Figure size 640x480 with 1 Axes>"
      ]
     },
     "metadata": {},
     "output_type": "display_data"
    }
   ],
   "source": [
    "y2 = np.cos(x) #f(x) = cos(x)\n",
    "y3 = 1 / (x**2 + 1) # f(x) = 1 / (x^2 + 1)\n",
    "plt.plot(x,y,'b', x, y2, 'r', x, y3, 'k')"
   ]
  },
  {
   "cell_type": "code",
   "execution_count": 127,
   "metadata": {},
   "outputs": [
    {
     "data": {
      "text/plain": [
       "[<matplotlib.lines.Line2D at 0x7f7b0b536860>]"
      ]
     },
     "execution_count": 127,
     "metadata": {},
     "output_type": "execute_result"
    },
    {
     "data": {
      "image/png": "[encoded data removed]",
      "text/plain": [
       "<Figure size 640x480 with 1 Axes>"
      ]
     },
     "metadata": {},
     "output_type": "display_data"
    }
   ],
   "source": [
    "plt.plot(x,y) # OJO! podemos seguir añadiendo gráficas a la misma figura\n",
    "plt.plot(x,y2)"
   ]
  },
  {
   "cell_type": "markdown",
   "metadata": {},
   "source": [
    "A la figura se le pueden añadir elementos como una rejilla, títulos, o los nombres de los ejes"
   ]
  },
  {
   "cell_type": "code",
   "execution_count": 128,
   "metadata": {},
   "outputs": [
    {
     "data": {
      "text/plain": [
       "Text(0, 0.5, 'sin(x)')"
      ]
     },
     "execution_count": 128,
     "metadata": {},
     "output_type": "execute_result"
    },
    {
     "data": {
      "image/png": "[encoded data removed]",
      "text/plain": [
       "<Figure size 640x480 with 1 Axes>"
      ]
     },
     "metadata": {},
     "output_type": "display_data"
    }
   ],
   "source": [
    "plt.plot(x, y, 'k')\n",
    "plt.grid()\n",
    "plt.title('Gráfica del seno(x)')\n",
    "plt.xlabel('x')\n",
    "plt.ylabel('sin(x)')"
   ]
  },
  {
   "cell_type": "markdown",
   "metadata": {},
   "source": [
    "### Gráficos de puntos o de dispersión"
   ]
  },
  {
   "cell_type": "code",
   "execution_count": 136,
   "metadata": {},
   "outputs": [
    {
     "data": {
      "text/plain": [
       "Text(0, 0.5, 'precio')"
      ]
     },
     "execution_count": 136,
     "metadata": {},
     "output_type": "execute_result"
    },
    {
     "data": {
      "image/png": "[encoded data removed]",
      "text/plain": [
       "<Figure size 640x480 with 1 Axes>"
      ]
     },
     "metadata": {},
     "output_type": "display_data"
    }
   ],
   "source": [
    "plt.scatter(df['kms'], df['precio'])\n",
    "plt.grid()\n",
    "plt.xlabel('kms')\n",
    "plt.ylabel('precio')"
   ]
  },
  {
   "cell_type": "markdown",
   "metadata": {},
   "source": [
    "En una misma figura se pueden dibujar varias gráficas a modo de cuadrícula mediante el uso de subplot. La sintaxis de subplot es plt.subplot(n_filas, n_columnas, pos), donde posición se da por filas.\n",
    "\n",
    "Por ejemplo en una cuadrícula de 2x2 y para dibujar en la primera columna de la segunda fila sería subplot(2,2,3)"
   ]
  },
  {
   "cell_type": "code",
   "execution_count": 137,
   "metadata": {},
   "outputs": [
    {
     "data": {
      "text/plain": [
       "[<matplotlib.lines.Line2D at 0x7f7b0ae1b880>]"
      ]
     },
     "execution_count": 137,
     "metadata": {},
     "output_type": "execute_result"
    },
    {
     "data": {
      "image/png": "[encoded data removed]",
      "text/plain": [
       "<Figure size 640x480 with 2 Axes>"
      ]
     },
     "metadata": {},
     "output_type": "display_data"
    }
   ],
   "source": [
    "plt.subplot(2,1,1)\n",
    "plt.plot(x,y)\n",
    "plt.subplot(2,1,2)\n",
    "plt.plot(x,y2)"
   ]
  },
  {
   "cell_type": "code",
   "execution_count": 139,
   "metadata": {},
   "outputs": [
    {
     "data": {
      "text/plain": [
       "[<matplotlib.lines.Line2D at 0x7f7b0b262110>]"
      ]
     },
     "execution_count": 139,
     "metadata": {},
     "output_type": "execute_result"
    },
    {
     "data": {
      "image/png": "[encoded data removed]",
      "text/plain": [
       "<Figure size 640x480 with 2 Axes>"
      ]
     },
     "metadata": {},
     "output_type": "display_data"
    }
   ],
   "source": [
    "plt.subplot(2,2,2)\n",
    "plt.plot(x,y)\n",
    "plt.subplot(2,2,3)\n",
    "plt.plot(x,y2)"
   ]
  },
  {
   "cell_type": "code",
   "execution_count": 132,
   "metadata": {},
   "outputs": [
    {
     "data": {
      "text/html": [
       "<div>\n",
       "<style scoped>\n",
       "    .dataframe tbody tr th:only-of-type {\n",
       "        vertical-align: middle;\n",
       "    }\n",
       "\n",
       "    .dataframe tbody tr th {\n",
       "        vertical-align: top;\n",
       "    }\n",
       "\n",
       "    .dataframe thead th {\n",
       "        text-align: right;\n",
       "    }\n",
       "</style>\n",
       "<table border=\"1\" class=\"dataframe\">\n",
       "  <thead>\n",
       "    <tr style=\"text-align: right;\">\n",
       "      <th></th>\n",
       "      <th>matrícula</th>\n",
       "      <th>marca</th>\n",
       "      <th>modelo</th>\n",
       "      <th>año</th>\n",
       "      <th>kms</th>\n",
       "      <th>precio</th>\n",
       "    </tr>\n",
       "  </thead>\n",
       "  <tbody>\n",
       "    <tr>\n",
       "      <th>0</th>\n",
       "      <td>ABC123</td>\n",
       "      <td>Toyota</td>\n",
       "      <td>Camry</td>\n",
       "      <td>2019</td>\n",
       "      <td>25153</td>\n",
       "      <td>5300</td>\n",
       "    </tr>\n",
       "    <tr>\n",
       "      <th>1</th>\n",
       "      <td>XYZ456</td>\n",
       "      <td>Honda</td>\n",
       "      <td>Accord</td>\n",
       "      <td>2018</td>\n",
       "      <td>30278</td>\n",
       "      <td>9000</td>\n",
       "    </tr>\n",
       "    <tr>\n",
       "      <th>2</th>\n",
       "      <td>DEF789</td>\n",
       "      <td>Ford</td>\n",
       "      <td>Fusion</td>\n",
       "      <td>2020</td>\n",
       "      <td>22456</td>\n",
       "      <td>4000</td>\n",
       "    </tr>\n",
       "    <tr>\n",
       "      <th>3</th>\n",
       "      <td>GHI012</td>\n",
       "      <td>Chevrolet</td>\n",
       "      <td>Malibu</td>\n",
       "      <td>2017</td>\n",
       "      <td>34987</td>\n",
       "      <td>7500</td>\n",
       "    </tr>\n",
       "    <tr>\n",
       "      <th>4</th>\n",
       "      <td>JKL345</td>\n",
       "      <td>Nissan</td>\n",
       "      <td>Altima</td>\n",
       "      <td>2016</td>\n",
       "      <td>38163</td>\n",
       "      <td>3200</td>\n",
       "    </tr>\n",
       "  </tbody>\n",
       "</table>\n",
       "</div>"
      ],
      "text/plain": [
       "  matrícula      marca  modelo   año    kms  precio\n",
       "0    ABC123     Toyota   Camry  2019  25153    5300\n",
       "1    XYZ456      Honda  Accord  2018  30278    9000\n",
       "2    DEF789       Ford  Fusion  2020  22456    4000\n",
       "3    GHI012  Chevrolet  Malibu  2017  34987    7500\n",
       "4    JKL345     Nissan  Altima  2016  38163    3200"
      ]
     },
     "execution_count": 132,
     "metadata": {},
     "output_type": "execute_result"
    }
   ],
   "source": [
    "df"
   ]
  },
  {
   "cell_type": "markdown",
   "metadata": {},
   "source": [
    "## Ejercicio\n",
    "\n",
    "Represantar en un gráfico precio y km y colorear cada punto por marca"
   ]
  },
  {
   "cell_type": "code",
   "execution_count": 133,
   "metadata": {},
   "outputs": [
    {
     "name": "stdout",
     "output_type": "stream",
     "text": [
      "['Toyota' 'Honda' 'Ford' 'Chevrolet' 'Nissan']\n"
     ]
    }
   ],
   "source": [
    "# Represantar en un gráfico precio y km y colorear cada punto por marca\n",
    "marcas = df['marca'].unique() # tambien se puede hacer con un set()\n",
    "print(marcas)"
   ]
  },
  {
   "cell_type": "code",
   "execution_count": 134,
   "metadata": {},
   "outputs": [],
   "source": [
    "colores = ['r', 'g', 'b', 'k', 'y', 'm', 'c']"
   ]
  },
  {
   "cell_type": "code",
   "execution_count": 135,
   "metadata": {},
   "outputs": [
    {
     "data": {
      "image/png": "[encoded data removed]",
      "text/plain": [
       "<Figure size 1000x1000 with 1 Axes>"
      ]
     },
     "metadata": {},
     "output_type": "display_data"
    }
   ],
   "source": [
    "# plot\n",
    "# Configurar el tamaño de la figura del gráfico\n",
    "plt.figure(figsize=(10, 10))\n",
    "\n",
    "# Iterar sobre cada marca de coche\n",
    "for i, marca in enumerate(marcas):\n",
    "    # Filtrar el DataFrame para obtener solo los datos de la marca actual\n",
    "    df_aux = df[df['marca'] == marca]\n",
    "    \n",
    "    # Graficar los datos de la marca actual usando scatter plot\n",
    "    # Se usa un color diferente para cada marca\n",
    "    plt.scatter(df_aux['kms'], df_aux['precio'], c=colores[i], label=marca)\n",
    "\n",
    "# Agregar una cuadrícula al gráfico\n",
    "plt.grid()\n",
    "\n",
    "# Etiqueta del eje X (kilómetros recorridos)\n",
    "plt.xlabel('kms')\n",
    "\n",
    "# Etiqueta del eje Y (precio del vehículo)\n",
    "plt.ylabel('precio')\n",
    "\n",
    "# Agregar una leyenda para identificar cada marca en el gráfico\n",
    "plt.legend()\n",
    "\n",
    "# Mostrar el gráfico\n",
    "plt.show()\n"
   ]
  }
 ],
 "metadata": {
  "kernelspec": {
   "display_name": "aa1",
   "language": "python",
   "name": "python3"
  },
  "language_info": {
   "codemirror_mode": {
    "name": "ipython",
    "version": 3
   },
   "file_extension": ".py",
   "mimetype": "text/x-python",
   "name": "python",
   "nbconvert_exporter": "python",
   "pygments_lexer": "ipython3",
   "version": "3.10.16"
  }
 },
 "nbformat": 4,
 "nbformat_minor": 2
}
