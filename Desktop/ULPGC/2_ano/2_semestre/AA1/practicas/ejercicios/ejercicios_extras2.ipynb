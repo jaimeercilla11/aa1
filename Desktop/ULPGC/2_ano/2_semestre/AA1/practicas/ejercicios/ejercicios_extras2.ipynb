{
 "cells": [
  {
   "cell_type": "code",
   "execution_count": null,
   "metadata": {},
   "outputs": [],
   "source": [
    "import pandas as pd\n",
    "import numpy as np\n",
    "from sklearn.linear_model import SGDRegressor, LinearRegression\n",
    "import matplotlib.pyplot as plt\n",
    "from sklearn.preprocessing import MinMaxScaler\n",
    "from sklearn.metrics import r2_score\n",
    "from sklearn.model_selection import train_test_split\n",
    "from sklearn.metrics import mean_squared_error, r2_score"
   ]
  },
  {
   "cell_type": "markdown",
   "metadata": {},
   "source": [
    "Utilizando el conjunto de datos \"precio_casas.csv\" realizar las siguientes tareas:\n",
    "\n",
    "- Imprimir el nombre de cada columna seguido del valor medio, valor máximo y valor mínimo de dicha columna.\n",
    "- Imprimir el número de filas cuya suma sea inferior a 1000\n",
    "- Imprimir el nombre de las columnas cuya suma sea superior a 100000"
   ]
  },
  {
   "cell_type": "code",
   "execution_count": null,
   "metadata": {},
   "outputs": [],
   "source": [
    "df = pd.read_csv(\"precio_casas.csv\", sep=\";\")\n",
    "df.head()\n"
   ]
  },
  {
   "cell_type": "code",
   "execution_count": null,
   "metadata": {},
   "outputs": [],
   "source": [
    "for col in df.columns:\n",
    "    print(f\"\\nMedia {col}: {df[col].mean()} \\nMaximo {col}: {df[col].max()} \\nMinimo {col}: {df[col].min()}\")"
   ]
  },
  {
   "cell_type": "code",
   "execution_count": null,
   "metadata": {},
   "outputs": [],
   "source": [
    "filas_menor_1000 = (df.sum(axis=1)<1000).sum()\n",
    "print(f\"Nº filas cuya sumas es menor que 1000: {filas_menor_1000}\")"
   ]
  },
  {
   "cell_type": "code",
   "execution_count": null,
   "metadata": {},
   "outputs": [],
   "source": [
    "columnas_mayor_100000 = [col for col in df.columns if df[col].sum() > 100000]\n",
    "print(f\"{columnas_mayor_100000}\")"
   ]
  },
  {
   "cell_type": "markdown",
   "metadata": {},
   "source": [
    "Utilizando el conjunto de datos \"precio_casas-perdidos.csv\" realizar las siguientes tareas:\n",
    "\n",
    "- Imprimir el nombre de las columnas que posean algún valor perdido y el número de valores perdidos.\n",
    "- Para cada columna con valores perdidos, sustituir los que se encuentren en las 1000 primeras filas por la media de la columna.\n",
    "- Representar gráficamente los valores de las columnas que no poseen valores perdidos. La gráfica debe tener como titulo el nombre de la columna que representa.\n",
    " "
   ]
  },
  {
   "cell_type": "code",
   "execution_count": null,
   "metadata": {},
   "outputs": [],
   "source": [
    "df2 = pd.read_csv(\"precio_casas_perdidos.csv\", sep = \",\")\n",
    "df2.head()"
   ]
  },
  {
   "cell_type": "code",
   "execution_count": null,
   "metadata": {},
   "outputs": [],
   "source": [
    "columnas_perdidas = df2.isnull().sum()\n",
    "columnas_perdidas = columnas_perdidas[columnas_perdidas > 0]\n",
    "columnas_perdidas"
   ]
  },
  {
   "cell_type": "code",
   "execution_count": null,
   "metadata": {},
   "outputs": [],
   "source": [
    "for col in columnas_perdidas.index:\n",
    "    media_columna = df2[col].mean()\n",
    "    df2.loc[:999, col] = df2.loc[:999, col].fillna(media_columna)\n",
    "df2"
   ]
  },
  {
   "cell_type": "code",
   "execution_count": null,
   "metadata": {},
   "outputs": [],
   "source": [
    "columnas_sin_perdidos = df2.columns[df2.isnull().sum() == 0]\n",
    "for col in columnas_sin_perdidos:\n",
    "    plt.figure(figsize=(10, 5))\n",
    "    plt.plot(df2.index, df[col], marker='o', linestyle='-', markersize=3)\n",
    "    plt.title(f\"{col}\")\n",
    "    "
   ]
  },
  {
   "cell_type": "markdown",
   "metadata": {},
   "source": [
    "Utilizando el conjunto de datos \"precio_casas.csv\" realizar las siguientes tareas:\n",
    "\n",
    "- Obtener un estimador basado en regresión lineal de la variable \"Mediana precio\" a partir del resto.\n",
    "- Mostrar por pantalla los coeficientes de regresión del estimador antes calculado.\n",
    "- Mostrar mediante un gráfico de barras los coeficientes de regresión."
   ]
  },
  {
   "cell_type": "code",
   "execution_count": null,
   "metadata": {},
   "outputs": [],
   "source": [
    "y = df[\"Mediana precio\"]\n",
    "x = df.drop(columns=[\"Mediana precio\"])\n",
    "reg = LinearRegression()\n",
    "reg.fit(x,y)"
   ]
  },
  {
   "cell_type": "code",
   "execution_count": null,
   "metadata": {},
   "outputs": [],
   "source": [
    "coeficientes = reg.coef_\n",
    "columnas = x.columns\n",
    "for col, coef in zip(columnas, coeficientes):\n",
    "    print(f\"{col}: {coef}\")"
   ]
  },
  {
   "cell_type": "code",
   "execution_count": null,
   "metadata": {},
   "outputs": [],
   "source": [
    "plt.bar(columnas,coeficientes)\n",
    "plt.xticks(rotation=45)"
   ]
  },
  {
   "cell_type": "markdown",
   "metadata": {},
   "source": [
    "Utilizando el conjunto de datos \"precio_casas.csv\" realizar las siguientes tareas:\n",
    "\n",
    "- Dividir el conjunto de datos en dos subconjuntos: entrenamiento con el 80% de las muestras y test con las restantes.\n",
    "- Obtener un estimador basado en regresión lineal de la variable \"Mediana precio\" a partir del resto.\n",
    "- Mostrar el RMSE y el R^2 tanto para el conjunto de entrenamiento como para el de test.\n",
    "- Obtener un estimador utilizando las 3 variables con mayor R^2 del conjunto completo.\n",
    "Mostrar el RMSE y el R^2 del estimador anterior para el conjunto de entrenamiento y el de test."
   ]
  },
  {
   "cell_type": "code",
   "execution_count": null,
   "metadata": {},
   "outputs": [],
   "source": [
    "x = df.iloc[:,:-1]\n",
    "y = df.iloc[:,-1]\n",
    "\n",
    "x_train, x_test, y_train, y_test = train_test_split(x,y, test_size=2, random_state=4567)\n",
    "reg=LinearRegression()\n",
    "reg.fit(x_train, y_train)"
   ]
  },
  {
   "cell_type": "code",
   "execution_count": null,
   "metadata": {},
   "outputs": [],
   "source": [
    "y2 = df[\"Mediana precio\"]\n",
    "x2 = df.drop(columns=[\"Mediana precio\"])\n",
    "\n",
    "x_train2, x_test2, y_train2, y_test2 = train_test_split(x2,y2, test_size=0.2, random_state=42)"
   ]
  },
  {
   "cell_type": "code",
   "execution_count": null,
   "metadata": {},
   "outputs": [],
   "source": [
    "y_train_pred = reg.predict(x_train)\n",
    "rmse_train = np.sqrt(mean_squared_error(y_train, y_train_pred))\n",
    "r2_train = r2_score(y_train, y_train_pred)\n",
    "print(f\"RMSE: {rmse_train}\")\n",
    "print(f\"R^2: {r2_train}\")"
   ]
  },
  {
   "cell_type": "code",
   "execution_count": null,
   "metadata": {},
   "outputs": [],
   "source": [
    "y_test_pred = reg.predict(x_test)\n",
    "rmse_test = np.sqrt(mean_squared_error(y_test, y_test_pred))\n",
    "r2_test = r2_score(y_test, y_test_pred)\n",
    "print(f\"RMSE: {rmse_test}\")\n",
    "print(f\"R^2: {r2_test}\")"
   ]
  },
  {
   "cell_type": "markdown",
   "metadata": {},
   "source": [
    "Utilizando el conjunto de datos \"precio_casas.csv\" realizar las siguientes tareas:\n",
    "\n",
    "- Dividir el conjunto de datos en dos subconjuntos: entrenamiento con el 80% de las muestras y test con las restantes.\n",
    "- Obtener un estimador univariable basado en regresión lineal para la variable \"Mediana precio\".\n",
    "- Para las 4 variables con menor RMSE en el conjunto de test, mostrar gráficamente las muestras del conjunto de entrenamiento y la recta de regresión obtenida.\n",
    "- Para las 4 variables con menor RMSE en el conjunto de test, mostrar gráficamente las muestras del conjunto de test y la recta de regresión obtenida."
   ]
  }
 ],
 "metadata": {
  "kernelspec": {
   "display_name": "Python 3",
   "language": "python",
   "name": "python3"
  },
  "language_info": {
   "codemirror_mode": {
    "name": "ipython",
    "version": 3
   },
   "file_extension": ".py",
   "mimetype": "text/x-python",
   "name": "python",
   "nbconvert_exporter": "python",
   "pygments_lexer": "ipython3",
   "version": "3.11.9"
  }
 },
 "nbformat": 4,
 "nbformat_minor": 2
}
