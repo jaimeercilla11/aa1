{
 "cells": [
  {
   "cell_type": "code",
   "execution_count": null,
   "metadata": {},
   "outputs": [],
   "source": [
    "import pandas as pd\n",
    "import numpy as np\n",
    "from sklearn.linear_model import SGDRegressor, LinearRegression\n",
    "import matplotlib.pyplot as plt\n",
    "from sklearn.preprocessing import MinMaxScaler\n",
    "from sklearn.metrics import r2_score\n",
    "from sklearn.model_selection import train_test_split\n",
    "from sklearn.metrics import mean_squared_error, r2_score\n",
    "\n"
   ]
  },
  {
   "cell_type": "markdown",
   "metadata": {},
   "source": [
    "Utilizando el conjunto de datos \"precio_casas.csv\" realizar las siguientes tareas:\n",
    "\n",
    "- Imprimir el nombre de cada columna seguido del valor medio, valor máximo y valor mínimo de dicha columna.\n",
    "- Imprimir el número de filas cuya suma sea inferior a 1000\n",
    "- Imprimir el nombre de las columnas cuya suma sea superior a 100000"
   ]
  },
  {
   "cell_type": "code",
   "execution_count": null,
   "metadata": {},
   "outputs": [],
   "source": [
    "df = pd.read_csv(\"precio_casas.csv\", sep = \";\")\n",
    "df.head()"
   ]
  },
  {
   "cell_type": "code",
   "execution_count": null,
   "metadata": {},
   "outputs": [],
   "source": [
    "for col in df.columns:\n",
    "    if pd.api.types.is_numeric_dtype(df[col]):\n",
    "        print(f\"{col} \\nMedia = {df[col].mean()} \\nmaximo={df[col].max()} \\nminimo={df[col].min()}\")"
   ]
  },
  {
   "cell_type": "code",
   "execution_count": null,
   "metadata": {},
   "outputs": [],
   "source": [
    "num_filas_menor_1000 = (df.sum(axis=1) < 1000).sum()\n",
    "print(f\"Nº filas menor a 1000:{num_filas_menor_1000}\")"
   ]
  },
  {
   "cell_type": "code",
   "execution_count": null,
   "metadata": {},
   "outputs": [],
   "source": [
    "col_mayor_100000 = [col for col in df.columns if df[col].sum() > 100000] \n",
    "print(f\"Nombre de columnas cuya suma sea mayor que 100000: {col_mayor_100000}\")"
   ]
  },
  {
   "cell_type": "markdown",
   "metadata": {},
   "source": [
    "Utilizando el conjunto de datos \"precio_casas-perdidos.csv\" realizar las siguientes tareas:\n",
    "\n",
    "- Imprimir el nombre de las columnas que posean algún valor perdido y el número de valores perdidos.\n",
    "- Para cada columna con valores perdidos, sustituir los que se encuentren en las 1000 primeras filas por la media de la columna.\n",
    "- Representar gráficamente los valores de las columnas que no poseen valores perdidos. La gráfica debe tener como titulo el nombre de la columna que representa.\n"
   ]
  },
  {
   "cell_type": "code",
   "execution_count": null,
   "metadata": {},
   "outputs": [],
   "source": [
    "df2 = pd.read_csv(\"precio_casas_perdidos.csv\", sep = \",\")\n",
    "df2"
   ]
  },
  {
   "cell_type": "code",
   "execution_count": null,
   "metadata": {},
   "outputs": [],
   "source": [
    "columnas_perdidas = df2.isnull().sum()\n",
    "columnas_perdidas = columnas_perdidas[columnas_perdidas > 0]\n",
    "columnas_perdidas"
   ]
  },
  {
   "cell_type": "code",
   "execution_count": null,
   "metadata": {},
   "outputs": [],
   "source": [
    "for col in columnas_perdidas.index:\n",
    "    media_columna = df2[col].mean()\n",
    "    df2.loc[:999, col] = df2.loc[:999, col].fillna(media_columna)\n",
    "df2"
   ]
  },
  {
   "cell_type": "code",
   "execution_count": null,
   "metadata": {},
   "outputs": [],
   "source": [
    "columnas_sin_perdidos = df.columns[df.isnull().sum() == 0]\n",
    "for col in columnas_sin_perdidos:\n",
    "    plt.figure(figsize=(10, 5))\n",
    "    plt.plot(df.index, df[col], marker='o', linestyle='-', markersize=3)\n",
    "    plt.title(f\"{col}\")\n",
    "    "
   ]
  },
  {
   "cell_type": "markdown",
   "metadata": {},
   "source": [
    "Utilizando el conjunto de datos \"precio_casas.csv\" realizar las siguientes tareas:\n",
    "\n",
    "- Obtener un estimador basado en regresión lineal de la variable \"Mediana precio\" a partir del resto.\n",
    "- Mostrar por pantalla los coeficientes de regresión del estimador antes calculado.\n",
    "- Mostrar mediante un gráfico de barras los coeficientes de regresión."
   ]
  },
  {
   "cell_type": "code",
   "execution_count": null,
   "metadata": {},
   "outputs": [],
   "source": [
    "y = df[\"Mediana precio\"]\n",
    "x = df.drop(columns=[\"Mediana precio\"])"
   ]
  },
  {
   "cell_type": "code",
   "execution_count": null,
   "metadata": {},
   "outputs": [],
   "source": [
    "reg = LinearRegression()\n",
    "reg.fit(x,y)"
   ]
  },
  {
   "cell_type": "code",
   "execution_count": null,
   "metadata": {},
   "outputs": [],
   "source": [
    "coeficientes = reg.coef_\n",
    "columnas = x.columns\n",
    "print(\"Coeficientes de regresión:\")\n",
    "for col, coef in zip(columnas, coeficientes):\n",
    "    print(f\"{col}: {coef}\")"
   ]
  },
  {
   "cell_type": "code",
   "execution_count": null,
   "metadata": {},
   "outputs": [],
   "source": [
    "plt.figure(figsize=(10, 5))\n",
    "plt.bar(columnas, coeficientes, color='blue')\n",
    "plt.xlabel(\"Variables\")\n",
    "plt.ylabel(\"Coeficientes de regresión\")\n",
    "plt.title(\"Coeficientes de regresión lineal para 'Mediana precio'\")\n",
    "plt.xticks(rotation=45)\n",
    "plt.grid(axis='y', linestyle='--', alpha=0.7)\n",
    "plt.show()\n"
   ]
  },
  {
   "cell_type": "markdown",
   "metadata": {},
   "source": [
    "Utilizando el conjunto de datos \"precio_casas.csv\" realizar las siguientes tareas:\n",
    "\n",
    "- Dividir el conjunto de datos en dos subconjuntos: entrenamiento con el 80% de las muestras y test con las restantes.\n",
    "- Obtener un estimador basado en regresión lineal de la variable \"Mediana precio\" a partir del resto.\n",
    "- Mostrar el RMSE y el R^2 tanto para el conjunto de entrenamiento como para el de test.\n",
    "- Obtener un estimador utilizando las 3 variables con mayor R^2 del conjunto completo.\n",
    "Mostrar el RMSE y el R^2 del estimador anterior para el conjunto de entrenamiento y el de test."
   ]
  },
  {
   "cell_type": "code",
   "execution_count": null,
   "metadata": {},
   "outputs": [],
   "source": [
    "y = df[\"Mediana precio\"]\n",
    "x = df.drop(columns=[\"Mediana precio\"])\n",
    "\n",
    "x_train, x_test, y_train, y_test = train_test_split(x,y, test_size=0.2, random_state=42)\n",
    "regr = LinearRegression()\n",
    "regr.fit(x_train, y_train)"
   ]
  },
  {
   "cell_type": "code",
   "execution_count": null,
   "metadata": {},
   "outputs": [],
   "source": [
    "y_test_pred = regr.predict(x_test)\n",
    "rmse_train = np.sqrt(mean_squared_error(y_test, y_test_pred))\n",
    "r2_train = r2_score(y_test, y_test_pred)\n",
    "print(f\"RMSE Entrenamiento: {rmse_train}\")\n",
    "print(f\"R^2 Entrenamiento: {r2_train}\")\n",
    "print(f\"RMSE Test: {rmse_train}\")\n",
    "print(f\"R^2 Test: {r2_train}\")"
   ]
  },
  {
   "cell_type": "code",
   "execution_count": null,
   "metadata": {},
   "outputs": [],
   "source": [
    "def calcular_r2_por_variable(X, y):\n",
    "    r2_scores = {}\n",
    "    for col in x.columns:\n",
    "        X_col = x[[col]]\n",
    "        modelo_var = LinearRegression()\n",
    "        modelo_var.fit(X_col, y)\n",
    "        r2_scores[col] = modelo_var.score(X_col, y)\n",
    "    return sorted(r2_scores, key=r2_scores.get, reverse=True)[:3]\n",
    "\n",
    "mejores_vars = calcular_r2_por_variable(x, y)\n",
    "X_train_best = x_train[mejores_vars]\n",
    "X_test_best = x_test[mejores_vars]\n"
   ]
  },
  {
   "cell_type": "code",
   "execution_count": null,
   "metadata": {},
   "outputs": [],
   "source": [
    "modelo_best = LinearRegression()\n",
    "modelo_best.fit(X_train_best, y_train)"
   ]
  },
  {
   "cell_type": "code",
   "execution_count": null,
   "metadata": {},
   "outputs": [],
   "source": [
    "y_train_pred_best = modelo_best.predict(X_train_best)\n",
    "y_test_pred_best = modelo_best.predict(X_test_best)\n",
    "\n",
    "rmse_train_best = np.sqrt(mean_squared_error(y_train, y_train_pred_best))\n",
    "r2_train_best = r2_score(y_train, y_train_pred_best)\n",
    "\n",
    "rmse_test_best = np.sqrt(mean_squared_error(y_test, y_test_pred_best))\n",
    "r2_test_best = r2_score(y_test, y_test_pred_best)\n",
    "\n",
    "print(f\"\\nModelo con las 3 mejores variables:\")\n",
    "print(f\"Variables seleccionadas: {mejores_vars}\")\n",
    "print(f\"RMSE Entrenamiento: {rmse_train_best}\")\n",
    "print(f\"R^2 Entrenamiento: {r2_train_best}\")\n",
    "print(f\"RMSE Test: {rmse_test_best}\")\n",
    "print(f\"R^2 Test: {r2_test_best}\")\n"
   ]
  },
  {
   "cell_type": "markdown",
   "metadata": {},
   "source": [
    "Utilizando el conjunto de datos \"precio_casas.csv\" realizar las siguientes tareas:\n",
    "\n",
    "- Dividir el conjunto de datos en dos subconjuntos: entrenamiento con el 80% de las muestras y test con las restantes.\n",
    "- Obtener un estimador univariable basado en regresión lineal para la variable \"Mediana precio\".\n",
    "- Para las 4 variables con menor RMSE en el conjunto de test, mostrar gráficamente las muestras del conjunto de entrenamiento y la recta de regresión obtenida.\n",
    "- Para las 4 variables con menor RMSE en el conjunto de test, mostrar gráficamente las muestras del conjunto de test y la recta de regresión obtenida."
   ]
  },
  {
   "cell_type": "code",
   "execution_count": null,
   "metadata": {},
   "outputs": [],
   "source": [
    "df = pd.read_csv(\"precio_casas.csv\", sep=\";\")\n",
    "\n",
    "x = df.drop(columns=[\"Mediana precio\"])\n",
    "y = df[\"Mediana precio\"]\n",
    "\n",
    "x_train, x_test, y_train, y_test = train_test_split(x,y, test_size = 0.2, random_state = 6789) "
   ]
  },
  {
   "cell_type": "code",
   "execution_count": null,
   "metadata": {},
   "outputs": [],
   "source": [
    "# obtener modelo univariables y calcular RMSE en test\n",
    "rmse_dict = {}\n",
    "modelos = {}\n",
    "\n",
    "for col in x.columns:\n",
    "    x_train_col = x_train[[col]]\n",
    "    x_test_col = x_test[[col]]\n",
    "\n",
    "    modelo = LinearRegression()\n",
    "    modelo.fit(x_train_col, y_train)\n",
    "\n",
    "    y_test_pred = modelo.predict(x_test_col)\n",
    "    rmse = np.sqrt(mean_squared_error(y_test, y_test_pred))\n",
    "\n",
    "    rmse_dict[col]= rmse\n",
    "    modelos[col] = modelo\n",
    "#seleccionar las 4 variables con menor RMSE\n",
    "mejores_vars = sorted(rmse_dict, key=rmse_dict.get)[:4]"
   ]
  },
  {
   "cell_type": "code",
   "execution_count": null,
   "metadata": {},
   "outputs": [],
   "source": [
    "# Graficar las muestras y la recta de regresión para entrenamiento y test\n",
    "for col in mejores_vars:\n",
    "    modelo = modelos[col]\n",
    "    \n",
    "    # Gráfico para el conjunto de entrenamiento\n",
    "    plt.figure(figsize=(6, 4))\n",
    "    plt.scatter(x_train[col], y_train, color='blue', label='Muestras de entrenamiento')\n",
    "    plt.plot(x_train[col], modelo.predict(x_train[[col]]), color='red', label='Recta de regresión')\n",
    "    plt.xlabel(col)\n",
    "    plt.ylabel(\"Mediana precio\")\n",
    "    plt.title(f\"Regresión lineal para {col} (Entrenamiento)\")\n",
    "    plt.legend()\n",
    "    plt.show()\n",
    "    \n",
    "    # Gráfico para el conjunto de test\n",
    "    plt.figure(figsize=(6, 4))\n",
    "    plt.scatter(x_test[col], y_test, color='green', label='Muestras de test')\n",
    "    plt.plot(x_test[col], modelo.predict(x_test[[col]]), color='red', label='Recta de regresión')\n",
    "    plt.xlabel(col)\n",
    "    plt.ylabel(\"Mediana precio\")\n",
    "    plt.title(f\"Regresión lineal para {col} (Test)\")\n",
    "    plt.legend()\n",
    "    plt.show()\n"
   ]
  }
 ],
 "metadata": {
  "kernelspec": {
   "display_name": "Python 3",
   "language": "python",
   "name": "python3"
  },
  "language_info": {
   "codemirror_mode": {
    "name": "ipython",
    "version": 3
   },
   "file_extension": ".py",
   "mimetype": "text/x-python",
   "name": "python",
   "nbconvert_exporter": "python",
   "pygments_lexer": "ipython3",
   "version": "3.11.9"
  }
 },
 "nbformat": 4,
 "nbformat_minor": 2
}
