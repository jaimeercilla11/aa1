{
 "cells": [
  {
   "cell_type": "code",
   "execution_count": null,
   "metadata": {},
   "outputs": [],
   "source": [
    "from sklearn.datasets import make_blobs\n",
    "from sklearn.model_selection import train_test_split\n",
    "from sklearn.linear_model import Perceptron\n",
    "import matplotlib.pyplot as plt\n",
    "import numpy as np\n",
    "from sklearn.metrics import accuracy_score\n"
   ]
  },
  {
   "cell_type": "markdown",
   "metadata": {},
   "source": [
    "Generar un conjunto de datos sintéticos con 100 muestras utilizando la función\n",
    "make_blobs con dos características y tres clases. Las clases estarán centradas en\n",
    "el espacio de características en ((0,0), (2,2), (2,0])) y desviación estándar para los\n",
    "clusters igual a 0.6."
   ]
  },
  {
   "cell_type": "code",
   "execution_count": null,
   "metadata": {},
   "outputs": [],
   "source": [
    "X, y = make_blobs(\n",
    "    100, # numero de muestras\n",
    "    n_features=2, # numero de caracteristicas\n",
    "    centers=[(0,0), (2,2), (2,0)], # centros de las muestras (o cantidad de muestras)\n",
    "    cluster_std=0.6, # desviacion estandar de las muestras\n",
    "    random_state=42 # semilla\n",
    ")\n",
    "\n",
    "print(X.shape)\n",
    "print(y.shape)\n",
    "\n",
    "# X es un array de 300 filas y 2 columnas\n",
    "# y es un array de 300 filas y 1 columna\n",
    "\n",
    "# Graficar los datos generados\n",
    "\n",
    "plt.scatter(X[y==0, 0], X[y==0, 1], c='r')\n",
    "plt.scatter(X[y==1, 0], X[y==1, 1], c='b')\n",
    "plt.show()"
   ]
  },
  {
   "cell_type": "markdown",
   "metadata": {},
   "source": [
    "Dividir el conjunto de datos en 70% de las muestras para entrenamiento y el resto\n",
    "para test usando como semilla el valor 567; y obtener el clasificador mediante el\n",
    "método Perceptrón"
   ]
  },
  {
   "cell_type": "code",
   "execution_count": null,
   "metadata": {},
   "outputs": [],
   "source": [
    "X_train, X_test, y_train, y_test = train_test_split(X, y, test_size=0.3, random_state=567)\n",
    "\n",
    "# Entrenar el clasificador Perceptrón\n",
    "clf = Perceptron(random_state=567)\n",
    "clf.fit(X_train, y_train)\n",
    "\n",
    "# Imprimir precisión en entrenamiento y prueba\n",
    "print(f\"Precisión en entrenamiento: {clf.score(X_train, y_train):.2f}\")\n",
    "print(f\"Precisión en prueba: {clf.score(X_test, y_test):.2f}\")\n",
    "\n"
   ]
  },
  {
   "cell_type": "markdown",
   "metadata": {},
   "source": [
    "3. Dibujar las muestras de entrenamiento y las superficies de decisión.\n"
   ]
  },
  {
   "cell_type": "code",
   "execution_count": null,
   "metadata": {},
   "outputs": [],
   "source": [
    "n_clases = 3\n",
    "\n",
    "for clase in range(n_clases):\n",
    "    m = -clf.coef_[clase][0] / clf.coef_[clase][1]\n",
    "    n = -clf.intercept_[clase] / clf.coef_[clase][1]\n",
    "    recta = X_train[:,0] * m + n\n",
    "    puntos_clase = y_train == clase\n",
    "    plt.scatter(X_train[puntos_clase,0], X_train[puntos_clase, 1])\n",
    "    plt.plot(X_train[:,0], recta, 'r')\n",
    "plt.ylim(-10, 10)\n",
    "plt.show()"
   ]
  },
  {
   "cell_type": "markdown",
   "metadata": {},
   "source": [
    "4. Dibujar las muestras de test y las superficies de decisión.\n"
   ]
  },
  {
   "cell_type": "code",
   "execution_count": null,
   "metadata": {},
   "outputs": [],
   "source": [
    "n_clases = 3\n",
    "\n",
    "for clase in range(n_clases):\n",
    "    m = -clf.coef_[clase][0] / clf.coef_[clase][1]\n",
    "    n = -clf.intercept_[clase] / clf.coef_[clase][1]\n",
    "    recta = X_test[:,0] * m + n\n",
    "    puntos_clase = y_test == clase\n",
    "    plt.scatter(X_test[puntos_clase,0], X_test[puntos_clase, 1])\n",
    "    plt.plot(X_test[:,0], recta, 'r')\n",
    "plt.ylim(-10, 10)\n",
    "plt.show()"
   ]
  },
  {
   "cell_type": "markdown",
   "metadata": {},
   "source": [
    "Obtener la exactitud del clasificador en el conjunto de test y analizar el resultado de\n",
    "acuerdo a la gráfica del apartado anterior.\n"
   ]
  },
  {
   "cell_type": "code",
   "execution_count": null,
   "metadata": {},
   "outputs": [],
   "source": [
    "y_pred = clf.predict(X_test)\n",
    "exactitud = accuracy_score(y_test, y_pred)\n",
    "print(f'Exactitud perceptron: {exactitud*100:.2f}%')"
   ]
  }
 ],
 "metadata": {
  "kernelspec": {
   "display_name": "Python 3",
   "language": "python",
   "name": "python3"
  },
  "language_info": {
   "codemirror_mode": {
    "name": "ipython",
    "version": 3
   },
   "file_extension": ".py",
   "mimetype": "text/x-python",
   "name": "python",
   "nbconvert_exporter": "python",
   "pygments_lexer": "ipython3",
   "version": "3.11.9"
  }
 },
 "nbformat": 4,
 "nbformat_minor": 2
}
