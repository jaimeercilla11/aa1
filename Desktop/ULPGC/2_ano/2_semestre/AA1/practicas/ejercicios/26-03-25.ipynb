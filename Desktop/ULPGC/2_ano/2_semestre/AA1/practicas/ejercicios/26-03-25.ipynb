{
 "cells": [
  {
   "cell_type": "markdown",
   "metadata": {},
   "source": [
    "1.Leer el conjunto de entrenamiento y de test de los archivos CelebA-1K-train.csv y CelebA-1K-test.csv respectivamente."
   ]
  },
  {
   "cell_type": "code",
   "execution_count": null,
   "metadata": {},
   "outputs": [],
   "source": [
    "import numpy as np\n",
    "import pandas as pd\n",
    "from sklearn.preprocessing import StandardScaler, LabelEncoder\n",
    "from sklearn.metrics import accuracy_score\n",
    "from sklearn.model_selection import train_test_split\n",
    "from sklearn.linear_model import LogisticRegression, Perceptron\n"
   ]
  },
  {
   "cell_type": "code",
   "execution_count": null,
   "metadata": {},
   "outputs": [],
   "source": [
    "dftrain = pd.read_csv(\"datos-practica-6/CelebA-1K-train.csv\", sep = \",\")\n",
    "dftest = pd.read_csv(\"datos-practica-6/CelebA-1K-test.csv\", sep = \",\")\n"
   ]
  },
  {
   "cell_type": "markdown",
   "metadata": {},
   "source": [
    "2.Entrenar un clasificador lineal biclásico utilizando el método de Regresión Logística y otro usando el perceptron obtener la tasa de acierto de los clasificadorres en las muestras del conjunto de test utilizar la función accuracy_score"
   ]
  },
  {
   "cell_type": "code",
   "execution_count": null,
   "metadata": {},
   "outputs": [],
   "source": [
    "X_train = dftrain.values[:,2:]\n",
    "y_train = dftrain.values[:,1]\n",
    "X_test = dftest.values[:,2:]\n",
    "y_test = dftest.values[:,1]\n",
    "clf = LogisticRegression(max_iter=1000) #sotfmax\n",
    "clf.fit(X_train, y_train)\n",
    "y_pred = clf.predict(X_test)\n",
    "exactitud = accuracy_score(y_test, y_pred)\n",
    "print(f'Exactitud regresión logística: {exactitud*100:.2f}%')\n",
    "\n",
    "\n",
    "clf2 = Perceptron(max_iter=1000)\n",
    "clf2.fit(X_train, y_train)\n",
    "y_pred = clf2.predict(X_test)\n",
    "exactitud = accuracy_score(y_test, y_pred)\n",
    "print(f'Exactitud perceptron: {exactitud*100:.2f}%')\n"
   ]
  },
  {
   "cell_type": "markdown",
   "metadata": {},
   "source": [
    "3.Clasificar las imágenes que están en el archivo comprimido ImagenesParaClasificar.zip y cuyas características están en el conjunto de datos de test CelebA-1K-test.csv, indicando cuales de ellas las clasifica incorrectamente el clasificador"
   ]
  },
  {
   "cell_type": "code",
   "execution_count": null,
   "metadata": {},
   "outputs": [],
   "source": [
    "import os\n",
    "\n",
    "def clasificar_imagenes(clf, df_test, carpeta_imagenes='ImagenesParaClasificar'):\n",
    "    \"\"\"\n",
    "    Clasifica las imágenes en una carpeta utilizando un clasificador ya entrenado\n",
    "    y un DataFrame con la información correspondiente.\n",
    "\n",
    "    Parámetros:\n",
    "    - clf: clasificador entrenado (por ejemplo, un modelo de sklearn)\n",
    "    - df_test: DataFrame con columnas ['Image_name', 'Genero', ...características]\n",
    "    - carpeta_imagenes: nombre de la carpeta con las imágenes a clasificar\n",
    "    \"\"\"\n",
    "    nombres = os.listdir(carpeta_imagenes)\n",
    "    print(f'Se encontraron {len(nombres)} imágenes para clasificar.\\n')\n",
    "\n",
    "    for nombre in nombres:\n",
    "        indice = df_test['Image_name'] == nombre\n",
    "        fila = df_test[indice]\n",
    "        \n",
    "        if fila.empty:\n",
    "            print(f'{nombre}: no se encontró en el DataFrame.\\n')\n",
    "            continue\n",
    "\n",
    "        genero = fila.values[0, 1]\n",
    "        X = fila.values[:, 2:]\n",
    "\n",
    "        genero_pred = clf.predict(X)\n",
    "        print(f'{nombre} → género etiquetado: {genero}')\n",
    "        print(f'{nombre} → género predicho:  {genero_pred[0]}\\n')\n",
    "clasificar_imagenes(clf, dftest, carpeta_imagenes=\"datos-practica-6/ImagenesParaClasificar\")"
   ]
  },
  {
   "cell_type": "code",
   "execution_count": null,
   "metadata": {},
   "outputs": [],
   "source": [
    "clasificar_imagenes(clf2, dftest, carpeta_imagenes=\"datos-practica-6/ImagenesParaClasificar\")"
   ]
  },
  {
   "cell_type": "markdown",
   "metadata": {},
   "source": [
    "4.Buscar la mejor configuración de hiperparametros\n",
    "Consulta la documentación oficial de ambos modelos (por ejemplo, en Scikit-learn).\n",
    "\n",
    "Identifica y entiende los hiperparámetros que puedes modificar en cada uno (como tasa de aprendizaje, regularización, número de iteraciones, tipo de penalización, etc.).\n",
    "\n",
    "Entrena ambos modelos utilizando diferentes combinaciones de hiperparámetros.\n",
    "\n",
    "Evalúa el rendimiento de cada configuración utilizando el accuracy\n",
    "\n",
    "Elige tu mejor modelo (mejor combinación de modelo + hiperparámetros) y anota los resultados finales.\n",
    "\n",
    "Compara tu mejor resultado con el de tus compañeros. ¿Quién ha conseguido la mejor precisión? ¿Con qué modelo y con qué configuración?"
   ]
  },
  {
   "cell_type": "code",
   "execution_count": null,
   "metadata": {},
   "outputs": [],
   "source": [
    "clf = LogisticRegression(max_iter=100,penalty='l2', dual=True, tol=0.1, C=0.5, fit_intercept=True, intercept_scaling=0.001, class_weight=None, random_state=None, solver='liblinear', multi_class='deprecated', verbose=0, warm_start=False, n_jobs=None, l1_ratio=None) #sotfmax\n",
    "clf.fit(X_train, y_train)\n",
    "y_pred = clf.predict(X_test)\n",
    "exactitud = accuracy_score(y_test, y_pred)\n",
    "print(f'Exactitud regresión logística: {exactitud*100:.2f}%')\n",
    "\n",
    "\n",
    "clf2 = Perceptron(max_iter=1000, penalty=None, alpha=0.005, l1_ratio=0.1, fit_intercept=True, tol=0.001, shuffle=True, verbose=0, eta0=4.0, n_jobs=None, random_state=0, early_stopping=False, validation_fraction=0.1, n_iter_no_change=50, class_weight=None, warm_start=True)\n",
    "clf2.fit(X_train, y_train)\n",
    "y_pred = clf2.predict(X_test)\n",
    "exactitud = accuracy_score(y_test, y_pred)\n",
    "print(f'Exactitud perceptron: {exactitud*100:.2f}%')\n"
   ]
  }
 ],
 "metadata": {
  "kernelspec": {
   "display_name": "Python 3",
   "language": "python",
   "name": "python3"
  },
  "language_info": {
   "codemirror_mode": {
    "name": "ipython",
    "version": 3
   },
   "file_extension": ".py",
   "mimetype": "text/x-python",
   "name": "python",
   "nbconvert_exporter": "python",
   "pygments_lexer": "ipython3",
   "version": "3.11.9"
  }
 },
 "nbformat": 4,
 "nbformat_minor": 2
}
