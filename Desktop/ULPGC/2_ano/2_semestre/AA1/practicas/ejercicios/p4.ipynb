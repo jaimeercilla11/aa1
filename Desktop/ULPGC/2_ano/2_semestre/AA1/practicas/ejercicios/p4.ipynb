{
 "cells": [
  {
   "cell_type": "code",
   "execution_count": null,
   "metadata": {},
   "outputs": [],
   "source": [
    "import pandas as pd\n",
    "import numpy as np\n",
    "from sklearn.linear_model import SGDRegressor, LinearRegression\n",
    "import matplotlib.pyplot as plt\n",
    "from sklearn.preprocessing import MinMaxScaler\n",
    "from sklearn.metrics import r2_score"
   ]
  },
  {
   "cell_type": "code",
   "execution_count": null,
   "metadata": {},
   "outputs": [],
   "source": [
    "df = pd.read_csv('tiempos-minutos.csv', sep = ';')\n",
    "SEED = 123\n",
    "TEST_SIZE = 0.20\n",
    "df.head()"
   ]
  },
  {
   "cell_type": "code",
   "execution_count": null,
   "metadata": {},
   "outputs": [],
   "source": [
    "df.info()"
   ]
  },
  {
   "cell_type": "code",
   "execution_count": null,
   "metadata": {},
   "outputs": [],
   "source": [
    "df"
   ]
  },
  {
   "cell_type": "code",
   "execution_count": null,
   "metadata": {},
   "outputs": [],
   "source": [
    "from sklearn.model_selection import train_test_split\n",
    "from sklearn.linear_model import SGDRegressor\n",
    "from sklearn.preprocessing import MinMaxScaler"
   ]
  },
  {
   "cell_type": "code",
   "execution_count": null,
   "metadata": {},
   "outputs": [],
   "source": [
    "df_scaled = df.copy()\n",
    "scaler = MinMaxScaler()\n",
    "df_scaled = scaler.fit_transform(df_scaled)\n",
    "\n",
    "X_scaled = df_scaled[:,:-1]\n",
    "y_scaled = df_scaled[:,-1]\n",
    "\n",
    "regr = SGDRegressor(\n",
    "    loss =\"squared_error\",\n",
    "    penalty=None,\n",
    "    max_iter=1060,\n",
    "    learning_rate='constant',\n",
    "    eta0=0.01,\n",
    "    random_state=SEED,\n",
    ")\n",
    "X = df.iloc[:,:-1].values\n",
    "y = df.iloc[:,-1].values\n",
    "\n",
    "X_train_scaled, X_test_scaled, y_train_scaled, y_test_scaled = train_test_split(\n",
    "    X_scaled,\n",
    "    y_scaled,\n",
    "    test_size=TEST_SIZE,\n",
    "    random_state=SEED\n",
    ")\n",
    "regr.fit(X_train_scaled, y_train_scaled)\n"
   ]
  },
  {
   "cell_type": "code",
   "execution_count": null,
   "metadata": {},
   "outputs": [],
   "source": [
    "r2 = regr.score(X_test_scaled, y_test_scaled)\n",
    "print(f\"R2:{r2}\")"
   ]
  },
  {
   "cell_type": "code",
   "execution_count": null,
   "metadata": {},
   "outputs": [],
   "source": [
    "def evaluate(model, xtrsca, ytrsca):\n",
    "    yTrainPred = model.predict(xtrsca)\n",
    "    mse = np.mean((ytrsca - yTrainPred)**2)\n",
    "    print(f\"MSE: {mse}\")"
   ]
  },
  {
   "cell_type": "code",
   "execution_count": null,
   "metadata": {},
   "outputs": [],
   "source": [
    "p1_train = X_scaled[:,0].reshape(-1,1)\n",
    "reg1 = SGDRegressor()\n",
    "reg1.fit(p1_train, y_scaled)\n",
    "r2 = reg1.score(p1_train, y_scaled)\n",
    "print(r2)\n",
    "\n",
    "plt.scatter(X_scaled[:,0].reshape(-1,1),y_scaled)\n",
    "x_line = np.linspace(X_scaled[:, 0].min(), X_scaled[:, 0].max(), 100).reshape(-1, 1)\n",
    "y_line = reg1.predict(x_line)\n",
    "plt.plot(x_line, y_line, color=\"red\", linewidth=2, label=\"Regresión Lineal\")"
   ]
  },
  {
   "cell_type": "code",
   "execution_count": null,
   "metadata": {},
   "outputs": [],
   "source": [
    "plt.scatter(X_scaled[:,1].reshape(-1,1),y_scaled)\n",
    "x_line = np.linspace(X_scaled[:, 1].min(), X_scaled[:, 1].max(), 100).reshape(-1, 1)\n",
    "y_line = reg1.predict(x_line)\n",
    "plt.plot(x_line, y_line, color=\"red\", linewidth=2, label=\"Regresión Lineal\")"
   ]
  },
  {
   "cell_type": "code",
   "execution_count": null,
   "metadata": {},
   "outputs": [],
   "source": [
    "plt.scatter(X_scaled[:,2].reshape(-1,1),y_scaled)\n",
    "x_line = np.linspace(X_scaled[:, 2].min(), X_scaled[:, 2].max(), 100).reshape(-1, 1)\n",
    "y_line = reg1.predict(x_line)\n",
    "plt.plot(x_line, y_line, color=\"red\", linewidth=2, label=\"Regresión Lineal\")"
   ]
  },
  {
   "cell_type": "code",
   "execution_count": null,
   "metadata": {},
   "outputs": [],
   "source": [
    "plt.scatter(X_scaled[:,3].reshape(-1,1),y_scaled)\n",
    "x_line = np.linspace(X_scaled[:, 3].min(), X_scaled[:, 3].max(), 100).reshape(-1, 1)\n",
    "y_line = reg1.predict(x_line)\n",
    "plt.plot(x_line, y_line, color=\"red\", linewidth=2, label=\"Regresión Lineal\")"
   ]
  },
  {
   "cell_type": "code",
   "execution_count": null,
   "metadata": {},
   "outputs": [],
   "source": [
    "plt.scatter(X_scaled[:,4].reshape(-1,1),y_scaled)\n",
    "x_line = np.linspace(X_scaled[:, 4].min(), X_scaled[:, 4].max(), 100).reshape(-1, 1)\n",
    "y_line = reg1.predict(x_line)\n",
    "plt.plot(x_line, y_line, color=\"red\", linewidth=2, label=\"Regresión Lineal\")\n"
   ]
  },
  {
   "cell_type": "code",
   "execution_count": null,
   "metadata": {},
   "outputs": [],
   "source": [
    "plt.scatter(X_scaled[:,5].reshape(-1,1),y_scaled)\n",
    "x_line = np.linspace(X_scaled[:, 5].min(), X_scaled[:, 5].max(), 100).reshape(-1, 1)\n",
    "y_line = reg1.predict(x_line)\n",
    "plt.plot(x_line, y_line, color=\"red\", linewidth=2, label=\"Regresión Lineal\")"
   ]
  },
  {
   "cell_type": "code",
   "execution_count": null,
   "metadata": {},
   "outputs": [],
   "source": [
    "n_epochs = 1000\n",
    "r2_list = []\n",
    "for epoch in range(n_epochs):\n",
    "    regr.partial_fit(X_train_scaled, y_train_scaled)\n",
    "    r2 = regr.score(X_train_scaled, y_train_scaled)\n",
    "    r2_list.append(r2)"
   ]
  },
  {
   "cell_type": "code",
   "execution_count": null,
   "metadata": {},
   "outputs": [],
   "source": [
    "plt.plot(r2_list)\n",
    "plt.grid()"
   ]
  }
 ],
 "metadata": {
  "kernelspec": {
   "display_name": "Python 3",
   "language": "python",
   "name": "python3"
  },
  "language_info": {
   "codemirror_mode": {
    "name": "ipython",
    "version": 3
   },
   "file_extension": ".py",
   "mimetype": "text/x-python",
   "name": "python",
   "nbconvert_exporter": "python",
   "pygments_lexer": "ipython3",
   "version": "3.11.9"
  }
 },
 "nbformat": 4,
 "nbformat_minor": 2
}
