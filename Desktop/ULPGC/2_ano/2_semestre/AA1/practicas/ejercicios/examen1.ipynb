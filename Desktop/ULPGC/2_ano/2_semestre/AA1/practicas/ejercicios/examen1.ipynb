{
 "cells": [
  {
   "cell_type": "markdown",
   "metadata": {},
   "source": [
    "En una agencia inmobiliaria disponen de datos de precios de casas y algunas características de las mismas y están interesados en utilizar modelos de Inteligencia Artificial para obtener información de los datos que poseen. El conjunto de datos *PrecioCasas.csv* contiene información sobre las viviendas, con las siguientes variables:  \n",
    "- Precio. Precio de la casa\n",
    "- Superficie: Superificie\n",
    "- Num_Habitaciones: Número de habitaciones\n",
    "- Nun_Baños: Número de baños\n",
    "- Num_Pisos: Número de plantas\n",
    "\n",
    "La información en la que están interesados en la agencia inmobiliria es la siguiente:"
   ]
  },
  {
   "cell_type": "code",
   "execution_count": 16,
   "metadata": {},
   "outputs": [],
   "source": [
    "import pandas as pd\n",
    "import os"
   ]
  },
  {
   "cell_type": "code",
   "execution_count": 17,
   "metadata": {},
   "outputs": [
    {
     "data": {
      "application/vnd.microsoft.datawrangler.viewer.v0+json": {
       "columns": [
        {
         "name": "index",
         "rawType": "int64",
         "type": "integer"
        },
        {
         "name": "Precio",
         "rawType": "int64",
         "type": "integer"
        },
        {
         "name": "Superficie",
         "rawType": "int64",
         "type": "integer"
        },
        {
         "name": "Num_Habitaciones",
         "rawType": "int64",
         "type": "integer"
        },
        {
         "name": "Num_Baños",
         "rawType": "int64",
         "type": "integer"
        },
        {
         "name": "Num_Pisos",
         "rawType": "int64",
         "type": "integer"
        }
       ],
       "conversionMethod": "pd.DataFrame",
       "ref": "ba2c1b34-fc05-450f-8e19-7cd697a5b59d",
       "rows": [
        [
         "0",
         "13300000",
         "7420",
         "4",
         "2",
         "3"
        ],
        [
         "1",
         "12250000",
         "8960",
         "4",
         "4",
         "4"
        ],
        [
         "2",
         "12250000",
         "9960",
         "3",
         "2",
         "2"
        ],
        [
         "3",
         "12215000",
         "7500",
         "4",
         "2",
         "2"
        ],
        [
         "4",
         "11410000",
         "7420",
         "4",
         "1",
         "2"
        ],
        [
         "5",
         "10850000",
         "7500",
         "3",
         "3",
         "1"
        ],
        [
         "6",
         "10150000",
         "8580",
         "4",
         "3",
         "4"
        ],
        [
         "7",
         "10150000",
         "16200",
         "5",
         "3",
         "2"
        ],
        [
         "8",
         "9870000",
         "8100",
         "4",
         "1",
         "2"
        ],
        [
         "9",
         "9800000",
         "5750",
         "3",
         "2",
         "4"
        ],
        [
         "10",
         "9800000",
         "13200",
         "3",
         "1",
         "2"
        ],
        [
         "11",
         "9681000",
         "6000",
         "4",
         "3",
         "2"
        ],
        [
         "12",
         "9310000",
         "6550",
         "4",
         "2",
         "2"
        ],
        [
         "13",
         "9240000",
         "3500",
         "4",
         "2",
         "2"
        ],
        [
         "14",
         "9240000",
         "7800",
         "3",
         "2",
         "2"
        ],
        [
         "15",
         "9100000",
         "6000",
         "4",
         "1",
         "2"
        ],
        [
         "16",
         "9100000",
         "6600",
         "4",
         "2",
         "2"
        ],
        [
         "17",
         "8960000",
         "8500",
         "3",
         "2",
         "4"
        ],
        [
         "18",
         "8890000",
         "4600",
         "3",
         "2",
         "2"
        ],
        [
         "19",
         "8855000",
         "6420",
         "3",
         "2",
         "2"
        ],
        [
         "20",
         "8750000",
         "4320",
         "3",
         "1",
         "2"
        ],
        [
         "21",
         "8680000",
         "7155",
         "3",
         "2",
         "1"
        ],
        [
         "22",
         "8645000",
         "8050",
         "3",
         "1",
         "1"
        ],
        [
         "23",
         "8645000",
         "4560",
         "3",
         "2",
         "2"
        ],
        [
         "24",
         "8575000",
         "8800",
         "3",
         "2",
         "2"
        ],
        [
         "25",
         "8540000",
         "6540",
         "4",
         "2",
         "2"
        ],
        [
         "26",
         "8463000",
         "6000",
         "3",
         "2",
         "4"
        ],
        [
         "27",
         "8400000",
         "8875",
         "3",
         "1",
         "1"
        ],
        [
         "28",
         "8400000",
         "7950",
         "5",
         "2",
         "2"
        ],
        [
         "29",
         "8400000",
         "5500",
         "4",
         "2",
         "2"
        ],
        [
         "30",
         "8400000",
         "7475",
         "3",
         "2",
         "4"
        ],
        [
         "31",
         "8400000",
         "7000",
         "3",
         "1",
         "4"
        ],
        [
         "32",
         "8295000",
         "4880",
         "4",
         "2",
         "2"
        ],
        [
         "33",
         "8190000",
         "5960",
         "3",
         "3",
         "2"
        ],
        [
         "34",
         "8120000",
         "6840",
         "5",
         "1",
         "2"
        ],
        [
         "35",
         "8080940",
         "7000",
         "3",
         "2",
         "4"
        ],
        [
         "36",
         "8043000",
         "7482",
         "3",
         "2",
         "3"
        ],
        [
         "37",
         "7980000",
         "9000",
         "4",
         "2",
         "4"
        ],
        [
         "38",
         "7962500",
         "6000",
         "3",
         "1",
         "4"
        ],
        [
         "39",
         "7910000",
         "6000",
         "4",
         "2",
         "4"
        ],
        [
         "40",
         "7875000",
         "6550",
         "3",
         "1",
         "2"
        ],
        [
         "41",
         "7840000",
         "6360",
         "3",
         "2",
         "4"
        ],
        [
         "42",
         "7700000",
         "6480",
         "3",
         "2",
         "4"
        ],
        [
         "43",
         "7700000",
         "6000",
         "4",
         "2",
         "4"
        ],
        [
         "44",
         "7560000",
         "6000",
         "4",
         "2",
         "4"
        ],
        [
         "45",
         "7560000",
         "6000",
         "3",
         "2",
         "3"
        ],
        [
         "46",
         "7525000",
         "6000",
         "3",
         "2",
         "4"
        ],
        [
         "47",
         "7490000",
         "6600",
         "3",
         "1",
         "4"
        ],
        [
         "48",
         "7455000",
         "4300",
         "3",
         "2",
         "2"
        ],
        [
         "49",
         "7420000",
         "7440",
         "3",
         "2",
         "1"
        ]
       ],
       "shape": {
        "columns": 5,
        "rows": 545
       }
      },
      "text/html": [
       "<div>\n",
       "<style scoped>\n",
       "    .dataframe tbody tr th:only-of-type {\n",
       "        vertical-align: middle;\n",
       "    }\n",
       "\n",
       "    .dataframe tbody tr th {\n",
       "        vertical-align: top;\n",
       "    }\n",
       "\n",
       "    .dataframe thead th {\n",
       "        text-align: right;\n",
       "    }\n",
       "</style>\n",
       "<table border=\"1\" class=\"dataframe\">\n",
       "  <thead>\n",
       "    <tr style=\"text-align: right;\">\n",
       "      <th></th>\n",
       "      <th>Precio</th>\n",
       "      <th>Superficie</th>\n",
       "      <th>Num_Habitaciones</th>\n",
       "      <th>Num_Baños</th>\n",
       "      <th>Num_Pisos</th>\n",
       "    </tr>\n",
       "  </thead>\n",
       "  <tbody>\n",
       "    <tr>\n",
       "      <th>0</th>\n",
       "      <td>13300000</td>\n",
       "      <td>7420</td>\n",
       "      <td>4</td>\n",
       "      <td>2</td>\n",
       "      <td>3</td>\n",
       "    </tr>\n",
       "    <tr>\n",
       "      <th>1</th>\n",
       "      <td>12250000</td>\n",
       "      <td>8960</td>\n",
       "      <td>4</td>\n",
       "      <td>4</td>\n",
       "      <td>4</td>\n",
       "    </tr>\n",
       "    <tr>\n",
       "      <th>2</th>\n",
       "      <td>12250000</td>\n",
       "      <td>9960</td>\n",
       "      <td>3</td>\n",
       "      <td>2</td>\n",
       "      <td>2</td>\n",
       "    </tr>\n",
       "    <tr>\n",
       "      <th>3</th>\n",
       "      <td>12215000</td>\n",
       "      <td>7500</td>\n",
       "      <td>4</td>\n",
       "      <td>2</td>\n",
       "      <td>2</td>\n",
       "    </tr>\n",
       "    <tr>\n",
       "      <th>4</th>\n",
       "      <td>11410000</td>\n",
       "      <td>7420</td>\n",
       "      <td>4</td>\n",
       "      <td>1</td>\n",
       "      <td>2</td>\n",
       "    </tr>\n",
       "    <tr>\n",
       "      <th>...</th>\n",
       "      <td>...</td>\n",
       "      <td>...</td>\n",
       "      <td>...</td>\n",
       "      <td>...</td>\n",
       "      <td>...</td>\n",
       "    </tr>\n",
       "    <tr>\n",
       "      <th>540</th>\n",
       "      <td>1820000</td>\n",
       "      <td>3000</td>\n",
       "      <td>2</td>\n",
       "      <td>1</td>\n",
       "      <td>1</td>\n",
       "    </tr>\n",
       "    <tr>\n",
       "      <th>541</th>\n",
       "      <td>1767150</td>\n",
       "      <td>2400</td>\n",
       "      <td>3</td>\n",
       "      <td>1</td>\n",
       "      <td>1</td>\n",
       "    </tr>\n",
       "    <tr>\n",
       "      <th>542</th>\n",
       "      <td>1750000</td>\n",
       "      <td>3620</td>\n",
       "      <td>2</td>\n",
       "      <td>1</td>\n",
       "      <td>1</td>\n",
       "    </tr>\n",
       "    <tr>\n",
       "      <th>543</th>\n",
       "      <td>1750000</td>\n",
       "      <td>2910</td>\n",
       "      <td>3</td>\n",
       "      <td>1</td>\n",
       "      <td>1</td>\n",
       "    </tr>\n",
       "    <tr>\n",
       "      <th>544</th>\n",
       "      <td>1750000</td>\n",
       "      <td>3850</td>\n",
       "      <td>3</td>\n",
       "      <td>1</td>\n",
       "      <td>2</td>\n",
       "    </tr>\n",
       "  </tbody>\n",
       "</table>\n",
       "<p>545 rows × 5 columns</p>\n",
       "</div>"
      ],
      "text/plain": [
       "       Precio  Superficie  Num_Habitaciones  Num_Baños  Num_Pisos\n",
       "0    13300000        7420                 4          2          3\n",
       "1    12250000        8960                 4          4          4\n",
       "2    12250000        9960                 3          2          2\n",
       "3    12215000        7500                 4          2          2\n",
       "4    11410000        7420                 4          1          2\n",
       "..        ...         ...               ...        ...        ...\n",
       "540   1820000        3000                 2          1          1\n",
       "541   1767150        2400                 3          1          1\n",
       "542   1750000        3620                 2          1          1\n",
       "543   1750000        2910                 3          1          1\n",
       "544   1750000        3850                 3          1          2\n",
       "\n",
       "[545 rows x 5 columns]"
      ]
     },
     "execution_count": 17,
     "metadata": {},
     "output_type": "execute_result"
    }
   ],
   "source": [
    "df = pd.read_csv(\"PrecioCasas.csv\", sep = \",\")\n",
    "df"
   ]
  },
  {
   "cell_type": "markdown",
   "metadata": {},
   "source": [
    "1. ¿Qué dos variables tienen mayor influencia en el precio de la vivienda? Justifica tu respuesta. (2 puntos)\n"
   ]
  },
  {
   "cell_type": "code",
   "execution_count": 18,
   "metadata": {},
   "outputs": [
    {
     "data": {
      "text/plain": [
       "array([3.80024429e+02, 1.98295494e+05, 1.20018047e+06, 5.31595009e+05])"
      ]
     },
     "execution_count": 18,
     "metadata": {},
     "output_type": "execute_result"
    }
   ],
   "source": [
    "import numpy as np\n",
    "from sklearn.linear_model import LinearRegression\n",
    "\n",
    "x = df.iloc[:,1:].values\n",
    "y = df.iloc[:,0].values\n",
    "\n",
    "reg = LinearRegression()\n",
    "reg.fit(x,y)\n",
    "reg.coef_"
   ]
  },
  {
   "cell_type": "markdown",
   "metadata": {},
   "source": [
    "las variables que tienes mayor influencia son las 2 ultimas debido a que poseen el coeficiente mas alto"
   ]
  },
  {
   "cell_type": "markdown",
   "metadata": {},
   "source": [
    "2. Si en lugar de utilizar la regresión lineal sin regularización, se utilizara con regularización L1 (Lasso) con $\\alpha=10$, ¿las conclusiones serían iguales a las obtenidas en el ejercicio 1? ¿Existe alguna diferencia? Explicar (2 puntos)"
   ]
  },
  {
   "cell_type": "code",
   "execution_count": 19,
   "metadata": {},
   "outputs": [
    {
     "name": "stdout",
     "output_type": "stream",
     "text": [
      "Lasso:[3.80026554e+02 1.98286966e+05 1.20014612e+06 5.31590704e+05] \n",
      "RS:[3.80024429e+02 1.98295494e+05 1.20018047e+06 5.31595009e+05]\n"
     ]
    }
   ],
   "source": [
    "from sklearn.linear_model import Lasso\n",
    "reg_ls = Lasso(10)\n",
    "reg_ls.fit(x,y)\n",
    "print(f\"Lasso:{reg_ls.coef_} \\nRS:{reg.coef_}\")"
   ]
  },
  {
   "cell_type": "markdown",
   "metadata": {},
   "source": [
    "4. Analizar cómo de fiable es la predicción del precio utilizando la superficie y el número de habitaciones, empleando un conjunto de test del 20% de los datos, y usando como medida de rendimiento la raíz cuadradada del error cuadrado medio (RMSE) (2 puntos)"
   ]
  },
  {
   "cell_type": "code",
   "execution_count": 23,
   "metadata": {},
   "outputs": [
    {
     "data": {
      "text/plain": [
       "1927623.1201842618"
      ]
     },
     "execution_count": 23,
     "metadata": {},
     "output_type": "execute_result"
    }
   ],
   "source": [
    "from sklearn.model_selection import train_test_split\n",
    "from sklearn.metrics import root_mean_squared_error\n",
    "\n",
    "X_train, X_test, y_train, y_test = train_test_split(x, y, test_size=0.2, random_state=2025)\n",
    "\n",
    "X_train1 = X_train[:, 1:3]\n",
    "X_test1 = X_test[:, 1:3]\n",
    "\n",
    "reg.fit(X_train1, y_train)\n",
    "y_pred = reg.predict(X_test1)\n",
    "error = root_mean_squared_error(y_test, y_pred)\n",
    "error\n",
    "\n"
   ]
  },
  {
   "cell_type": "markdown",
   "metadata": {},
   "source": [
    "5. Debido a la diferencia de rango de las variables, se deciden escalar los valores y repetir el análisis anterior. (2 puntos)"
   ]
  },
  {
   "cell_type": "code",
   "execution_count": null,
   "metadata": {},
   "outputs": [],
   "source": [
    "from sklearn.preprocessing import MinMaxScaler\n",
    "\n",
    "valores = df.iloc[:,1:].values\n",
    "normalizador = MinMaxScaler()\n",
    "df2 = normalizador.fit_transform\n",
    "x1 = df2[:,1:]\n",
    "y1 = df2[:,0]\n",
    "\n",
    "x_train2, x_test2, y_train2, y_test2 = train_test_split(x1, y1, test_size=0.2, random_state=456)\n",
    "\n",
    "x_train3 = x_train2[:,1:3]\n",
    "x_test3 = x_test2[:,1:3]\n",
    "\n",
    "reg.fit(x_train3, y_train2)\n",
    "y_pred2 = "
   ]
  }
 ],
 "metadata": {
  "kernelspec": {
   "display_name": "Python 3",
   "language": "python",
   "name": "python3"
  },
  "language_info": {
   "codemirror_mode": {
    "name": "ipython",
    "version": 3
   },
   "file_extension": ".py",
   "mimetype": "text/x-python",
   "name": "python",
   "nbconvert_exporter": "python",
   "pygments_lexer": "ipython3",
   "version": "3.11.9"
  }
 },
 "nbformat": 4,
 "nbformat_minor": 2
}
