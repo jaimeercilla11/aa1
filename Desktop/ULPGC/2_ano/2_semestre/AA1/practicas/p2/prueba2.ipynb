{
 "cells": [
  {
   "cell_type": "markdown",
   "id": "1bcb8fce",
   "metadata": {},
   "source": [
    "Paso inicial\n",
    "- Carga el archivo iris.csv.\n",
    "- Codifica la columna class como variable numérica (LabelEncoder).\n",
    "- Normaliza los datos con MinMaxScaler.\n",
    "- Separa en entrenamiento (80%) y prueba (20%) con semilla 42."
   ]
  },
  {
   "cell_type": "code",
   "execution_count": null,
   "id": "2dc6ed2b",
   "metadata": {},
   "outputs": [],
   "source": [
    "import pandas as pd\n",
    "from sklearn.preprocessing import MinMaxScaler, LabelEncoder\n",
    "from sklearn.model_selection import train_test_split\n",
    "\n",
    "df = pd.read_csv(\"iris.csv\", sep = \",\")\n",
    "X = df.drop(\"class\", axis=1)\n",
    "y =LabelEncoder().fit_transform(df[\"class\"])\n",
    "\n",
    "scaler = MinMaxScaler()\n",
    "X_scaled = scaler.fit_transform(X)\n",
    "\n",
    "X_train, X_test, y_train, y_test = train_test_split(X_scaled, y, test_size = 0.2, random_state = 42)"
   ]
  },
  {
   "cell_type": "markdown",
   "id": "8240382e",
   "metadata": {},
   "source": [
    "Ejercicio 1: Clasificadores básicos\n",
    "Entrena los siguientes modelos y compara su exactitud:\n",
    "\n",
    "- Regresión logística\n",
    "- Perceptrón\n",
    "- SVM lineal\n",
    "- KNN (k=5)"
   ]
  },
  {
   "cell_type": "code",
   "execution_count": 1,
   "id": "59ab9ce4",
   "metadata": {},
   "outputs": [
    {
     "ename": "NameError",
     "evalue": "name 'X_train' is not defined",
     "output_type": "error",
     "traceback": [
      "\u001b[1;31m---------------------------------------------------------------------------\u001b[0m",
      "\u001b[1;31mNameError\u001b[0m                                 Traceback (most recent call last)",
      "Cell \u001b[1;32mIn[1], line 14\u001b[0m\n\u001b[0;32m      6\u001b[0m modelos \u001b[38;5;241m=\u001b[39m {\n\u001b[0;32m      7\u001b[0m     \u001b[38;5;124m\"\u001b[39m\u001b[38;5;124mRegresion logistica\u001b[39m\u001b[38;5;124m\"\u001b[39m: LogisticRegression(max_iter\u001b[38;5;241m=\u001b[39m\u001b[38;5;241m1000\u001b[39m),\n\u001b[0;32m      8\u001b[0m     \u001b[38;5;124m\"\u001b[39m\u001b[38;5;124mPerceptron\u001b[39m\u001b[38;5;124m\"\u001b[39m: Perceptron(max_iter\u001b[38;5;241m=\u001b[39m\u001b[38;5;241m1000\u001b[39m),\n\u001b[0;32m      9\u001b[0m     \u001b[38;5;124m\"\u001b[39m\u001b[38;5;124mSVM lineal\u001b[39m\u001b[38;5;124m\"\u001b[39m: SVC(kernel\u001b[38;5;241m=\u001b[39m\u001b[38;5;124m\"\u001b[39m\u001b[38;5;124mlinear\u001b[39m\u001b[38;5;124m\"\u001b[39m),\n\u001b[0;32m     10\u001b[0m     \u001b[38;5;124m\"\u001b[39m\u001b[38;5;124mKNN(k=5)\u001b[39m\u001b[38;5;124m\"\u001b[39m: KNeighborsClassifier(n_neighbors\u001b[38;5;241m=\u001b[39m\u001b[38;5;241m5\u001b[39m)\n\u001b[0;32m     11\u001b[0m }\n\u001b[0;32m     13\u001b[0m \u001b[38;5;28;01mfor\u001b[39;00m nombre, modelo \u001b[38;5;129;01min\u001b[39;00m modelos\u001b[38;5;241m.\u001b[39mitems():\n\u001b[1;32m---> 14\u001b[0m     modelo\u001b[38;5;241m.\u001b[39mfit(\u001b[43mX_train\u001b[49m, y_train)\n\u001b[0;32m     15\u001b[0m     acc \u001b[38;5;241m=\u001b[39m accuracy_score(y_test, modelo\u001b[38;5;241m.\u001b[39mpredict(X_test))\n\u001b[0;32m     16\u001b[0m     \u001b[38;5;28mprint\u001b[39m(\u001b[38;5;124mf\u001b[39m\u001b[38;5;124m\"\u001b[39m\u001b[38;5;132;01m{\u001b[39;00mmodelo\u001b[38;5;132;01m}\u001b[39;00m\u001b[38;5;124m:\u001b[39m\u001b[38;5;132;01m{\u001b[39;00macc\u001b[38;5;132;01m:\u001b[39;00m\u001b[38;5;124m.4f\u001b[39m\u001b[38;5;132;01m}\u001b[39;00m\u001b[38;5;124m\"\u001b[39m)\n",
      "\u001b[1;31mNameError\u001b[0m: name 'X_train' is not defined"
     ]
    }
   ],
   "source": [
    "from sklearn.linear_model import LogisticRegression, Perceptron\n",
    "from sklearn.svm import SVC\n",
    "from sklearn.neighbors import KNeighborsClassifier\n",
    "from sklearn.metrics import accuracy_score\n",
    "\n",
    "modelos = {\n",
    "    \"Regresion logistica\": LogisticRegression(max_iter=1000),\n",
    "    \"Perceptron\": Perceptron(max_iter=1000),\n",
    "    \"SVM lineal\": SVC(kernel=\"linear\"),\n",
    "    \"KNN(k=5)\": KNeighborsClassifier(n_neighbors=5)\n",
    "}\n",
    "\n",
    "for nombre, modelo in modelos.items():\n",
    "    modelo.fit(X_train, y_train)\n",
    "    acc = accuracy_score(y_test, modelo.predict(X_test))\n",
    "    print(f\"{modelo}:{acc:.4f}\")"
   ]
  },
  {
   "cell_type": "markdown",
   "id": "0d7e4306",
   "metadata": {},
   "source": [
    "Ejercicio 2: Visualización de fronteras\n",
    "- Usa sepal length y petal width para entrenar una SVM lineal.\n",
    "- Dibuja la superficie de decisión y los vectores soporte. ¿Cuántos vectores soporte hay?\n",
    "- Repite con C=0.1, C=1 y C=10."
   ]
  },
  {
   "cell_type": "code",
   "execution_count": null,
   "id": "014a52af",
   "metadata": {},
   "outputs": [],
   "source": [
    "import matplotlib.pyplot as plt\n",
    "import numpy as np\n",
    "\n",
    "df = pd.read_csv(\"iris.csv\")\n",
    "df = df[df[\"class\"].isin([\"Iris-setosa\", \"Iris-versicolor\"])]  # Binario\n",
    "\n",
    "# Seleccionar dos variables\n",
    "X = df[[\"sepal length\", \"petal width\"]]\n",
    "y = LabelEncoder().fit_transform(df[\"class\"])  # 0 y 1\n",
    "\n",
    "# Normalizar y dividir\n",
    "X_scaled = MinMaxScaler().fit_transform(X)\n",
    "X_train, X_test, y_train, y_test = train_test_split(X_scaled, y, test_size=0.2, random_state=42)\n",
    "\n",
    "# Función para graficar para cada valor de C\n",
    "def graficar_svm_lineal(C_val):\n",
    "    clf = SVC(kernel='linear', C=C_val)\n",
    "    clf.fit(X_train, y_train)\n",
    "\n",
    "    # Dibujar muestras\n",
    "    for clase in np.unique(y_train):\n",
    "        plt.scatter(X_train[y_train == clase, 0], X_train[y_train == clase, 1], label=f\"Clase {clase}\")\n",
    "\n",
    "    # Vectores soporte\n",
    "    plt.scatter(clf.support_vectors_[:, 0], clf.support_vectors_[:, 1], c='k', marker='*', label='Vectores soporte')\n",
    "\n",
    "    # Recta de decisión\n",
    "    m = -clf.coef_[0, 0] / clf.coef_[0, 1]\n",
    "    n = -clf.intercept_[0] / clf.coef_[0, 1]\n",
    "    x_vals = np.linspace(X_train[:, 0].min(), X_train[:, 0].max(), 100)\n",
    "    plt.plot(x_vals, m * x_vals + n, 'k-', label='Recta de decisión')\n",
    "\n",
    "    plt.xlabel(\"sepal length\")\n",
    "    plt.ylabel(\"petal width\")\n",
    "    plt.title(f\"SVM Lineal (C={C_val})\")\n",
    "    plt.legend()\n",
    "    plt.grid(True)\n",
    "    plt.show()\n",
    "\n",
    "    print(f\"C={C_val} -> Vectores soporte: {len(clf.support_)}\")\n",
    "\n",
    "# Ejecutar para los valores deseados de C\n",
    "for C in [0.1, 1, 10]:\n",
    "    graficar_svm_lineal(C)"
   ]
  },
  {
   "cell_type": "markdown",
   "id": "46631971",
   "metadata": {},
   "source": [
    "Ejercicio 3: Multiclase con KNN\n",
    "- Prueba con k = 1, k = 3, k = 9."
   ]
  },
  {
   "cell_type": "code",
   "execution_count": null,
   "id": "7a144564",
   "metadata": {},
   "outputs": [],
   "source": [
    "for k in [1, 3, 9]:\n",
    "    knn = KNeighborsClassifier(n_neighbors=k)\n",
    "    knn.fit(X_train, y_train)\n",
    "    y_pred = knn.predict(X_test)\n",
    "    acc = accuracy_score(y_test, y_pred)\n",
    "    print(f\"KNN (k={k}) Accuracy: {acc:.4f}\")"
   ]
  }
 ],
 "metadata": {
  "kernelspec": {
   "display_name": "Python 3",
   "language": "python",
   "name": "python3"
  },
  "language_info": {
   "codemirror_mode": {
    "name": "ipython",
    "version": 3
   },
   "file_extension": ".py",
   "mimetype": "text/x-python",
   "name": "python",
   "nbconvert_exporter": "python",
   "pygments_lexer": "ipython3",
   "version": "3.11.9"
  }
 },
 "nbformat": 4,
 "nbformat_minor": 5
}
