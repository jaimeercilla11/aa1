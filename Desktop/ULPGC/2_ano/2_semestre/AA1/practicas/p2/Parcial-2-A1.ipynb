{
 "cells": [
  {
   "cell_type": "markdown",
   "metadata": {},
   "source": [
    "# Aprendizaje Automático I - Trabajo práctico 2\n",
    "\n",
    "**Grado en Ciencia e Ingeniería de Datos - 22/23 de abril de 2025**"
   ]
  },
  {
   "cell_type": "markdown",
   "metadata": {},
   "source": [
    "## Descripción del problema\n",
    "\n",
    "En la fauna marina existen multitud de especies de peces cada uno con una morfología (forma), colores o textura diferente, que en general nos permite identificarlos, aunque en algunos casos pueda ser difícil incluso para expertos. \n",
    "\n",
    "En este caso nos centramos en comprobar si mediante técnicas de Aprendizaje Automático se pueden diferenciar un conjunto reducido de especies haciendo uso solamente de medidas morfológicas. \n",
    "\n",
    "Concretamente se van a considerar las siguientes especies: dorada, rutilo, salmón, carpa, perca, lucio y capellán. De cada pez se han obtenido seis medidas que incluyen diferentes longitudes así como el peso. Los datos se encuentran almacenados en un archivo con formato csv denominado *peces.csv*.\n",
    "\n",
    "La codificación de cada especie en el conjunto de datos es la siguiente:\n",
    "\n",
    "- 0: Capellan  \n",
    "- 1: Carpa  \n",
    "- 2: Dorada  \n",
    "- 3: Lucio  \n",
    "- 4: Perca  \n",
    "- 5: Rutilo  \n",
    "- 6: Salmon"
   ]
  },
  {
   "cell_type": "markdown",
   "metadata": {},
   "source": [
    "## Objetivo\n",
    "\n",
    "El objetivo que se plantea consiste en comprobar el rendimiento, medido como exactitud (tasa de acierto), de distintos métodos estudiados en la asignatura, y presentados en las clases prácticas, en la resolución del problema antes planteado. Para calcular el rendimiento se dividirá el conjunto de datos en entrenamiento (80%) y test (20%) utilizando como semilla el valor 42. A continuación se indican las tareas a realizar para comprobar si se cumple el objetivo planteado:"
   ]
  },
  {
   "cell_type": "markdown",
   "metadata": {},
   "source": [
    "### Tarea 1 (2 puntos)\n",
    "Obtener el rendimiento de un clasificador basado en regresión logística con los datos sin preprocesar y también aplicando un escalado lineal. Analizar los resultados.\n"
   ]
  },
  {
   "cell_type": "code",
   "execution_count": 27,
   "metadata": {},
   "outputs": [
    {
     "name": "stdout",
     "output_type": "stream",
     "text": [
      "rendimiento sin escalado lineal: 0.9375\n",
      "rendimiento con escalado lineal: 0.8125\n"
     ]
    },
    {
     "name": "stderr",
     "output_type": "stream",
     "text": [
      "C:\\Users\\ercil\\AppData\\Local\\Packages\\PythonSoftwareFoundation.Python.3.11_qbz5n2kfra8p0\\LocalCache\\local-packages\\Python311\\site-packages\\sklearn\\linear_model\\_logistic.py:465: ConvergenceWarning: lbfgs failed to converge (status=1):\n",
      "STOP: TOTAL NO. of ITERATIONS REACHED LIMIT.\n",
      "\n",
      "Increase the number of iterations (max_iter) or scale the data as shown in:\n",
      "    https://scikit-learn.org/stable/modules/preprocessing.html\n",
      "Please also refer to the documentation for alternative solver options:\n",
      "    https://scikit-learn.org/stable/modules/linear_model.html#logistic-regression\n",
      "  n_iter_i = _check_optimize_result(\n"
     ]
    }
   ],
   "source": [
    "import pandas as pd\n",
    "from sklearn.linear_model import LogisticRegression\n",
    "from sklearn.preprocessing import MinMaxScaler, LabelEncoder\n",
    "from sklearn.metrics import accuracy_score\n",
    "from sklearn.model_selection import train_test_split\n",
    "\n",
    "df = pd.read_csv(\"peces.csv\")\n",
    "X = df.drop(columns=[\"Especie\"])\n",
    "y = df[\"Especie\"]\n",
    "\n",
    "X_train, X_test, y_train, y_test = train_test_split(X, y, test_size=0.2, random_state=42)\n",
    "log_reg = LogisticRegression(max_iter = 1000)\n",
    "log_reg.fit(X_train, y_train)\n",
    "acc = accuracy_score(y_test, log_reg.predict(X_test))\n",
    "print(f\"rendimiento sin escalado lineal: {acc:.4f}\")\n",
    "\n",
    "scaler = MinMaxScaler()\n",
    "X_scaled = scaler.fit_transform(X)\n",
    "X_train, X_test, y_train, y_test = train_test_split(X_scaled, y, test_size=0.2, random_state=42)\n",
    "log_reg = LogisticRegression(max_iter = 1000)\n",
    "log_reg.fit(X_train, y_train)\n",
    "acc = accuracy_score(y_test, log_reg.predict(X_test))\n",
    "print(f\"rendimiento con escalado lineal: {acc:.4f}\")"
   ]
  },
  {
   "cell_type": "markdown",
   "metadata": {},
   "source": [
    "El rendimiento sin escaldo lineal es mayor que el rendimiento con escaldo lineal, sin embargo el rendimiento sin escaldo no es util debido al ConvergerceWarning ya que esto significa que no ha terminado de calibrar los pesos dentro de las iteraciones, debido a esto la mejor opción es la que hemos realizado el escalado lineal."
   ]
  },
  {
   "cell_type": "markdown",
   "metadata": {},
   "source": [
    "### Tarea 2 (2 puntos)\n",
    "\n",
    "Obtener el rendimiento de un clasificador basado en el método Perceptrón y comparar con los resultados obtenidos en la Tarea 1 con los datos escalados."
   ]
  },
  {
   "cell_type": "code",
   "execution_count": 28,
   "metadata": {},
   "outputs": [
    {
     "name": "stdout",
     "output_type": "stream",
     "text": [
      "Rendimiento perceptron: 87.5000\n"
     ]
    }
   ],
   "source": [
    "from sklearn.linear_model import Perceptron\n",
    "\n",
    "scaler = MinMaxScaler()\n",
    "X_scaled = scaler.fit_transform(X)\n",
    "X_train, X_test, y_train, y_test = train_test_split(X_scaled, y, test_size=0.2, random_state=42)\n",
    "percep = Perceptron(max_iter=1000)\n",
    "percep.fit(X_train, y_train)\n",
    "acc = accuracy_score(y_test, percep.predict(X_test))\n",
    "print(f\"Rendimiento perceptron: {acc*100:.4f}\")"
   ]
  },
  {
   "cell_type": "markdown",
   "metadata": {},
   "source": [
    "En este caso el rendimiento del perceptron es mejor que el rendimiento de la regresion logistica, debido a que el perceptron adapta los pesos cuando hay un error, por lo que es el mas adecuado para este dataset"
   ]
  },
  {
   "cell_type": "markdown",
   "metadata": {},
   "source": [
    "### Tarea 3 (2 puntos)\n",
    "\n",
    "Entrenar clasificadores basados en el método de los K vecinos más cercanos para valores de K entre 1 y 20, indicado qué número de vecinos es el mejor de acuerdo al rendimiento obtenido. Utilizar los datos escalados."
   ]
  },
  {
   "cell_type": "code",
   "execution_count": 29,
   "metadata": {},
   "outputs": [
    {
     "name": "stdout",
     "output_type": "stream",
     "text": [
      "KNN (k=1, accuracy: 0.8438)\n",
      "KNN (k=2, accuracy: 0.8438)\n",
      "KNN (k=3, accuracy: 0.8438)\n",
      "KNN (k=4, accuracy: 0.8438)\n",
      "KNN (k=5, accuracy: 0.8750)\n",
      "KNN (k=6, accuracy: 0.8438)\n",
      "KNN (k=7, accuracy: 0.8438)\n",
      "KNN (k=8, accuracy: 0.8438)\n",
      "KNN (k=9, accuracy: 0.8125)\n",
      "KNN (k=10, accuracy: 0.8125)\n",
      "KNN (k=11, accuracy: 0.7812)\n",
      "KNN (k=12, accuracy: 0.7812)\n",
      "KNN (k=13, accuracy: 0.7812)\n",
      "KNN (k=14, accuracy: 0.7812)\n",
      "KNN (k=15, accuracy: 0.7500)\n",
      "KNN (k=16, accuracy: 0.7812)\n",
      "KNN (k=17, accuracy: 0.7812)\n",
      "KNN (k=18, accuracy: 0.7812)\n",
      "KNN (k=19, accuracy: 0.7812)\n",
      "KNN (k=20, accuracy: 0.7812)\n"
     ]
    }
   ],
   "source": [
    "from sklearn.neighbors import KNeighborsClassifier\n",
    "\n",
    "for k in range(1,21):\n",
    "    knn = KNeighborsClassifier(n_neighbors=k)\n",
    "    knn.fit(X_train, y_train)\n",
    "    acc = accuracy_score(y_test, knn.predict(X_test))\n",
    "    print(f\"KNN (k={k}, accuracy: {acc:.4f})\") "
   ]
  },
  {
   "cell_type": "markdown",
   "metadata": {},
   "source": [
    "Se puede apreciar que el mejor valor de K es 5, seguido del 1,2,3,4,6,7, entre todos estos números es mejor elegir el 3 debido a que proporciona una mayor consistencia, debido a esto los valores de K que son mas optimos son 3 y 5"
   ]
  },
  {
   "cell_type": "markdown",
   "metadata": {},
   "source": [
    "### Tarea 4 (2 puntos)\n",
    "\n",
    "Entrenar tres clasificadores basados en la máquina de vectores soporte, cada uno con un núcleo diferente (linear, poly, rbf), y para cada uno de ellos considerar para el hiperparámetro de regularización C, los valores: 0.01, 1, 10, 25, 50 y 100. Indicar qué combinación de nucleo y valor de regularización obtiene el mejor rendimiento."
   ]
  },
  {
   "cell_type": "code",
   "execution_count": 30,
   "metadata": {},
   "outputs": [
    {
     "name": "stdout",
     "output_type": "stream",
     "text": [
      "SVM(kernel=linear C=0.01), accuracy: 0.28)\n",
      "SVM(kernel=linear C=1), accuracy: 0.81)\n",
      "SVM(kernel=linear C=10), accuracy: 0.88)\n",
      "SVM(kernel=linear C=25), accuracy: 0.88)\n",
      "SVM(kernel=linear C=50), accuracy: 0.88)\n",
      "SVM(kernel=linear C=100), accuracy: 0.88)\n",
      "SVM(kernel=poly C=0.01), accuracy: 0.66)\n",
      "SVM(kernel=poly C=1), accuracy: 0.88)\n",
      "SVM(kernel=poly C=10), accuracy: 0.88)\n",
      "SVM(kernel=poly C=25), accuracy: 0.91)\n",
      "SVM(kernel=poly C=50), accuracy: 0.88)\n",
      "SVM(kernel=poly C=100), accuracy: 0.91)\n",
      "SVM(kernel=rbf C=0.01), accuracy: 0.28)\n",
      "SVM(kernel=rbf C=1), accuracy: 0.88)\n",
      "SVM(kernel=rbf C=10), accuracy: 0.84)\n",
      "SVM(kernel=rbf C=25), accuracy: 0.88)\n",
      "SVM(kernel=rbf C=50), accuracy: 0.88)\n",
      "SVM(kernel=rbf C=100), accuracy: 0.94)\n"
     ]
    }
   ],
   "source": [
    "from sklearn.svm import SVC\n",
    "\n",
    "kernels = [\"linear\", \"poly\", \"rbf\"]\n",
    "C_values = [0.01, 1, 10, 25, 50, 100]\n",
    "\n",
    "for kernel in kernels:\n",
    "    for C in C_values:\n",
    "        svm = SVC(kernel=kernel, C=C)\n",
    "        svm.fit(X_train, y_train)\n",
    "        acc = accuracy_score(y_test, svm.predict(X_test))\n",
    "        print(f\"SVM(kernel={kernel} C={C}), accuracy: {acc:.2f})\")"
   ]
  },
  {
   "cell_type": "markdown",
   "metadata": {},
   "source": [
    "La mejor combinación de nucleo y valor es kernel=rbf y C=100 ya que posee un accuracy de 0.94."
   ]
  },
  {
   "cell_type": "markdown",
   "metadata": {},
   "source": [
    "### Tarea 5 (2 puntos)\n",
    "\n",
    "Comprobar si un subproblema del planteado inicialmente que consiste en considerar solo las especies \"Dorada\" y \"Perca\", y las medidas \"Alto\" y \"Ancho\", se puede resolver utilizando un clasificador SVM con núcleo lineal. \n",
    "\n",
    "En caso de que se pueda resolver, se debe dibujar las muestras del conjunto de test, la superficie de decisión y los vectores soporte obtenidos para un C=10 en color negro y utilizando un marcador asterisco '*'."
   ]
  },
  {
   "cell_type": "code",
   "execution_count": null,
   "metadata": {},
   "outputs": [
    {
     "data": {
      "image/png": "[encoded data removed]",
      "text/plain": [
       "<Figure size 640x480 with 1 Axes>"
      ]
     },
     "metadata": {},
     "output_type": "display_data"
    }
   ],
   "source": [
    "import matplotlib.pyplot as plt\n",
    "import numpy as np\n",
    "\n",
    "df = pd.read_csv(\"peces.csv\")\n",
    "df = df[df[\"Especie\"].isin([2,4])]\n",
    "X = df[[\"Alto\", \"Ancho\"]]\n",
    "y = LabelEncoder().fit_transform(df[\"Especie\"]) \n",
    "X_scaled = MinMaxScaler().fit_transform(X)\n",
    "X_train, X_test, y_train, y_test = train_test_split(X_scaled, y, test_size=0.2, random_state=42)\n",
    "clf = SVC(kernel='linear', C=10)\n",
    "clf.fit(X_train, y_train)\n",
    "for clase in np.unique(y_train):\n",
    "    plt.scatter(X_train[y_train == clase, 0], X_train[y_train == clase, 1], label=f\"Clase {clase}\")\n",
    "plt.scatter(clf.support_vectors_[:, 0], clf.support_vectors_[:, 1], c='k', marker='*', label='Vectores soporte')\n",
    "m = -clf.coef_[0, 0] / clf.coef_[0, 1]\n",
    "n = -clf.intercept_[0] / clf.coef_[0, 1]\n",
    "x_vals = np.linspace(X_train[:, 0].min(), X_train[:, 0].max(), 100)\n",
    "plt.plot(x_vals, m * x_vals + n, 'k-', label='Recta de decisión')\n",
    "plt.show()  "
   ]
  }
 ],
 "metadata": {
  "kernelspec": {
   "display_name": "Python 3",
   "language": "python",
   "name": "python3"
  },
  "language_info": {
   "codemirror_mode": {
    "name": "ipython",
    "version": 3
   },
   "file_extension": ".py",
   "mimetype": "text/x-python",
   "name": "python",
   "nbconvert_exporter": "python",
   "pygments_lexer": "ipython3",
   "version": "3.11.9"
  }
 },
 "nbformat": 4,
 "nbformat_minor": 2
}
