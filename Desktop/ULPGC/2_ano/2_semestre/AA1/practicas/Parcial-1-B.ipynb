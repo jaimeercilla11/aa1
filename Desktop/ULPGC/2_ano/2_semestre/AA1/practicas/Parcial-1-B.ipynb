{
 "cells": [
  {
   "cell_type": "markdown",
   "metadata": {},
   "source": [
    "# Aprendizaje Automático I - Parcial práctico 1\n",
    "\n",
    "**Grado en Ciencia e Ingeniería de Datos - 11/12 de marzo de 2025**"
   ]
  },
  {
   "cell_type": "markdown",
   "metadata": {},
   "source": [
    "En un centro de enseñanza secundaria están interesados en conocer los factores que afectan a las calificaciones en matemáticas de los estudiantes. Para ello se dispone de un conjunto de datos, *CalificacionesEstudiantes.csv*, que recoge además de las calificaciones finales, otros datos de interés. Concretamente este conjunto de datos posee la siguiente información:\n",
    "\n",
    "- Edad: edad del estudiante\n",
    "- TiempoTrayecto: Tiempo desde el hogar hasta el instituto\n",
    "- TiempoEstudio: Tiempo de estudio semanal\n",
    "- TiempoLibre: Tiempo libre después de clase\n",
    "- NumAusencias: Número de veces que no ha asistido a clase\n",
    "- G1: Calificación primera evaluación\n",
    "- G2: Calificación segunda evaluación\n",
    "- G3: Calificación final\n"
   ]
  },
  {
   "cell_type": "markdown",
   "metadata": {},
   "source": [
    "1. ¿Qué dos variables tienen mayor influencia en la calificación final? ¿y qué variable tiene menos influencia?. Justifica tu respuesta. (2 puntos)\n"
   ]
  },
  {
   "cell_type": "code",
   "execution_count": null,
   "metadata": {},
   "outputs": [],
   "source": [
    "import pandas as pd\n",
    "from sklearn.linear_model import LinearRegression\n",
    "df = pd.read_csv(\"CalificacionesEstudiantes.csv\", sep = \";\")\n",
    "\n",
    "x = df.iloc[:,:-1]\n",
    "y = df.iloc[:,-1]\n",
    "reg = LinearRegression()\n",
    "reg.fit(x,y)\n",
    "reg.coef_"
   ]
  },
  {
   "attachments": {},
   "cell_type": "markdown",
   "metadata": {},
   "source": [
    "Las 2 variables que mas influyen son G3 y G2 debido a que poseen el valor más alto, mientras que el que menos influye es la Edad debido a que posee un valor muy pequeño"
   ]
  },
  {
   "cell_type": "markdown",
   "metadata": {},
   "source": [
    "2. Si en lugar de utilizar la regresión lineal sin regularización, se utilizara con regularización L1 (Lasso) con $\\alpha=10$, ¿las conclusiones serían iguales a las obtenidas en el ejercicio 1? ¿Existe alguna diferencia? Explicar (2 puntos)"
   ]
  },
  {
   "cell_type": "code",
   "execution_count": null,
   "metadata": {},
   "outputs": [],
   "source": [
    "from sklearn.linear_model import Lasso\n",
    "\n",
    "reg_ls = Lasso(10)\n",
    "reg_ls.fit(x,y)\n",
    "reg_ls.coef_\n",
    "print(f\"Lasso: {reg_ls.coef_} \\nREG:{reg.coef_}\")"
   ]
  },
  {
   "attachments": {},
   "cell_type": "markdown",
   "metadata": {},
   "source": [
    "Como se puede ver en la comparación, al utilizar Lasso, los valores se reducen mucho, el valor más influyente sigue siendo G3, pero como el resto de valores son tan pequeños no se puede decir cual es el segundo mas significativo ni tampoco el menos significativo."
   ]
  },
  {
   "cell_type": "markdown",
   "metadata": {},
   "source": [
    "3. Analizar cómo de fiable es la predicción de la calificación final utilizando las tres variables con mayor influencia, empleando un conjunto de test del 25% de los datos y usando como medida de rendimiento la raíz cuadradada del error cuadrado medio (RMSE) (2 puntos)"
   ]
  },
  {
   "cell_type": "code",
   "execution_count": null,
   "metadata": {},
   "outputs": [],
   "source": [
    "from sklearn.model_selection import train_test_split\n",
    "from sklearn.metrics import mean_squared_error\n",
    "import numpy as np\n",
    "\n",
    "x1 = df.iloc[:, [0,5,6]]\n",
    "\n",
    "x_train, x_test, y_train, y_test = train_test_split(x1, y, test_size=0.25, random_state=5876)\n",
    "\n",
    "reg.fit(x_train, y_train)\n",
    "y_pred = reg.predict(X_test)\n",
    "RMSE = mean_squared_error(y_test, y_pred)\n",
    "np.sqrt(RMSE)"
   ]
  },
  {
   "cell_type": "markdown",
   "metadata": {},
   "source": [
    "4. Considerando el coeficiente de determinación $R^2$ para cada una de las variables, indicar la mejor variable para estimar la calificación final. (2 puntos)"
   ]
  },
  {
   "cell_type": "code",
   "execution_count": null,
   "metadata": {},
   "outputs": [],
   "source": [
    "from sklearn.metrics import r2_score\n",
    "\n",
    "r2= r2_score(y_test, y_pred)\n",
    "r2"
   ]
  },
  {
   "cell_type": "markdown",
   "metadata": {},
   "source": [
    "5. Dibujar gráficamente la recta de regresión para la mejor variable según el ejercicio 3 y la calificación final. (2 puntos)"
   ]
  },
  {
   "cell_type": "code",
   "execution_count": null,
   "metadata": {},
   "outputs": [],
   "source": [
    "from matplotlib.pyplot import plot\n",
    "\n",
    "y4 = df[\"CalificacionFinal\"]\n",
    "x4 = df[\"Calificacion2\"]\n",
    "plot(x4, y4)"
   ]
  }
 ],
 "metadata": {
  "kernelspec": {
   "display_name": "aa1",
   "language": "python",
   "name": "python3"
  },
  "language_info": {
   "codemirror_mode": {
    "name": "ipython",
    "version": 3
   },
   "file_extension": ".py",
   "mimetype": "text/x-python",
   "name": "python",
   "nbconvert_exporter": "python",
   "pygments_lexer": "ipython3",
   "version": "3.12.8"
  }
 },
 "nbformat": 4,
 "nbformat_minor": 2
}
