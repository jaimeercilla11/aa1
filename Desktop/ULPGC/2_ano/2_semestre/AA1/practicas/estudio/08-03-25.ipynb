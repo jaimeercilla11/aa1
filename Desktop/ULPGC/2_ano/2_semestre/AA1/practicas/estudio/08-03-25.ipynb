{
 "cells": [
  {
   "cell_type": "code",
   "execution_count": null,
   "metadata": {},
   "outputs": [],
   "source": [
    "import pandas as pd\n",
    "import numpy as np\n",
    "from sklearn.linear_model import SGDRegressor, LinearRegression\n",
    "import matplotlib.pyplot as plt\n",
    "from sklearn.preprocessing import MinMaxScaler\n",
    "from sklearn.metrics import r2_score\n",
    "from sklearn.model_selection import train_test_split\n",
    "from sklearn.metrics import mean_squared_error, r2_score"
   ]
  },
  {
   "cell_type": "code",
   "execution_count": null,
   "metadata": {},
   "outputs": [],
   "source": [
    "datos = pd.read_csv(\"empleados.csv\", sep = \",\")\n",
    "datos.head()"
   ]
  },
  {
   "cell_type": "code",
   "execution_count": null,
   "metadata": {},
   "outputs": [],
   "source": [
    "np.random.seed(42)\n",
    "serie = pd.Series(np.random.randn(20))\n",
    "serie[np.random.choice(20,5, replace=False)] = np.nan\n",
    "print(serie.describe())\n",
    "\n",
    "serie_rellenada = serie.fillna(serie.mean())\n",
    "print(serie_rellenada)"
   ]
  },
  {
   "cell_type": "code",
   "execution_count": null,
   "metadata": {},
   "outputs": [],
   "source": [
    "data = {\n",
    "    \"Nombre\": [\"Ana\", \"Luis\", \"María\", \"Carlos\", \"Sofía\", \"Pedro\", \"Elena\", \"Javier\", \"Lucía\", \"Diego\"],\n",
    "    \"Edad\": [25, 30, 35, 40, 28, 32, 27, 45, 38, 29],\n",
    "    \"Salario\": [3000, 4500, 5000, 6000, 3500, 4200, 3100, 7000, 4800, 3600]\n",
    "}\n",
    "\n",
    "df = pd.DataFrame(data)\n",
    "df_filtado = df[df[\"Salario\"]>3000]\n",
    "\n",
    "df_ordando = df_filtado.sort_values(by=\"Edad\")\n",
    "df_ordando"
   ]
  },
  {
   "cell_type": "markdown",
   "metadata": {},
   "source": [
    "- Generar una lista de valores del 1 al 10 para el eje X y una lista con sus cuadrados para el eje Y.\n",
    "- Usar plt.plot() para crear un gráfico de línea.\n",
    "- Añadir título, etiquetas en los ejes y una leyenda."
   ]
  },
  {
   "cell_type": "code",
   "execution_count": null,
   "metadata": {},
   "outputs": [],
   "source": [
    "x = list(range(1,11))\n",
    "y = [i**2 for i in x]\n",
    "plt.plot(x,y)\n",
    "plt.title(\"Gráfico de Línea: y = x²\")\n",
    "plt.xlabel(\"Valores de X\")\n",
    "plt.ylabel(\"Valores de Y\")\n",
    "plt.legend()\n",
    "plt.grid()"
   ]
  },
  {
   "cell_type": "markdown",
   "metadata": {},
   "source": [
    "- Crea un diccionario con datos de ventas de 5 productos.\n",
    "- Usa plt.bar() para hacer un gráfico de barras con estos datos.\n",
    "- Personaliza el gráfico con colores y etiquetas.\n"
   ]
  },
  {
   "cell_type": "code",
   "execution_count": null,
   "metadata": {},
   "outputs": [],
   "source": [
    "ventas = {\n",
    "    \"Producto\": [\"Laptop\", \"Teléfono\", \"Tablet\", \"Monitor\", \"Teclado\"],\n",
    "    \"Unidades Vendidas\": [150, 300, 120, 180, 250],\n",
    "    \"Precio Unitario\": [800, 500, 300, 200, 50]\n",
    "}\n",
    "\n",
    "df_ventas = pd.DataFrame(ventas)\n",
    "plt.bar(df_ventas[\"Producto\"],df_ventas[\"Unidades Vendidas\"])\n",
    "plt.title(\"Ventas por Producto\")\n",
    "plt.xlabel(\"Producto\")\n",
    "plt.ylabel(\"Unidades Vendidas\")\n",
    "plt.xticks(rotation=45)  \n",
    "plt.grid(axis=\"y\", linestyle=\"--\", alpha=0.7)"
   ]
  }
 ],
 "metadata": {
  "kernelspec": {
   "display_name": "Python 3",
   "language": "python",
   "name": "python3"
  },
  "language_info": {
   "codemirror_mode": {
    "name": "ipython",
    "version": 3
   },
   "file_extension": ".py",
   "mimetype": "text/x-python",
   "name": "python",
   "nbconvert_exporter": "python",
   "pygments_lexer": "ipython3",
   "version": "3.11.9"
  }
 },
 "nbformat": 4,
 "nbformat_minor": 2
}
