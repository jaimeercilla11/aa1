{
 "cells": [
  {
   "cell_type": "code",
   "execution_count": null,
   "metadata": {},
   "outputs": [],
   "source": [
    "import pandas as pd\n",
    "import os\n",
    "import numpy as np\n",
    "import matplotlib.pyplot as plt\n",
    "import seaborn as sns\n"
   ]
  },
  {
   "cell_type": "markdown",
   "metadata": {},
   "source": [
    "Utilizando los datos del archivo iris-perdidos.csv, sustituir para cada variable los\n",
    "valores perdidos por el promedio de los valores de dicha variable."
   ]
  },
  {
   "cell_type": "code",
   "execution_count": null,
   "metadata": {},
   "outputs": [],
   "source": [
    "df = pd.read_csv(\"iris-perdidos.csv\")\n",
    "variables = df.columns\n",
    "for variable in variables[:-1]:\n",
    "    media = df[variable].mean\n",
    "    df[variable] = df[variable].fillna(media)\n",
    "df.head"
   ]
  },
  {
   "cell_type": "markdown",
   "metadata": {},
   "source": [
    "Implementar una función que acepte un array unidimensional y dos valores reales,\n",
    "minimo y maximo, y realice el escalado del array entre los valores minimo y\n",
    "maximo."
   ]
  },
  {
   "cell_type": "code",
   "execution_count": null,
   "metadata": {},
   "outputs": [],
   "source": [
    "from sklearn.preprocessing import MinMaxScaler\n",
    "datos = df.values\n",
    "variables = datos[:,:-1]\n",
    "variables\n",
    "normalizador = MinMaxScaler()\n",
    "normalizador.fit(variables)\n",
    "res = normalizador.transform(variables)\n",
    "print(res)"
   ]
  }
 ],
 "metadata": {
  "kernelspec": {
   "display_name": "Python 3",
   "language": "python",
   "name": "python3"
  },
  "language_info": {
   "codemirror_mode": {
    "name": "ipython",
    "version": 3
   },
   "file_extension": ".py",
   "mimetype": "text/x-python",
   "name": "python",
   "nbconvert_exporter": "python",
   "pygments_lexer": "ipython3",
   "version": "3.11.9"
  }
 },
 "nbformat": 4,
 "nbformat_minor": 2
}
