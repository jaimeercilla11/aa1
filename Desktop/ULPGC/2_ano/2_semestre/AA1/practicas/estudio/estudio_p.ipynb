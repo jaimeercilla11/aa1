{
 "cells": [
  {
   "cell_type": "code",
   "execution_count": null,
   "metadata": {},
   "outputs": [],
   "source": [
    "import pandas as pd\n",
    "import os\n",
    "import numpy as np\n",
    "import matplotlib.pyplot as plt\n",
    "import seaborn as sns\n"
   ]
  },
  {
   "cell_type": "markdown",
   "metadata": {},
   "source": [
    "## Numpy"
   ]
  },
  {
   "cell_type": "markdown",
   "metadata": {},
   "source": [
    "1. Crea un array de ceros de tamaño 10."
   ]
  },
  {
   "cell_type": "code",
   "execution_count": null,
   "metadata": {},
   "outputs": [],
   "source": [
    "m = np.zeros((10))\n",
    "m"
   ]
  },
  {
   "cell_type": "markdown",
   "metadata": {},
   "source": [
    "2. Crea un array con los números del 10 al 50."
   ]
  },
  {
   "cell_type": "code",
   "execution_count": null,
   "metadata": {},
   "outputs": [],
   "source": [
    "n = np.arange(10,51)\n",
    "n"
   ]
  },
  {
   "cell_type": "markdown",
   "metadata": {},
   "source": [
    "3. Crea un array de 5x5 con números aleatorios entre 0 y 1.\n"
   ]
  },
  {
   "cell_type": "code",
   "execution_count": null,
   "metadata": {},
   "outputs": [],
   "source": [
    "m1 = np.random.random((5,5))\n",
    "m1"
   ]
  },
  {
   "cell_type": "markdown",
   "metadata": {},
   "source": [
    "4. Genera una matriz identidad de 4x4.\n"
   ]
  },
  {
   "cell_type": "code",
   "execution_count": null,
   "metadata": {},
   "outputs": [],
   "source": [
    "v3 = np.zeros((4,4))\n",
    "for i in range(4):\n",
    "    v3[i, i] = 1\n",
    "print (v3)"
   ]
  },
  {
   "cell_type": "markdown",
   "metadata": {},
   "source": [
    "5. Dado un array de 10 elementos, reemplaza todos los valores mayores a 5 con 0.\n"
   ]
  },
  {
   "cell_type": "code",
   "execution_count": null,
   "metadata": {},
   "outputs": [],
   "source": [
    "m2 = np.random.randint(0, 11, size=10)\n",
    "print(\"Array original: \", m2)\n",
    "m2[m2 > 5] = 0\n",
    "print(\"Nuevo array: \", m2)"
   ]
  },
  {
   "cell_type": "markdown",
   "metadata": {},
   "source": [
    "6. Multiplica dos matrices de 3x3 generadas aleatoriamente.\n"
   ]
  },
  {
   "cell_type": "code",
   "execution_count": null,
   "metadata": {},
   "outputs": [],
   "source": [
    "m3 = np.random.randint(0, 11, size=(3,3))\n",
    "m4 = np.random.randint(0, 11, size=(3,3))\n",
    "print(m3)\n",
    "print(m4)\n",
    "print(m3 @ m4)"
   ]
  },
  {
   "cell_type": "markdown",
   "metadata": {},
   "source": [
    "## Pandas"
   ]
  },
  {
   "cell_type": "markdown",
   "metadata": {},
   "source": [
    "1.Carga el dataset titanic.csv en un DataFrame y muestra las primeras 5 filas.\n"
   ]
  },
  {
   "cell_type": "code",
   "execution_count": null,
   "metadata": {},
   "outputs": [],
   "source": [
    "df = sns.load_dataset(\"titanic\")\n",
    "\n",
    "df.head()"
   ]
  },
  {
   "cell_type": "markdown",
   "metadata": {},
   "source": [
    "2. Añade una nueva columna \"Precio por Persona\" dividiendo el precio del boleto entre el número de familiares."
   ]
  },
  {
   "cell_type": "code",
   "execution_count": null,
   "metadata": {},
   "outputs": [],
   "source": [
    "df[\"num_familiares\"] = df[\"sibsp\"] + df[\"parch\"] +1\n",
    "df[\"precio_persona\"] = df[\"fare\"]/df[\"num_familiares\"]\n",
    "df[[\"fare\", \"sibsp\", \"parch\", \"num_familiares\", \"precio_persona\"]].head()\n"
   ]
  },
  {
   "cell_type": "markdown",
   "metadata": {},
   "source": [
    "3. Filtra los pasajeros del Titanic que eran mayores de 30 años y viajaban en primera clase.\n"
   ]
  },
  {
   "cell_type": "code",
   "execution_count": null,
   "metadata": {},
   "outputs": [],
   "source": [
    "df_filtered = df[(df[\"class\"] == \"First\") & (df[\"age\"] > 30)]\n",
    "df_filtered"
   ]
  },
  {
   "cell_type": "markdown",
   "metadata": {},
   "source": [
    "4. Agrupa los datos del Titanic por clase y calcula la edad media de cada clase."
   ]
  },
  {
   "cell_type": "code",
   "execution_count": null,
   "metadata": {},
   "outputs": [],
   "source": [
    "df_agrupado = df.groupby(\"class\")['age'].mean()\n",
    "df_agrupado"
   ]
  },
  {
   "cell_type": "markdown",
   "metadata": {},
   "source": [
    "5. Crea una función que clasifique las edades en \"niño\", \"adulto\" o \"anciano\" y aplícala a una nueva columna."
   ]
  },
  {
   "cell_type": "code",
   "execution_count": null,
   "metadata": {},
   "outputs": [],
   "source": [
    "def clasificar_edad(age):\n",
    "    if age <= 18:\n",
    "        return 'niño'\n",
    "    elif 13 <= age <= 60:\n",
    "        return 'adulto'\n",
    "    else:\n",
    "        return 'anciano'\n",
    "\n",
    "df['clasificación'] = df['age'].apply(clasificar_edad)\n",
    "df\n"
   ]
  },
  {
   "cell_type": "markdown",
   "metadata": {},
   "source": [
    "## Matplotlib "
   ]
  },
  {
   "cell_type": "markdown",
   "metadata": {},
   "source": [
    "1. Genera una gráfica de línea con los valores de x = [0, 1, 2, 3, 4] y y = [0, 1, 4, 9, 16]"
   ]
  },
  {
   "cell_type": "code",
   "execution_count": null,
   "metadata": {},
   "outputs": [],
   "source": [
    "x = [0, 1, 2, 3, 4]\n",
    "y = [0, 1, 4, 9, 16]\n",
    "plt.plot(x,y)"
   ]
  },
  {
   "cell_type": "markdown",
   "metadata": {},
   "source": [
    "2. Crea un histograma de 1000 números aleatorios con distribución normal."
   ]
  },
  {
   "cell_type": "code",
   "execution_count": null,
   "metadata": {},
   "outputs": [],
   "source": [
    "datos = np.random.normal(size = 1000)\n",
    "plt.hist(datos, bins = 30, edgecolor = 'black', color = \"blue\" )"
   ]
  },
  {
   "cell_type": "markdown",
   "metadata": {},
   "source": [
    "3. Genera una gráfica de dispersión entre dos arrays de números aleatorios."
   ]
  },
  {
   "cell_type": "code",
   "execution_count": null,
   "metadata": {},
   "outputs": [],
   "source": [
    "datos1 = np.random.normal(size = 10)\n",
    "datos2 = np.random.normal(size = 10)\n",
    "plt.scatter(datos1, datos2)\n",
    "plt.grid()\n"
   ]
  },
  {
   "cell_type": "markdown",
   "metadata": {},
   "source": [
    "## NumPy 2"
   ]
  },
  {
   "cell_type": "markdown",
   "metadata": {},
   "source": [
    "1️⃣ Crea un array con los números del 1 al 100.\n"
   ]
  },
  {
   "cell_type": "code",
   "execution_count": null,
   "metadata": {},
   "outputs": [],
   "source": [
    "a1 = np.arange(1, 101)\n",
    "a1"
   ]
  },
  {
   "cell_type": "markdown",
   "metadata": {},
   "source": [
    "2️⃣ Genera un array de 20 valores aleatorios entre 10 y 50.\n"
   ]
  },
  {
   "cell_type": "code",
   "execution_count": null,
   "metadata": {},
   "outputs": [],
   "source": [
    "a2 = np.random.randint(10,51, size=20)\n",
    "a2"
   ]
  },
  {
   "cell_type": "markdown",
   "metadata": {},
   "source": [
    "3️⃣ Crea una matriz 5x5 con valores del 1 al 25.\n"
   ]
  },
  {
   "cell_type": "code",
   "execution_count": null,
   "metadata": {},
   "outputs": [],
   "source": [
    "a3 = np.arange(1,26).reshape(5,5)\n",
    "a3"
   ]
  },
  {
   "cell_type": "markdown",
   "metadata": {},
   "source": [
    "4️⃣ Cambia todos los valores pares de un array por 0.\n"
   ]
  },
  {
   "cell_type": "code",
   "execution_count": null,
   "metadata": {},
   "outputs": [],
   "source": [
    "a4 = np.random.randint(1, 11, size = 10)\n",
    "print(\"Array original: \",a4)\n",
    "a4[a4 % 2 == 0] = 0\n",
    "print(\"Array modificada: \", a4)"
   ]
  },
  {
   "cell_type": "markdown",
   "metadata": {},
   "source": [
    "## Pandas 2"
   ]
  },
  {
   "cell_type": "markdown",
   "metadata": {},
   "source": [
    "9️⃣ Carga el dataset titanic desde Seaborn y muestra las primeras 5 filas.\n"
   ]
  },
  {
   "cell_type": "code",
   "execution_count": null,
   "metadata": {},
   "outputs": [],
   "source": [
    "df.head()"
   ]
  },
  {
   "cell_type": "markdown",
   "metadata": {},
   "source": [
    "🔟 Muestra la cantidad de pasajeros por cada clase (class).\n"
   ]
  },
  {
   "cell_type": "code",
   "execution_count": null,
   "metadata": {},
   "outputs": [],
   "source": [
    "pasajeros_clase = df[\"class\"].value_counts\n",
    "pasajeros_clase"
   ]
  },
  {
   "cell_type": "markdown",
   "metadata": {},
   "source": [
    "1️⃣1️⃣ Filtra los pasajeros de primera clase (First) que tengan más de 40 años.\n"
   ]
  },
  {
   "cell_type": "code",
   "execution_count": null,
   "metadata": {},
   "outputs": [],
   "source": [
    "df_filtered2 = df[(df[\"class\"] == \"First\") & (df[\"age\"] > 40)]\n",
    "df_filtered2"
   ]
  },
  {
   "cell_type": "markdown",
   "metadata": {},
   "source": [
    "1️⃣2️⃣ Calcula el porcentaje de pasajeros que sobrevivieron (survived == 1).\n"
   ]
  },
  {
   "cell_type": "code",
   "execution_count": null,
   "metadata": {},
   "outputs": [],
   "source": [
    "porcentajes_sobrevivientes = (df[\"survived\"].mean())*100\n",
    "print(f\"Porcentaje de supervivientes: {porcentajes_sobrevivientes:.2f}%\")\n"
   ]
  },
  {
   "cell_type": "markdown",
   "metadata": {},
   "source": [
    "1️⃣3️⃣ Crea una nueva columna familiares sumando sibsp y parch.\n"
   ]
  },
  {
   "cell_type": "code",
   "execution_count": null,
   "metadata": {},
   "outputs": [],
   "source": [
    "df[\"familiares\"] = df[\"sibsp\"] + df[\"parch\"]\n",
    "df[[\"fare\", \"sibsp\", \"parch\", \"familiares\"]].head()\n"
   ]
  },
  {
   "cell_type": "markdown",
   "metadata": {},
   "source": [
    "## Matplotlib 2"
   ]
  },
  {
   "cell_type": "markdown",
   "metadata": {},
   "source": [
    "1️⃣7️⃣ Crea un gráfico de líneas con la función y = x^2, donde x vaya de -10 a 10.\n"
   ]
  },
  {
   "cell_type": "code",
   "execution_count": null,
   "metadata": {},
   "outputs": [],
   "source": [
    "x = np.linspace(-10, 10, num=100)\n",
    "y = x**2\n",
    "plt.plot(x,y)\n"
   ]
  },
  {
   "cell_type": "markdown",
   "metadata": {},
   "source": [
    "1️⃣8️⃣ Genera un histograma de 500 valores aleatorios con distribución normal.\n"
   ]
  },
  {
   "cell_type": "code",
   "execution_count": null,
   "metadata": {},
   "outputs": [],
   "source": [
    "datos = np.random.normal(size = 500)\n",
    "plt.hist(datos, bins = 30, edgecolor = 'black', color = \"blue\" )"
   ]
  },
  {
   "cell_type": "markdown",
   "metadata": {},
   "source": [
    "1️⃣9️⃣ Crea un gráfico de dispersión (scatter plot) con puntos aleatorios.\n"
   ]
  },
  {
   "cell_type": "code",
   "execution_count": null,
   "metadata": {},
   "outputs": [],
   "source": [
    "np.random.seed(42)\n",
    "x = np.random.rand(100)*10\n",
    "y = np.random.rand(100)*10\n",
    "plt.figure(figsize=(7,5))\n",
    "plt.scatter(x,y, color = 'b', alpha=0.6, edgecolors='black')"
   ]
  },
  {
   "cell_type": "markdown",
   "metadata": {},
   "source": [
    "2️⃣0️⃣ Dibuja un gráfico de barras con la cantidad de pasajeros por clase en el Titanic.\n"
   ]
  },
  {
   "cell_type": "code",
   "execution_count": null,
   "metadata": {},
   "outputs": [],
   "source": [
    "pdf = sns.load_dataset(\"titanic\")\n",
    "pasajeros_por_clase = df[\"class\"].value_counts()\n",
    "plt.figure(figsize=(7, 5))\n",
    "plt.bar(pasajeros_por_clase.index, pasajeros_por_clase.values, color=['blue', 'orange', 'green'])\n",
    "\n",
    "plt.xlabel(\"Clase\")\n",
    "plt.ylabel(\"Cantidad de Pasajeros\")\n",
    "plt.title(\"Número de Pasajeros por Clase en el Titanic\")\n",
    "plt.legend('label')"
   ]
  },
  {
   "cell_type": "markdown",
   "metadata": {},
   "source": [
    "## Numpy 3"
   ]
  },
  {
   "cell_type": "markdown",
   "metadata": {},
   "source": [
    "1️⃣ Crea un array de 50 valores equiespaciados entre -5 y 5.\n"
   ]
  },
  {
   "cell_type": "code",
   "execution_count": null,
   "metadata": {},
   "outputs": [],
   "source": [
    "valores = np.linspace(-5,5, 50)\n",
    "valores"
   ]
  },
  {
   "cell_type": "markdown",
   "metadata": {},
   "source": [
    "2️⃣ Genera una matriz 4x4 con números aleatorios entre 0 y 1.\n"
   ]
  },
  {
   "cell_type": "code",
   "execution_count": null,
   "metadata": {},
   "outputs": [],
   "source": [
    "valores1 = np.random.random((4,4))\n",
    "valores1"
   ]
  },
  {
   "cell_type": "markdown",
   "metadata": {},
   "source": [
    "3️⃣ Suma todas las columnas de una matriz 5x5 con valores enteros aleatorios entre 10 y 100."
   ]
  },
  {
   "cell_type": "code",
   "execution_count": null,
   "metadata": {},
   "outputs": [],
   "source": [
    "valores2= np.random.randint(10,51, size = (5,5))\n",
    "print(f\"matriz: \\n{valores2}\")\n",
    "sum_columnas = np.sum(valores2, axis=0)\n",
    "print(f\"\\nsuma de columnas: {sum_columnas}\")"
   ]
  },
  {
   "cell_type": "markdown",
   "metadata": {},
   "source": [
    "4️⃣ Reemplaza todos los valores negativos de un array aleatorio por 0.\n"
   ]
  },
  {
   "cell_type": "code",
   "execution_count": null,
   "metadata": {},
   "outputs": [],
   "source": [
    "valores3=np.random.randint(-100,100, size = 10)\n",
    "print(f\"matriz original: \\n{valores3}\")\n",
    "valores3[valores3 < 0]= 0\n",
    "print(f\"matriz actualizada: \\n{valores3}\")\n"
   ]
  },
  {
   "cell_type": "markdown",
   "metadata": {},
   "source": [
    "## Pandas 3"
   ]
  },
  {
   "cell_type": "markdown",
   "metadata": {},
   "source": [
    "7️⃣ Muestra la cantidad de valores nulos en cada columna del dataset Titanic.\n"
   ]
  },
  {
   "cell_type": "code",
   "execution_count": null,
   "metadata": {},
   "outputs": [],
   "source": [
    "df = sns.load_dataset(\"titanic\")\n",
    "valores_nulos = df.isnull().sum()\n",
    "valores_nulos"
   ]
  },
  {
   "cell_type": "markdown",
   "metadata": {},
   "source": [
    "8️⃣ Filtra los pasajeros menores de 18 años y que viajaban en Primera Clase.\n"
   ]
  },
  {
   "cell_type": "code",
   "execution_count": null,
   "metadata": {},
   "outputs": [],
   "source": [
    "df_filtered2 = df[(df[\"class\"] == \"First\") & (df[\"age\"] < 18)]\n",
    "df_filtered2"
   ]
  },
  {
   "cell_type": "markdown",
   "metadata": {},
   "source": [
    "1️⃣1️⃣ Dibuja un histograma de las edades de los pasajeros del Titanic.\n"
   ]
  },
  {
   "cell_type": "code",
   "execution_count": null,
   "metadata": {},
   "outputs": [],
   "source": [
    "pdf = sns.load_dataset(\"titanic\")\n",
    "pasajeros_por_edad = df[\"age\"].value_counts()\n",
    "plt.figure(figsize=(7, 5))\n",
    "plt.bar(pasajeros_por_edad.index, pasajeros_por_edad.values, color=['blue', 'orange', 'green'])\n"
   ]
  },
  {
   "cell_type": "markdown",
   "metadata": {},
   "source": [
    "1️⃣2️⃣ Crea un gráfico de líneas con las funciones 𝑦=𝑥^3 y=x, con x entre -10 y 10."
   ]
  },
  {
   "cell_type": "code",
   "execution_count": null,
   "metadata": {},
   "outputs": [],
   "source": [
    "x = np.linspace(-10,10, num=100)\n",
    "y1 = x**3\n",
    "y2 = x\n",
    "plt.plot(x,y1,'b',y2,'r')"
   ]
  },
  {
   "cell_type": "markdown",
   "metadata": {},
   "source": [
    "1️⃣3️⃣ Genera un gráfico de dispersión de fare vs age en el Titanic, usando diferentes colores según la clase."
   ]
  },
  {
   "cell_type": "code",
   "execution_count": null,
   "metadata": {},
   "outputs": [],
   "source": [
    "df = sns.load_dataset(\"titanic\")\n",
    "plt.figure(figsize=(8, 5))\n",
    "sns.scatterplot(data=df, x=\"age\", y=\"fare\", hue=\"class\", palette=\"viridis\", alpha=0.7)\n"
   ]
  },
  {
   "cell_type": "markdown",
   "metadata": {},
   "source": [
    "1️⃣4️⃣ Crea un gráfico de barras mostrando el número de sobrevivientes y no sobrevivientes."
   ]
  },
  {
   "cell_type": "code",
   "execution_count": null,
   "metadata": {},
   "outputs": [],
   "source": [
    "df = sns.load_dataset(\"titanic\")\n",
    "plt.figure(figsize=(6, 4))\n",
    "sns.countplot(data=df, x=\"survived\", hue=\"survived\", palette=\"coolwarm\", legend=False)  # Se asigna hue=\"survived\"\n"
   ]
  },
  {
   "cell_type": "markdown",
   "metadata": {},
   "source": [
    "Dibuja un heatmap de correlación entre todas las variables numéricas del dataset Titanic."
   ]
  },
  {
   "cell_type": "code",
   "execution_count": null,
   "metadata": {},
   "outputs": [],
   "source": [
    "df = sns.load_dataset(\"titanic\")\n",
    "correlacion = df.corr(numeric_only=True)\n",
    "plt.figure(figsize=(8, 6))\n",
    "sns.heatmap(correlacion, annot=True, cmap=\"coolwarm\", fmt=\".2f\", linewidths=0.5)"
   ]
  }
 ],
 "metadata": {
  "kernelspec": {
   "display_name": "Python 3",
   "language": "python",
   "name": "python3"
  },
  "language_info": {
   "codemirror_mode": {
    "name": "ipython",
    "version": 3
   },
   "file_extension": ".py",
   "mimetype": "text/x-python",
   "name": "python",
   "nbconvert_exporter": "python",
   "pygments_lexer": "ipython3",
   "version": "3.11.9"
  }
 },
 "nbformat": 4,
 "nbformat_minor": 2
}
