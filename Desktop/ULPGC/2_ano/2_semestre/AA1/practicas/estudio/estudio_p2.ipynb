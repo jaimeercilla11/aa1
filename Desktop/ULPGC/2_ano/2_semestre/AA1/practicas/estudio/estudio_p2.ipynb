{
 "cells": [
  {
   "cell_type": "code",
   "execution_count": null,
   "metadata": {},
   "outputs": [],
   "source": [
    "import pandas as pd\n",
    "import os\n",
    "import numpy as np\n",
    "import matplotlib.pyplot as plt\n",
    "import seaborn as sns"
   ]
  },
  {
   "cell_type": "markdown",
   "metadata": {},
   "source": [
    "1. Crear un archivo csv con el siguiente contenido.\n",
    "marca,modelo,cilindrada,kms,precio,año\n",
    "Seat,Ibiza,1400,59979,7728,2021\n",
    "Seat,Ibiza,1400,29707,16691,2011\n",
    "VW,Polo,1600,84461,6638,2010\n",
    "Opel,Corsa,1400,98292,11695,2018\n",
    "VW,Golf,1600,93720,10642,2022\n",
    "Seat,Arona,1600,90083,14982,2021\n",
    "VW,Polo,2000,57076,14271,2014\n",
    "Opel,Corsa,2000,42932,18689,2014\n",
    "Seat,Leon,2000,70544,7874,2013\n",
    "Seat,Arona,1800,52457,8003,2013\n",
    "Opel,Corsa,1800,75277,7230,2022\n",
    "Opel,Corsa,1800,63751,17087,2018\n",
    "Seat,Ibiza,1600,24698,11870,2022\n",
    "Opel,Astra,1800,47881,6114,2013\n",
    "Opel,Corsa,1800,77320,6239,2022"
   ]
  },
  {
   "cell_type": "code",
   "execution_count": null,
   "metadata": {},
   "outputs": [],
   "source": [
    "tabla_coches = pd.read_csv('coches2.csv')\n",
    "tabla_coches"
   ]
  },
  {
   "cell_type": "markdown",
   "metadata": {},
   "source": [
    "3. Mostrar de las 5 primeras filas solo la marca y el modelo.\n"
   ]
  },
  {
   "cell_type": "code",
   "execution_count": null,
   "metadata": {},
   "outputs": [],
   "source": [
    "tabla_coches.iloc[0:5]\n",
    "tabla_coches[['marca', 'modelo']]\n"
   ]
  },
  {
   "cell_type": "markdown",
   "metadata": {},
   "source": [
    "4. Obtener cuantas marcas diferentes y cuales son.\n"
   ]
  },
  {
   "cell_type": "code",
   "execution_count": null,
   "metadata": {},
   "outputs": [],
   "source": [
    "df3= tabla_coches[\"marca\"]\n",
    "df3.unique()"
   ]
  },
  {
   "cell_type": "markdown",
   "metadata": {},
   "source": [
    "5. Mostrar solo las filas de la marca Opel.\n"
   ]
  },
  {
   "cell_type": "code",
   "execution_count": null,
   "metadata": {},
   "outputs": [],
   "source": [
    "df5 = tabla_coches[tabla_coches['marca']=='Opel']\n",
    "df5"
   ]
  },
  {
   "cell_type": "markdown",
   "metadata": {},
   "source": [
    "6. Calcular los kms promedio de cada una de las marcas.\n"
   ]
  },
  {
   "cell_type": "code",
   "execution_count": null,
   "metadata": {},
   "outputs": [],
   "source": [
    "marca_unicas = tabla_coches['marca'].unique()\n",
    "for marca in marca_unicas:\n",
    "    filtro = tabla_coches[tabla_coches['marca'] == marca]\n",
    "    kms_promedio = filtro['kms'].mean()\n",
    "    print(f\"{marca}: {kms_promedio}\")"
   ]
  },
  {
   "cell_type": "markdown",
   "metadata": {},
   "source": [
    "7. Sumar 1000 euros a los vehículos de año posterior al 2015.\n"
   ]
  },
  {
   "cell_type": "code",
   "execution_count": null,
   "metadata": {},
   "outputs": [],
   "source": [
    "df6 = tabla_coches[tabla_coches[\"año\"] >= 2015]\n",
    "df6.iloc[:,4] + 1000\n",
    "df6"
   ]
  },
  {
   "cell_type": "markdown",
   "metadata": {},
   "source": [
    "1. Crear un vector de tamaño 10 de ceros excepto el quinto elemento que será 1.\n"
   ]
  },
  {
   "cell_type": "code",
   "execution_count": null,
   "metadata": {},
   "outputs": [],
   "source": [
    "v1 = np.zeros(10)\n",
    "v1[4] = 1\n",
    "v1"
   ]
  },
  {
   "cell_type": "markdown",
   "metadata": {},
   "source": [
    "2. Crear un vector con valores entre 10 y 49.\n"
   ]
  },
  {
   "cell_type": "code",
   "execution_count": null,
   "metadata": {},
   "outputs": [],
   "source": [
    "v2 = np.random.randint(10,49, size = 10)\n",
    "v2"
   ]
  },
  {
   "cell_type": "markdown",
   "metadata": {},
   "source": [
    "3. Crear una matriz de 3x3 con valores entre 0 y 8.\n"
   ]
  },
  {
   "cell_type": "code",
   "execution_count": null,
   "metadata": {},
   "outputs": [],
   "source": [
    "v3 = np.random.randint(0,8, size=(4,4))\n",
    "v3"
   ]
  },
  {
   "cell_type": "markdown",
   "metadata": {},
   "source": [
    "4. Crear una matriz identidad de dimensiones 4x4.\n"
   ]
  },
  {
   "cell_type": "code",
   "execution_count": null,
   "metadata": {},
   "outputs": [],
   "source": [
    "v4 = np.zeros((4,4))\n",
    "for i in range(4):\n",
    "    v4[i,i]=1\n",
    "v4"
   ]
  },
  {
   "cell_type": "markdown",
   "metadata": {},
   "source": [
    "5. Crear un array de dimensiones 3x3x3 con valores aleatorios.\n"
   ]
  },
  {
   "cell_type": "code",
   "execution_count": null,
   "metadata": {},
   "outputs": [],
   "source": [
    "v5= np.random.random((3,3,3))\n",
    "v5"
   ]
  },
  {
   "cell_type": "markdown",
   "metadata": {},
   "source": [
    "6. Crear una matriz de 5x5 con 1 en los bordes y 0 en el interior.\n"
   ]
  },
  {
   "cell_type": "code",
   "execution_count": null,
   "metadata": {},
   "outputs": [],
   "source": [
    "v6 = np.zeros((5,5))\n",
    "v6[0,:]=1\n",
    "v6[-1,:]=1\n",
    "v6[:,0]=1\n",
    "v6[:,-1]=1\n",
    "v6"
   ]
  },
  {
   "cell_type": "markdown",
   "metadata": {},
   "source": [
    "7. Crear un vector de tamaño 10 con valores aleatorios y modificar el valor máximo\n",
    "por 0"
   ]
  },
  {
   "cell_type": "code",
   "execution_count": 96,
   "metadata": {},
   "outputs": [
    {
     "data": {
      "text/plain": [
       "array([81, 49, 15, 32, 71, 61, 54,  0, 32, 69], dtype=int32)"
      ]
     },
     "execution_count": 96,
     "metadata": {},
     "output_type": "execute_result"
    }
   ],
   "source": [
    "v7=np.random.randint(1,100, size=10)\n",
    "v7\n",
    "valor_max = np.max(v7)\n",
    "posicion = np.argmax(v7)\n",
    "v7[posicion] = 0\n",
    "v7"
   ]
  }
 ],
 "metadata": {
  "kernelspec": {
   "display_name": "Python 3",
   "language": "python",
   "name": "python3"
  },
  "language_info": {
   "codemirror_mode": {
    "name": "ipython",
    "version": 3
   },
   "file_extension": ".py",
   "mimetype": "text/x-python",
   "name": "python",
   "nbconvert_exporter": "python",
   "pygments_lexer": "ipython3",
   "version": "3.11.9"
  }
 },
 "nbformat": 4,
 "nbformat_minor": 2
}
